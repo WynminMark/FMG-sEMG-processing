{
 "cells": [
  {
   "cell_type": "code",
   "execution_count": 13,
   "metadata": {},
   "outputs": [],
   "source": [
    "import scipy.io as sio\n",
    "import pandas as pd\n"
   ]
  },
  {
   "cell_type": "code",
   "execution_count": null,
   "metadata": {},
   "outputs": [],
   "source": [
    "class signal_preprocessing:\n",
    "\n",
    "    def __init__(self, file_path, subject_name):\n",
    "        pass\n",
    "\n",
    "\n",
    "class features_extration:\n",
    "    def __init__(self, signal_df):\n",
    "        pass\n",
    "\n",
    "\n",
    "\n"
   ]
  },
  {
   "cell_type": "code",
   "execution_count": null,
   "metadata": {},
   "outputs": [],
   "source": [
    "def load_data(file_path, mat_name):\n",
    "    data = sio.loadmat(file_path)[mat_name]\n",
    "\n",
    "    return data"
   ]
  },
  {
   "cell_type": "code",
   "execution_count": 23,
   "metadata": {},
   "outputs": [],
   "source": [
    "file_folder_path = 'D:\\code\\data\\iFEMG_data_set'\n",
    "subjects = ['\\zpk1', '\\zpk2', '\\zpk3', '\\zpk4', '\\zpk5', '\\zpk6']\n",
    "mat_name = ['d0', 'd2', 'd5', 'd7', 'dm']\n",
    "\n",
    "signal_df = pd.DataFrame(columns = ('subject_name', 'rest_signal', 'active_signal', 'label', 'sensor_channel'))\n",
    "\n",
    "for i in subjects:\n",
    "    for j in mat_name:\n",
    "        # print('processing: ', i + j)\n",
    "        signal_df = signal_df.append({'subject_name' : i,\n",
    "                                    'rest_signal': sio.loadmat(file_folder_path + i + '\\\\' + j + '_rest.mat')[j + '_rest'],\n",
    "                                    'active_signal': sio.loadmat(file_folder_path + i + '\\\\' + j + '_active.mat')[j + '_active'], \n",
    "                                    'label' : j,\n",
    "                                    'sensor_channel' : 'bicps_br'}, ignore_index=True)\n",
    "    pass"
   ]
  },
  {
   "cell_type": "code",
   "execution_count": 25,
   "metadata": {},
   "outputs": [
    {
     "data": {
      "text/html": [
       "<div>\n",
       "<style scoped>\n",
       "    .dataframe tbody tr th:only-of-type {\n",
       "        vertical-align: middle;\n",
       "    }\n",
       "\n",
       "    .dataframe tbody tr th {\n",
       "        vertical-align: top;\n",
       "    }\n",
       "\n",
       "    .dataframe thead th {\n",
       "        text-align: right;\n",
       "    }\n",
       "</style>\n",
       "<table border=\"1\" class=\"dataframe\">\n",
       "  <thead>\n",
       "    <tr style=\"text-align: right;\">\n",
       "      <th></th>\n",
       "      <th>subject_name</th>\n",
       "      <th>rest_signal</th>\n",
       "      <th>active_signal</th>\n",
       "      <th>label</th>\n",
       "      <th>sensor_channel</th>\n",
       "    </tr>\n",
       "  </thead>\n",
       "  <tbody>\n",
       "    <tr>\n",
       "      <th>0</th>\n",
       "      <td>\\zpk1</td>\n",
       "      <td>[[88.0, 311.8869405619067], [88.0, 283.8395630...</td>\n",
       "      <td>[[203.0, -295.63014277918353], [203.0, -287.21...</td>\n",
       "      <td>d0</td>\n",
       "      <td>bicps_br</td>\n",
       "    </tr>\n",
       "    <tr>\n",
       "      <th>1</th>\n",
       "      <td>\\zpk1</td>\n",
       "      <td>[[106.0, -95.733998252022], [106.0, -159.97312...</td>\n",
       "      <td>[[283.0, -118.90756361272028], [283.0, -653.43...</td>\n",
       "      <td>d2</td>\n",
       "      <td>bicps_br</td>\n",
       "    </tr>\n",
       "    <tr>\n",
       "      <th>2</th>\n",
       "      <td>\\zpk1</td>\n",
       "      <td>[[0.0, -115.96887136551932], [0.0, -118.489493...</td>\n",
       "      <td>[[300.0, -92.69143911160802], [300.0, 925.2660...</td>\n",
       "      <td>d5</td>\n",
       "      <td>bicps_br</td>\n",
       "    </tr>\n",
       "    <tr>\n",
       "      <th>3</th>\n",
       "      <td>\\zpk1</td>\n",
       "      <td>[[115.0, -152.71052914404424], [115.0, -188.92...</td>\n",
       "      <td>[[265.0, -1168.724526078126], [265.0, -240.337...</td>\n",
       "      <td>d7</td>\n",
       "      <td>bicps_br</td>\n",
       "    </tr>\n",
       "    <tr>\n",
       "      <th>4</th>\n",
       "      <td>\\zpk1</td>\n",
       "      <td>[[79.0, -122.4545388065741], [79.0, -73.193093...</td>\n",
       "      <td>[[265.0, 868.3033449275356], [265.0, 800.74755...</td>\n",
       "      <td>dm</td>\n",
       "      <td>bicps_br</td>\n",
       "    </tr>\n",
       "  </tbody>\n",
       "</table>\n",
       "</div>"
      ],
      "text/plain": [
       "  subject_name                                        rest_signal  \\\n",
       "0        \\zpk1  [[88.0, 311.8869405619067], [88.0, 283.8395630...   \n",
       "1        \\zpk1  [[106.0, -95.733998252022], [106.0, -159.97312...   \n",
       "2        \\zpk1  [[0.0, -115.96887136551932], [0.0, -118.489493...   \n",
       "3        \\zpk1  [[115.0, -152.71052914404424], [115.0, -188.92...   \n",
       "4        \\zpk1  [[79.0, -122.4545388065741], [79.0, -73.193093...   \n",
       "\n",
       "                                       active_signal label sensor_channel  \n",
       "0  [[203.0, -295.63014277918353], [203.0, -287.21...    d0       bicps_br  \n",
       "1  [[283.0, -118.90756361272028], [283.0, -653.43...    d2       bicps_br  \n",
       "2  [[300.0, -92.69143911160802], [300.0, 925.2660...    d5       bicps_br  \n",
       "3  [[265.0, -1168.724526078126], [265.0, -240.337...    d7       bicps_br  \n",
       "4  [[265.0, 868.3033449275356], [265.0, 800.74755...    dm       bicps_br  "
      ]
     },
     "execution_count": 25,
     "metadata": {},
     "output_type": "execute_result"
    }
   ],
   "source": [
    "signal_df.loc[signal_df.loc[:, 'subject_name'] == '\\zpk1']"
   ]
  }
 ],
 "metadata": {
  "kernelspec": {
   "display_name": "Python 3.7.11 ('base')",
   "language": "python",
   "name": "python3"
  },
  "language_info": {
   "codemirror_mode": {
    "name": "ipython",
    "version": 3
   },
   "file_extension": ".py",
   "mimetype": "text/x-python",
   "name": "python",
   "nbconvert_exporter": "python",
   "pygments_lexer": "ipython3",
   "version": "3.7.11"
  },
  "orig_nbformat": 4,
  "vscode": {
   "interpreter": {
    "hash": "380d79c596abafaaa9fb4cb8ba4db6c26c52bcf6afda3a9f10104068bc659f2d"
   }
  }
 },
 "nbformat": 4,
 "nbformat_minor": 2
}
