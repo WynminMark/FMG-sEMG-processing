{
 "cells": [
  {
   "cell_type": "code",
   "execution_count": 1,
   "metadata": {},
   "outputs": [],
   "source": [
    "import scipy.io as sio\n",
    "import pandas as pd\n",
    "import numpy as np\n",
    "\n",
    "import matplotlib.pyplot as plt\n"
   ]
  },
  {
   "cell_type": "code",
   "execution_count": 11,
   "metadata": {},
   "outputs": [],
   "source": [
    "class SignalFeature():\n",
    "    # signal basic parameters\n",
    "    rest_original_signal = []   # original signal in 1 row []\n",
    "    active_original_signal = [] # original signal in 1 row []\n",
    "    fs = 0\n",
    "\n",
    "    rest_signal_len = 0     # original signal length\n",
    "    active_signal_len = 0   # original signal length\n",
    "    # data segment list, 2D list\n",
    "    # initiate in signal_segment function\n",
    "    rest_signal_segment = []\n",
    "    active_signal_segment = []\n",
    "    # init function\n",
    "    def __init__(self, rest_signal, active_signal, sample_freq):\n",
    "        # input signal: 1D list []\n",
    "        self.rest_original_signal = rest_signal\n",
    "        self.active_original_signal = active_signal\n",
    "        fs = sample_freq\n",
    "\n",
    "        self.rest_signal_len = len(rest_signal)\n",
    "        self.active_signal_len = len(active_signal)\n",
    "        pass\n",
    "    # signal split function\n",
    "    def signal_segment(self, window_len, step_len):\n",
    "        'split active/rest signal using sliding window'\n",
    "        # reset segment list\n",
    "        self.rest_signal_segment = []\n",
    "        self.active_signal_segment = []\n",
    "        # split rest signal\n",
    "        if self.rest_signal_len < window_len:\n",
    "            print(\"Rest signal length is below the window length\")\n",
    "            self.rest_signal_segment.append(self.rest_original_signal)\n",
    "        else:\n",
    "            for i in range((self.rest_signal_len - window_len)//step_len + 1):\n",
    "                self.rest_signal_segment.append(self.rest_original_signal[i*step_len : i*step_len + window_len])\n",
    "                pass\n",
    "            pass\n",
    "\n",
    "        # split active signal\n",
    "        if self.active_signal_len < window_len:\n",
    "            print(\"active signal length is below the window length\")\n",
    "            self.active_signal_segment.append(self.active_original_signal)\n",
    "        else:\n",
    "            for i in range((self.active_signal_len - window_len)//step_len + 1):\n",
    "                self.active_signal_segment.append(self.active_original_signal[i*step_len : i*step_len + window_len])\n",
    "                pass\n",
    "            pass\n",
    "\n",
    "    pass\n",
    "\n",
    "\n",
    "class FMGFeatures(SignalFeature):\n",
    "    def __init__(self, rest_signal, active_signal, sample_freq):\n",
    "        super().__init__(rest_signal, active_signal, sample_freq)\n",
    "        pass\n",
    "    def rest_mean():\n",
    "        pass\n",
    "    def active_mean():\n",
    "        pass\n",
    "    pass\n",
    "\n",
    "\n",
    "class sEMGFeatures(SignalFeature):\n",
    "    def __init__(self, rest_signal, active_signal, sample_freq):\n",
    "        super().__init__(rest_signal, active_signal, sample_freq)\n",
    "        pass\n",
    "    def rest_mean():\n",
    "        pass\n",
    "    def active_mean():\n",
    "        pass\n",
    "    def mean_frequency():\n",
    "        pass\n",
    "    def average_power_freq():\n",
    "        pass\n",
    "    pass"
   ]
  },
  {
   "cell_type": "code",
   "execution_count": 3,
   "metadata": {},
   "outputs": [],
   "source": [
    "# load all experimental data in signal_df \n",
    "# file path format: 'D:\\\\folder path\\\\subject name\\\\label_(rest/active).mat'\n",
    "file_folder_path = 'D:\\code\\data\\iFEMG_data_set'\n",
    "subjects = ['\\zpk1', '\\zpk2', '\\zpk3', '\\zpk4', '\\zpk5', '\\zpk6']\n",
    "mat_name = ['d0', 'd2', 'd5', 'd7', 'dm']\n",
    "\n",
    "signal_df = pd.DataFrame(columns = ('subject_name', 'rest_signal', 'active_signal', 'label', 'sensor_channel'))\n",
    "# rest/active signal: [:, 0]FMG, [:, 1]sEMG\n",
    "\n",
    "for i in subjects:\n",
    "    for j in mat_name:\n",
    "        # print('processing: ', i + j)\n",
    "        # build data frame, every row has a unique label\n",
    "        signal_df = signal_df.append({'subject_name' : i,\n",
    "                                    'rest_signal': sio.loadmat(file_folder_path + i + '\\\\' + j + '_rest.mat')[j + '_rest'],\n",
    "                                    'active_signal': sio.loadmat(file_folder_path + i + '\\\\' + j + '_active.mat')[j + '_active'], \n",
    "                                    'label' : j,\n",
    "                                    'sensor_channel' : 'bicps_br'}, ignore_index=True)\n",
    "\n",
    "    pass"
   ]
  },
  {
   "cell_type": "code",
   "execution_count": 9,
   "metadata": {},
   "outputs": [
    {
     "name": "stdout",
     "output_type": "stream",
     "text": [
      "0\n",
      "83\n"
     ]
    }
   ],
   "source": [
    "# 使用boolean值索引出某一名受试者的实验数据\n",
    "data = signal_df.loc[signal_df.loc[:, 'subject_name'] == '\\zpk1']\n",
    "\n",
    "#rest_FMG = data.loc[0, 'rest_signal'][:, 0]\n",
    "#rest_sEMG = data.loc[0, 'rest_signal'][:, 1]\n",
    "#active_FMG = data.loc[0, 'active_signal'][:, 0]\n",
    "sEMG1 = SignalFeature(data.loc[0, 'rest_signal'][:, 1], data.loc[0, 'active_signal'][:, 1], 1223)\n",
    "print(len(sEMG1.active_signal_segment))\n",
    "sEMG1.signal_segment(1223, 500)\n",
    "print(len(sEMG1.active_signal_segment))\n",
    "\n"
   ]
  },
  {
   "cell_type": "code",
   "execution_count": 5,
   "metadata": {},
   "outputs": [
    {
     "name": "stdout",
     "output_type": "stream",
     "text": [
      "<class 'pandas.core.frame.Pandas'>\n",
      "<class 'pandas.core.frame.Pandas'>\n",
      "<class 'pandas.core.frame.Pandas'>\n",
      "<class 'pandas.core.frame.Pandas'>\n",
      "<class 'pandas.core.frame.Pandas'>\n"
     ]
    }
   ],
   "source": [
    "for row in data.itertuples():\n",
    "    print(type(row))"
   ]
  },
  {
   "cell_type": "code",
   "execution_count": 6,
   "metadata": {},
   "outputs": [
    {
     "ename": "NameError",
     "evalue": "name 'Self' is not defined",
     "output_type": "error",
     "traceback": [
      "\u001b[1;31m---------------------------------------------------------------------------\u001b[0m",
      "\u001b[1;31mNameError\u001b[0m                                 Traceback (most recent call last)",
      "\u001b[1;32mC:\\Users\\WEIMYM~1\\AppData\\Local\\Temp/ipykernel_18932/1678952269.py\u001b[0m in \u001b[0;36m<module>\u001b[1;34m\u001b[0m\n\u001b[1;32m----> 1\u001b[1;33m \u001b[1;32mclass\u001b[0m \u001b[0mPerson\u001b[0m\u001b[1;33m:\u001b[0m\u001b[1;33m\u001b[0m\u001b[1;33m\u001b[0m\u001b[0m\n\u001b[0m\u001b[0;32m      2\u001b[0m     \u001b[1;32mdef\u001b[0m \u001b[0m__new__\u001b[0m\u001b[1;33m(\u001b[0m\u001b[0mcls\u001b[0m\u001b[1;33m:\u001b[0m \u001b[0mtype\u001b[0m\u001b[1;33m[\u001b[0m\u001b[0mSelf\u001b[0m\u001b[1;33m]\u001b[0m\u001b[1;33m)\u001b[0m \u001b[1;33m->\u001b[0m \u001b[0mSelf\u001b[0m\u001b[1;33m:\u001b[0m\u001b[1;33m\u001b[0m\u001b[1;33m\u001b[0m\u001b[0m\n\u001b[0;32m      3\u001b[0m         \u001b[0mprint\u001b[0m\u001b[1;33m(\u001b[0m\u001b[1;34m\"this is new\"\u001b[0m\u001b[1;33m)\u001b[0m\u001b[1;33m\u001b[0m\u001b[1;33m\u001b[0m\u001b[0m\n\u001b[0;32m      4\u001b[0m         \u001b[1;32mpass\u001b[0m\u001b[1;33m\u001b[0m\u001b[1;33m\u001b[0m\u001b[0m\n\u001b[0;32m      5\u001b[0m     \u001b[1;32mdef\u001b[0m \u001b[0m__init__\u001b[0m\u001b[1;33m(\u001b[0m\u001b[0mself\u001b[0m\u001b[1;33m)\u001b[0m \u001b[1;33m->\u001b[0m \u001b[1;32mNone\u001b[0m\u001b[1;33m:\u001b[0m\u001b[1;33m\u001b[0m\u001b[1;33m\u001b[0m\u001b[0m\n",
      "\u001b[1;32mC:\\Users\\WEIMYM~1\\AppData\\Local\\Temp/ipykernel_18932/1678952269.py\u001b[0m in \u001b[0;36mPerson\u001b[1;34m()\u001b[0m\n\u001b[0;32m      1\u001b[0m \u001b[1;32mclass\u001b[0m \u001b[0mPerson\u001b[0m\u001b[1;33m:\u001b[0m\u001b[1;33m\u001b[0m\u001b[1;33m\u001b[0m\u001b[0m\n\u001b[1;32m----> 2\u001b[1;33m     \u001b[1;32mdef\u001b[0m \u001b[0m__new__\u001b[0m\u001b[1;33m(\u001b[0m\u001b[0mcls\u001b[0m\u001b[1;33m:\u001b[0m \u001b[0mtype\u001b[0m\u001b[1;33m[\u001b[0m\u001b[0mSelf\u001b[0m\u001b[1;33m]\u001b[0m\u001b[1;33m)\u001b[0m \u001b[1;33m->\u001b[0m \u001b[0mSelf\u001b[0m\u001b[1;33m:\u001b[0m\u001b[1;33m\u001b[0m\u001b[1;33m\u001b[0m\u001b[0m\n\u001b[0m\u001b[0;32m      3\u001b[0m         \u001b[0mprint\u001b[0m\u001b[1;33m(\u001b[0m\u001b[1;34m\"this is new\"\u001b[0m\u001b[1;33m)\u001b[0m\u001b[1;33m\u001b[0m\u001b[1;33m\u001b[0m\u001b[0m\n\u001b[0;32m      4\u001b[0m         \u001b[1;32mpass\u001b[0m\u001b[1;33m\u001b[0m\u001b[1;33m\u001b[0m\u001b[0m\n\u001b[0;32m      5\u001b[0m     \u001b[1;32mdef\u001b[0m \u001b[0m__init__\u001b[0m\u001b[1;33m(\u001b[0m\u001b[0mself\u001b[0m\u001b[1;33m)\u001b[0m \u001b[1;33m->\u001b[0m \u001b[1;32mNone\u001b[0m\u001b[1;33m:\u001b[0m\u001b[1;33m\u001b[0m\u001b[1;33m\u001b[0m\u001b[0m\n",
      "\u001b[1;31mNameError\u001b[0m: name 'Self' is not defined"
     ]
    }
   ],
   "source": []
  },
  {
   "cell_type": "code",
   "execution_count": null,
   "metadata": {},
   "outputs": [],
   "source": []
  }
 ],
 "metadata": {
  "kernelspec": {
   "display_name": "Python 3.7.11 ('base')",
   "language": "python",
   "name": "python3"
  },
  "language_info": {
   "codemirror_mode": {
    "name": "ipython",
    "version": 3
   },
   "file_extension": ".py",
   "mimetype": "text/x-python",
   "name": "python",
   "nbconvert_exporter": "python",
   "pygments_lexer": "ipython3",
   "version": "3.7.11"
  },
  "orig_nbformat": 4,
  "vscode": {
   "interpreter": {
    "hash": "380d79c596abafaaa9fb4cb8ba4db6c26c52bcf6afda3a9f10104068bc659f2d"
   }
  }
 },
 "nbformat": 4,
 "nbformat_minor": 2
}
