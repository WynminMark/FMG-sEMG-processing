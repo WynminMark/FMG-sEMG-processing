{
 "cells": [
  {
   "cell_type": "code",
   "execution_count": 1,
   "metadata": {},
   "outputs": [],
   "source": [
    "import scipy.io as sio\n",
    "import pandas as pd\n"
   ]
  },
  {
   "cell_type": "code",
   "execution_count": 19,
   "metadata": {},
   "outputs": [
    {
     "ename": "SyntaxError",
     "evalue": "unexpected EOF while parsing (Temp/ipykernel_19832/2649532475.py, line 1)",
     "output_type": "error",
     "traceback": [
      "\u001b[1;36m  File \u001b[1;32m\"C:\\Users\\WEIMYM~1\\AppData\\Local\\Temp/ipykernel_19832/2649532475.py\"\u001b[1;36m, line \u001b[1;32m1\u001b[0m\n\u001b[1;33m    class FMGFeatures:\u001b[0m\n\u001b[1;37m                      ^\u001b[0m\n\u001b[1;31mSyntaxError\u001b[0m\u001b[1;31m:\u001b[0m unexpected EOF while parsing\n"
     ]
    }
   ],
   "source": [
    "class SignalFeatures():\n",
    "    # signal basic parameters\n",
    "    rest_original_signal = []   # 1 col signal\n",
    "    active_original_signal = [] # 1 col signal\n",
    "    fs = 0\n",
    "\n",
    "    rest_signal_len = 0\n",
    "    active_signal_len = 0\n",
    "    # data segment list, 2D list\n",
    "    # initiate in signal_segment function\n",
    "    rest_signal_segment = []\n",
    "    active_signal_segment = []\n",
    "    # init\n",
    "    def __init__(self, rest_signal, active_signal, sample_freq):\n",
    "        # input signal: 1D list []\n",
    "        self.rest_original_signal = rest_signal\n",
    "        self.active_original_signal = active_signal\n",
    "        fs = sample_freq\n",
    "\n",
    "        self.rest_signal_len = len(rest_signal)\n",
    "        self.active_signal_len = len(active_signal)\n",
    "        pass\n",
    "\n",
    "    def signal_segment(self, window_len, step_len):\n",
    "        # split rest signal\n",
    "        if self.rest_signal_len < window_len:\n",
    "            print(\"Rest signal length is below the window length\")\n",
    "            self.rest_signal_segment.append(self.rest_original_signal)\n",
    "        else:\n",
    "            for i in range((self.rest_signal_len - window_len)//step_len):\n",
    "                self.rest_signal_segment.append(self.rest_original_signal[i*step_len : i*step_len + window_len])\n",
    "                pass\n",
    "            pass\n",
    "\n",
    "        # split active signal\n",
    "        if self.active_signal_len < window_len:\n",
    "            print(\"active signal length is below the window length\")\n",
    "            self.active_signal_segment.append(self.active_original_signal)\n",
    "        else:\n",
    "            for i in range((self.active_signal_len - window_len)//step_len):\n",
    "                self.active_signal_segment.append(self.active_original_signal[i*step_len : i*step_len + window_len])\n",
    "                pass\n",
    "            pass\n",
    "\n",
    "    pass\n",
    "\n",
    "\n",
    "class FMGFeatures(SignalFeatures):\n",
    "\n",
    "    pass\n",
    "\n",
    "\n",
    "class sEMGFeatures(SignalFeatures):\n",
    "\n",
    "    pass"
   ]
  },
  {
   "cell_type": "code",
   "execution_count": 4,
   "metadata": {},
   "outputs": [],
   "source": [
    "# 读取预实验路径下的几次实验数据\n",
    "# file path format: 'D:\\\\folder path\\\\subject name\\\\label_(rest/active).mat'\n",
    "file_folder_path = 'D:\\code\\data\\iFEMG_data_set'\n",
    "subjects = ['\\zpk1', '\\zpk2', '\\zpk3', '\\zpk4', '\\zpk5', '\\zpk6']\n",
    "mat_name = ['d0', 'd2', 'd5', 'd7', 'dm']\n",
    "\n",
    "signal_df = pd.DataFrame(columns = ('subject_name', 'rest_signal', 'active_signal', 'label', 'sensor_channel'))\n",
    "\n",
    "for i in subjects:\n",
    "    for j in mat_name:\n",
    "        # print('processing: ', i + j)\n",
    "        # build data frame, every row has a unique label\n",
    "        signal_df = signal_df.append({'subject_name' : i,\n",
    "                                    'rest_signal': sio.loadmat(file_folder_path + i + '\\\\' + j + '_rest.mat')[j + '_rest'],\n",
    "                                    'active_signal': sio.loadmat(file_folder_path + i + '\\\\' + j + '_active.mat')[j + '_active'], \n",
    "                                    'label' : j,\n",
    "                                    'sensor_channel' : 'bicps_br'}, ignore_index=True)\n",
    "\n",
    "    pass"
   ]
  },
  {
   "cell_type": "code",
   "execution_count": 14,
   "metadata": {},
   "outputs": [
    {
     "name": "stdout",
     "output_type": "stream",
     "text": [
      "  subject_name                                        rest_signal  \\\n",
      "0        \\zpk1  [[88.0, 311.8869405619067], [88.0, 283.8395630...   \n",
      "1        \\zpk1  [[106.0, -95.733998252022], [106.0, -159.97312...   \n",
      "2        \\zpk1  [[0.0, -115.96887136551932], [0.0, -118.489493...   \n",
      "3        \\zpk1  [[115.0, -152.71052914404424], [115.0, -188.92...   \n",
      "4        \\zpk1  [[79.0, -122.4545388065741], [79.0, -73.193093...   \n",
      "\n",
      "                                       active_signal label sensor_channel  \n",
      "0  [[203.0, -295.63014277918353], [203.0, -287.21...    d0       bicps_br  \n",
      "1  [[283.0, -118.90756361272028], [283.0, -653.43...    d2       bicps_br  \n",
      "2  [[300.0, -92.69143911160802], [300.0, 925.2660...    d5       bicps_br  \n",
      "3  [[265.0, -1168.724526078126], [265.0, -240.337...    d7       bicps_br  \n",
      "4  [[265.0, 868.3033449275356], [265.0, 800.74755...    dm       bicps_br  \n",
      "<class 'numpy.ndarray'>\n"
     ]
    }
   ],
   "source": [
    "# 使用boolean值索引出某一名受试者的实验数据\n",
    "data = signal_df.loc[signal_df.loc[:, 'subject_name'] == '\\zpk1']\n",
    "print(data.head())\n",
    "print(type(data.loc[0, 'rest_signal']))"
   ]
  },
  {
   "cell_type": "code",
   "execution_count": 18,
   "metadata": {},
   "outputs": [
    {
     "name": "stdout",
     "output_type": "stream",
     "text": [
      "<class 'pandas.core.frame.Pandas'>\n",
      "<class 'pandas.core.frame.Pandas'>\n",
      "<class 'pandas.core.frame.Pandas'>\n",
      "<class 'pandas.core.frame.Pandas'>\n",
      "<class 'pandas.core.frame.Pandas'>\n"
     ]
    }
   ],
   "source": [
    "for row in data.itertuples():\n",
    "    print(type(row))"
   ]
  }
 ],
 "metadata": {
  "kernelspec": {
   "display_name": "Python 3.7.11 ('base')",
   "language": "python",
   "name": "python3"
  },
  "language_info": {
   "codemirror_mode": {
    "name": "ipython",
    "version": 3
   },
   "file_extension": ".py",
   "mimetype": "text/x-python",
   "name": "python",
   "nbconvert_exporter": "python",
   "pygments_lexer": "ipython3",
   "version": "3.7.11"
  },
  "orig_nbformat": 4,
  "vscode": {
   "interpreter": {
    "hash": "380d79c596abafaaa9fb4cb8ba4db6c26c52bcf6afda3a9f10104068bc659f2d"
   }
  }
 },
 "nbformat": 4,
 "nbformat_minor": 2
}
