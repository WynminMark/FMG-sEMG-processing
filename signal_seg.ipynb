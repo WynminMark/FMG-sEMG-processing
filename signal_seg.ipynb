{
 "cells": [
  {
   "cell_type": "code",
   "execution_count": 51,
   "metadata": {},
   "outputs": [
    {
     "name": "stdout",
     "output_type": "stream",
     "text": [
      "本地时间戳: 1742568804245\n",
      "上海时区时间戳: 1742540004245\n",
      "UTC时间戳: 1742568804245\n"
     ]
    }
   ],
   "source": [
    "\"\"\"\n",
    "观察sensor arrangement对FMG信号的影响，用label.txt的时间戳划分出包含5个完整收缩-舒张过程的信号，方便进行信号相似性分析\n",
    "\"\"\"\n",
    "import pandas as pd\n",
    "import matplotlib.pyplot as plt\n",
    "from datetime import datetime\n",
    "import pytz\n",
    "import time\n",
    "import sys\n",
    "sys.path.append(\"..\")\n",
    "from utils.utils_iFEMG_feature import read_label\n",
    "\n",
    "\n",
    "folder_path = r\"D:\\LEARNINNNNNNNNNNNNG\\ExperimentData\\20250319major_revision\\传感器位置对FMG的影响\"\n",
    "file_name_lst = ['cen-1kg', 'cen-2kg', 'nei-1kg', 'nei-2kg', 'wai-1kg', 'wai-2kg', 'jin-1kg', 'jin-2kg', 'yuan-1kg', 'yuan-2kg']\n",
    "\n",
    "\n",
    "# 函数定义\n",
    "def str_to_milliseconds(time_str, format_str=\"%Y-%m-%d %H:%M:%S,%f\", timezone=\"UTC\"):\n",
    "    \"\"\"\n",
    "    将时间字符串转换为毫秒级时间戳\n",
    "    \n",
    "    参数:\n",
    "        time_str: 时间字符串\n",
    "        format_str: 时间格式\n",
    "        timezone: 时区名称（如 'Asia/Shanghai'）\n",
    "    \"\"\"\n",
    "    # 解析时间字符串\n",
    "    dt = datetime.strptime(time_str, format_str)\n",
    "    \n",
    "    # 如果指定了时区，将时间转换到该时区\n",
    "    if timezone:\n",
    "        tz = pytz.timezone(timezone)\n",
    "        dt = tz.localize(dt)\n",
    "    \n",
    "    # 转换为毫秒级时间戳\n",
    "    return int(dt.timestamp() * 1000)\n",
    "\n",
    "# 使用示例\n",
    "time_str = \"2025-03-21 14:53:24,245\"\n",
    "\n",
    "# 默认使用本地时区\n",
    "local_timestamp = str_to_milliseconds(time_str)\n",
    "print(f\"本地时间戳: {local_timestamp}\")\n",
    "\n",
    "# 指定上海时区\n",
    "shanghai_timestamp = str_to_milliseconds(time_str, timezone='Asia/Shanghai')\n",
    "print(f\"上海时区时间戳: {shanghai_timestamp}\")\n",
    "\n",
    "# 使用UTC时区\n",
    "utc_timestamp = str_to_milliseconds(time_str, timezone='UTC')\n",
    "print(f\"UTC时间戳: {utc_timestamp}\")"
   ]
  },
  {
   "cell_type": "code",
   "execution_count": 52,
   "metadata": {},
   "outputs": [],
   "source": [
    "filtered_signal_lst = []\n",
    "for file_name in file_name_lst:\n",
    "    # 文件读取\n",
    "    raw_data = pd.read_table(folder_path + \"\\\\\" + file_name + \".db\", sep = ';', header = None)\n",
    "    label = read_label(folder_path + \"\\\\\" + file_name + \".txt\")\n",
    "\n",
    "    # 处理label中的时间戳获得信号的开始时间和结束时间\n",
    "    start_t = label[0][0] + \" \" + label[0][1]\n",
    "    start_t_stamp = str_to_milliseconds(start_t, format_str=\"%Y-%m-%d %H:%M:%S.%f\", timezone='UTC')\n",
    "\n",
    "    end_t = label[10][0] + \" \" + label[10][1]\n",
    "    end_t_stamp = str_to_milliseconds(end_t, format_str=\"%Y-%m-%d %H:%M:%S.%f\", timezone='UTC')\n",
    "\n",
    "    # 原始信号数据中的时间字符串转换为ms精度时间戳\n",
    "    raw_data['timestamp'] = pd.to_datetime(raw_data[0], format=\"%Y-%m-%d %H:%M:%S,%f\").astype('int64') // 10**6\n",
    "    \n",
    "    # 根据时间戳筛选数据，channel 1是FMG信号数据，将series重命名为file_name保存在lst中，方便之后进行合并\n",
    "    filtered_signal_lst.append(raw_data[(raw_data['timestamp'] >= start_t_stamp) & (raw_data['timestamp'] <= end_t_stamp)][1].rename(file_name))\n",
    "    \n",
    "    "
   ]
  },
  {
   "cell_type": "code",
   "execution_count": 53,
   "metadata": {},
   "outputs": [
    {
     "name": "stdout",
     "output_type": "stream",
     "text": [
      "113416\n",
      "113256\n",
      "113188\n",
      "113363\n",
      "112993\n",
      "113166\n",
      "113264\n",
      "113298\n",
      "113002\n",
      "113568\n"
     ]
    }
   ],
   "source": [
    "for i in filtered_signal_lst:\n",
    "    print(len(i))"
   ]
  }
 ],
 "metadata": {
  "kernelspec": {
   "display_name": "base",
   "language": "python",
   "name": "python3"
  },
  "language_info": {
   "codemirror_mode": {
    "name": "ipython",
    "version": 3
   },
   "file_extension": ".py",
   "mimetype": "text/x-python",
   "name": "python",
   "nbconvert_exporter": "python",
   "pygments_lexer": "ipython3",
   "version": "3.10.13"
  }
 },
 "nbformat": 4,
 "nbformat_minor": 2
}
