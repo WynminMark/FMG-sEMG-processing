{
 "cells": [
  {
   "cell_type": "code",
   "execution_count": 1,
   "metadata": {},
   "outputs": [],
   "source": [
    "import pandas as pd\n",
    "import scipy.io as sio\n",
    "import numpy as np\n",
    "\n",
    "from iFEMG_feature import db2mat, band_pass_filter"
   ]
  },
  {
   "cell_type": "code",
   "execution_count": 3,
   "metadata": {},
   "outputs": [],
   "source": [
    "# 转换.db至.mat数据\n",
    "file_list = [\"bicps-0kg\", \"bicps-05kg\", \"bicps-1kg\", \"bicps-2kg\", \"tricps-0kg\", \"tricps-05kg\", \"tricps-1kg\", \"tricps-2kg\"]\n",
    "db2mat(r\"E:\\Data\\20230310-iFEMG肌力测试\\chw20230310\", file_list)"
   ]
  },
  {
   "cell_type": "code",
   "execution_count": 4,
   "metadata": {},
   "outputs": [],
   "source": [
    "# 读取数据，测试滤波\n",
    "db_file_path = r\"E:\\Data\\积水潭患者数据集\\w8s1\\affected\\bi-2.db\"\n",
    "raw_data = pd.read_table(db_file_path, sep = ';', header = None)\n",
    "raw_sEMG = raw_data.iloc[:, 9].values.astype(np.float64)\n"
   ]
  },
  {
   "cell_type": "code",
   "execution_count": 5,
   "metadata": {},
   "outputs": [],
   "source": [
    "sio.savemat(r\"E:\\Data\\积水潭患者数据集\\w8s1\\affected\\test.mat\", {\"test\": sEMG})"
   ]
  },
  {
   "cell_type": "code",
   "execution_count": 5,
   "metadata": {},
   "outputs": [
    {
     "data": {
      "text/plain": [
       "18"
      ]
     },
     "execution_count": 5,
     "metadata": {},
     "output_type": "execute_result"
    }
   ],
   "source": [
    "raw_data.shape[1]"
   ]
  }
 ],
 "metadata": {
  "kernelspec": {
   "display_name": "base",
   "language": "python",
   "name": "python3"
  },
  "language_info": {
   "codemirror_mode": {
    "name": "ipython",
    "version": 3
   },
   "file_extension": ".py",
   "mimetype": "text/x-python",
   "name": "python",
   "nbconvert_exporter": "python",
   "pygments_lexer": "ipython3",
   "version": "3.10.9"
  },
  "orig_nbformat": 4
 },
 "nbformat": 4,
 "nbformat_minor": 2
}
