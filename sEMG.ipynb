{
 "cells": [
  {
   "cell_type": "code",
   "execution_count": 1,
   "metadata": {},
   "outputs": [],
   "source": [
    "import pandas as pd\n",
    "import scipy.io as sio\n",
    "import numpy as np\n",
    "\n",
    "from iFEMG_feature import db2mat, band_pass_filter"
   ]
  },
  {
   "cell_type": "code",
   "execution_count": 5,
   "metadata": {},
   "outputs": [
    {
     "name": "stdout",
     "output_type": "stream",
     "text": [
      "WARNING: File E:\\Data\\积水潭患者数据集\\0926s1\\healthy\\bi_0.mat NOT saved (same file already exists!)\n",
      "WARNING: File E:\\Data\\积水潭患者数据集\\0926s1\\healthy\\bi_05.mat NOT saved (same file already exists!)\n",
      "WARNING: File E:\\Data\\积水潭患者数据集\\0926s1\\healthy\\bi_1.mat NOT saved (same file already exists!)\n",
      "WARNING: File E:\\Data\\积水潭患者数据集\\0926s1\\healthy\\bi_2.mat NOT saved (same file already exists!)\n",
      "WARNING: File E:\\Data\\积水潭患者数据集\\0926s1\\healthy\\tri_0.mat NOT saved (same file already exists!)\n",
      "E:\\Data\\积水潭患者数据集\\0926s1\\healthy\\tri-05.db doesn't exist!\n",
      "E:\\Data\\积水潭患者数据集\\0926s1\\healthy\\tri-1.db doesn't exist!\n",
      "E:\\Data\\积水潭患者数据集\\0926s1\\healthy\\tri-2.db doesn't exist!\n"
     ]
    }
   ],
   "source": [
    "# 转换.db至.mat数据\n",
    "file_list = [\"bi-0\", \"bi-05\", \"bi-1\", \"bi-2\", \"tri-0\", \"tri-05\", \"tri-1\", \"tri-2\"]\n",
    "db2mat(r\"E:\\Data\\积水潭患者数据集\\0926s1\\healthy\", file_list)"
   ]
  },
  {
   "cell_type": "code",
   "execution_count": 4,
   "metadata": {},
   "outputs": [],
   "source": [
    "# 读取数据，测试滤波\n",
    "db_file_path = r\"E:\\Data\\积水潭患者数据集\\w8s1\\affected\\bi-2.db\"\n",
    "raw_data = pd.read_table(db_file_path, sep = ';', header = None)\n",
    "raw_sEMG = raw_data.iloc[:, 9].values.astype(np.float64)\n"
   ]
  },
  {
   "cell_type": "code",
   "execution_count": 5,
   "metadata": {},
   "outputs": [],
   "source": [
    "# sio.savemat(r\"E:\\Data\\积水潭患者数据集\\w8s1\\affected\\test.mat\", {\"test\": sEMG})"
   ]
  },
  {
   "cell_type": "code",
   "execution_count": 5,
   "metadata": {},
   "outputs": [
    {
     "data": {
      "text/plain": [
       "18"
      ]
     },
     "execution_count": 5,
     "metadata": {},
     "output_type": "execute_result"
    }
   ],
   "source": [
    "raw_data.shape[1]"
   ]
  }
 ],
 "metadata": {
  "kernelspec": {
   "display_name": "base",
   "language": "python",
   "name": "python3"
  },
  "language_info": {
   "codemirror_mode": {
    "name": "ipython",
    "version": 3
   },
   "file_extension": ".py",
   "mimetype": "text/x-python",
   "name": "python",
   "nbconvert_exporter": "python",
   "pygments_lexer": "ipython3",
   "version": "3.10.9"
  },
  "orig_nbformat": 4
 },
 "nbformat": 4,
 "nbformat_minor": 2
}
