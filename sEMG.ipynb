{
 "cells": [
  {
   "cell_type": "code",
   "execution_count": 1,
   "metadata": {},
   "outputs": [],
   "source": [
    "import pandas as pd\n",
    "import scipy.io as sio\n",
    "import numpy as np\n",
    "\n",
    "from iFEMG_feature import db2mat"
   ]
  },
  {
   "cell_type": "code",
   "execution_count": 2,
   "metadata": {},
   "outputs": [],
   "source": [
    "db2mat(r\"E:\\Data\\积水潭患者数据集\\w8s1\\affected\", [\"bi-0\", \"bi-05\", \"bi-1\", \"bi-2\"])"
   ]
  },
  {
   "cell_type": "code",
   "execution_count": 8,
   "metadata": {},
   "outputs": [
    {
     "data": {
      "text/plain": [
       "array([[    0.,     0.,  9637., ...,   258.,   281.,   258.],\n",
       "       [    0.,     0.,  9637., ...,   262.,   276.,   257.],\n",
       "       [10407.,     0.,  9637., ...,   254.,   271.,   241.],\n",
       "       ...,\n",
       "       [ 8920.,     0., 10725., ...,   260.,   273.,   265.],\n",
       "       [ 8920.,     0., 10725., ...,   262.,   279.,   246.],\n",
       "       [ 8920.,     0., 10725., ...,   259.,   281.,   239.]])"
      ]
     },
     "execution_count": 8,
     "metadata": {},
     "output_type": "execute_result"
    }
   ],
   "source": [
    "db_file_path = r\"E:\\Data\\积水潭患者数据集\\w8s1\\affected\\bi-2.db\"\n",
    "raw_data = pd.read_table(db_file_path, sep = ';', header = None)\n",
    "raw_data.iloc[:, 1:17].values.astype(np.float64)\n"
   ]
  },
  {
   "cell_type": "code",
   "execution_count": 4,
   "metadata": {},
   "outputs": [],
   "source": [
    "data = raw_data.iloc[:, 1:17].values\n",
    "sio.savemat(r\"E:\\Data\\积水潭患者数据集\\w8s1\\affected\\bi_2.mat\", {\"bi_2\": data})"
   ]
  },
  {
   "cell_type": "code",
   "execution_count": 5,
   "metadata": {},
   "outputs": [
    {
     "data": {
      "text/plain": [
       "18"
      ]
     },
     "execution_count": 5,
     "metadata": {},
     "output_type": "execute_result"
    }
   ],
   "source": [
    "raw_data.shape[1]"
   ]
  }
 ],
 "metadata": {
  "kernelspec": {
   "display_name": "base",
   "language": "python",
   "name": "python3"
  },
  "language_info": {
   "codemirror_mode": {
    "name": "ipython",
    "version": 3
   },
   "file_extension": ".py",
   "mimetype": "text/x-python",
   "name": "python",
   "nbconvert_exporter": "python",
   "pygments_lexer": "ipython3",
   "version": "3.10.9"
  },
  "orig_nbformat": 4
 },
 "nbformat": 4,
 "nbformat_minor": 2
}
