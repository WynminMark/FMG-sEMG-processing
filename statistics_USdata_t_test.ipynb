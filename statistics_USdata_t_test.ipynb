{
 "cells": [
  {
   "cell_type": "code",
   "execution_count": 1,
   "metadata": {},
   "outputs": [],
   "source": [
    "import numpy as np\n",
    "import scipy.stats as stats\n",
    "import pandas as pd\n",
    "import seaborn as sns\n",
    "import matplotlib.pyplot as plt\n",
    "from statannotations.Annotator import Annotator\n",
    "from utils_iFEMG_feature import df_save_csv, fea_df_norm, df_norm"
   ]
  },
  {
   "cell_type": "code",
   "execution_count": 2,
   "metadata": {},
   "outputs": [
    {
     "name": "stderr",
     "output_type": "stream",
     "text": [
      "C:\\Users\\WeimyMark\\AppData\\Local\\Temp\\ipykernel_20948\\553822264.py:32: FutureWarning: The behavior of DataFrame concatenation with empty or all-NA entries is deprecated. In a future version, this will no longer exclude empty or all-NA columns when determining the result dtypes. To retain the old behavior, exclude the relevant entries before the concat operation.\n",
      "  bicps_curl_df = pd.concat([bicps_curl_df, pd.DataFrame({\"subject\":              [name],\n",
      "C:\\Users\\WeimyMark\\AppData\\Local\\Temp\\ipykernel_20948\\553822264.py:40: FutureWarning: The behavior of DataFrame concatenation with empty or all-NA entries is deprecated. In a future version, this will no longer exclude empty or all-NA columns when determining the result dtypes. To retain the old behavior, exclude the relevant entries before the concat operation.\n",
      "  tricps_stretch_df = pd.concat([tricps_stretch_df, pd.DataFrame({\"subject\":              [name],\n"
     ]
    }
   ],
   "source": [
    "\"\"\"\n",
    "读取超声数据\n",
    "对每个人的两次测量求平均值\n",
    "\"\"\"\n",
    "excel_file_path = r\"E:\\Data\\202403补实验\\超声结果\\统计结果\\USdata202403.xlsx\"\n",
    "\n",
    "# 初始化两个df分别用于存储弯举和伸展的所有超声数据\n",
    "bicps_curl_df = pd.DataFrame(columns=[\"subject\", \"weight\", \"bicps_br_R\", \"bicps_br_thickness\", \"tricps_med_R\", \"tricps_med_thickness\", \"tricps_lat_R\", \"tricps_lat_thickness\"])\n",
    "tricps_stretch_df = pd.DataFrame(columns=[\"subject\", \"weight\", \"bicps_br_R\", \"bicps_br_thickness\", \"tricps_med_R\", \"tricps_med_thickness\", \"tricps_lat_R\", \"tricps_lat_thickness\"])\n",
    "\n",
    "# 获取excel中的所有sheet name\n",
    "excel_file = pd.ExcelFile(excel_file_path)\n",
    "sheet_names = excel_file.sheet_names    # list\n",
    "\n",
    "# 提取受试者名字\n",
    "subject_names = []\n",
    "for name_string in sheet_names:\n",
    "    subject_names.append(name_string.split(\"-\")[0])\n",
    "    pass\n",
    "subject_names = list(set(subject_names))\n",
    "# print(subject_names)\n",
    "\n",
    "# 提取相同名字的数据\n",
    "for name in subject_names:\n",
    "    two_test_name = [i for i in sheet_names if i.startswith(name)]  # 存储相同被试两次测试结果的sheet name\n",
    "    # 读取两个结果的df求平均\n",
    "    df1 = pd.read_excel(excel_file_path, two_test_name[0], header=[0,1,2])\n",
    "    df2 = pd.read_excel(excel_file_path, two_test_name[1], header=[0,1,2])\n",
    "    result_df = (df1 + df2)/2\n",
    "    # 遍历4行数据（0kg, 0.5kg ,1kg ,2kg)，数据分别存进df\n",
    "    for i in range(4):\n",
    "        bicps_curl_df = pd.concat([bicps_curl_df, pd.DataFrame({\"subject\":              [name],\n",
    "                                                                \"weight\":               [result_df[\"weight\"].values[i][0]],\n",
    "                                                                \"bicps_br_R\":           [result_df['bicps_br']['bicps_br']['R'].values[i]],\n",
    "                                                                \"bicps_br_thickness\":   [result_df['bicps_br']['bicps_br']['thickness'].values[i]],\n",
    "                                                                \"tricps_med_R\":         [result_df['bicps_br']['tricps_m']['R'].values[i]],\n",
    "                                                                \"tricps_med_thickness\": [result_df['bicps_br']['tricps_m']['thickness'].values[i]],\n",
    "                                                                \"tricps_lat_R\":         [result_df['bicps_br']['tricps_l']['R'].values[i]],\n",
    "                                                                \"tricps_lat_thickness\": [result_df['bicps_br']['tricps_l']['thickness'].values[i]]})], axis=0, ignore_index=True)\n",
    "        tricps_stretch_df = pd.concat([tricps_stretch_df, pd.DataFrame({\"subject\":              [name],\n",
    "                                                                        \"weight\":               [result_df[\"weight\"].values[i][0]],\n",
    "                                                                        \"bicps_br_R\":           [result_df['tricps_br']['bicps_br']['R'].values[i]],\n",
    "                                                                        \"bicps_br_thickness\":   [result_df['tricps_br']['bicps_br']['thickness'].values[i]],\n",
    "                                                                        \"tricps_med_R\":         [result_df['tricps_br']['tricps_m']['R'].values[i]],\n",
    "                                                                        \"tricps_med_thickness\": [result_df['tricps_br']['tricps_m']['thickness'].values[i]],\n",
    "                                                                        \"tricps_lat_R\":         [result_df['tricps_br']['tricps_l']['R'].values[i]],\n",
    "                                                                        \"tricps_lat_thickness\": [result_df['tricps_br']['tricps_l']['thickness'].values[i]]})], axis=0, ignore_index=True)\n",
    "        pass\n",
    "    pass"
   ]
  },
  {
   "cell_type": "code",
   "execution_count": 3,
   "metadata": {},
   "outputs": [
    {
     "name": "stdout",
     "output_type": "stream",
     "text": [
      "File E:\\Data\\202403补实验\\超声结果\\统计结果\\US_bicps_mean_202403.csv saved!\n",
      "File E:\\Data\\202403补实验\\超声结果\\统计结果\\US_tricps_mean_202403.csv saved!\n"
     ]
    }
   ],
   "source": [
    "# 超声平均数据存储\n",
    "df_save_csv(bicps_curl_df, r\"E:\\Data\\202403补实验\\超声结果\\统计结果\\US_bicps_mean_202403.csv\")\n",
    "df_save_csv(tricps_stretch_df, r\"E:\\Data\\202403补实验\\超声结果\\统计结果\\US_tricps_mean_202403.csv\")"
   ]
  },
  {
   "cell_type": "code",
   "execution_count": 5,
   "metadata": {},
   "outputs": [
    {
     "name": "stderr",
     "output_type": "stream",
     "text": [
      "C:\\Users\\WeimyMark\\AppData\\Local\\Temp\\ipykernel_17340\\2348353935.py:19: FutureWarning: The behavior of DataFrame concatenation with empty or all-NA entries is deprecated. In a future version, this will no longer exclude empty or all-NA columns when determining the result dtypes. To retain the old behavior, exclude the relevant entries before the concat operation.\n",
      "  bicps_curl_df = pd.concat([bicps_curl_df, pd.DataFrame({\"subject\":              [name],\n",
      "C:\\Users\\WeimyMark\\AppData\\Local\\Temp\\ipykernel_17340\\2348353935.py:27: FutureWarning: The behavior of DataFrame concatenation with empty or all-NA entries is deprecated. In a future version, this will no longer exclude empty or all-NA columns when determining the result dtypes. To retain the old behavior, exclude the relevant entries before the concat operation.\n",
      "  tricps_stretch_df = pd.concat([tricps_stretch_df, pd.DataFrame({\"subject\":              [name],\n"
     ]
    }
   ],
   "source": [
    "\"\"\"\n",
    "读取超声数据存进df\n",
    "\"\"\"\n",
    "excel_file_path = r\"E:\\Data\\20230424-单人双次iFEMG肌力等级测试\\US_data-n.xlsx\"\n",
    "\n",
    "# 初始化两个df分别用于存储弯举和伸展的所有超声数据\n",
    "bicps_curl_df = pd.DataFrame(columns=[\"subject\", \"weight\", \"bicps_br_R\", \"bicps_br_thickness\", \"tricps_med_R\", \"tricps_med_thickness\", \"tricps_lat_R\", \"tricps_lat_thickness\"])\n",
    "tricps_stretch_df = pd.DataFrame(columns=[\"subject\", \"weight\", \"bicps_br_R\", \"bicps_br_thickness\", \"tricps_med_R\", \"tricps_med_thickness\", \"tricps_lat_R\", \"tricps_lat_thickness\"])\n",
    "\n",
    "# 获取excel中的所有sheet name\n",
    "excel_file = pd.ExcelFile(excel_file_path)\n",
    "sheet_names = excel_file.sheet_names\n",
    "\n",
    "# 遍历所有sheet读取数据并存入两个df\n",
    "for name in sheet_names:\n",
    "    sheet_df = pd.read_excel(excel_file_path, name, header=[0,1,2])\n",
    "    # 遍历4行数据（0kg, 0.5kg ,1kg ,2kg)\n",
    "    for i in range(4):\n",
    "        bicps_curl_df = pd.concat([bicps_curl_df, pd.DataFrame({\"subject\":              [name],\n",
    "                                                                \"weight\":               [sheet_df[\"weight\"].values[i][0]],\n",
    "                                                                \"bicps_br_R\":           [sheet_df['bicps_br']['bicps_br']['R'].values[i]],\n",
    "                                                                \"bicps_br_thickness\":   [sheet_df['bicps_br']['bicps_br']['thickness'].values[i]],\n",
    "                                                                \"tricps_med_R\":         [sheet_df['bicps_br']['tricps_m']['R'].values[i]],\n",
    "                                                                \"tricps_med_thickness\": [sheet_df['bicps_br']['tricps_m']['thickness'].values[i]],\n",
    "                                                                \"tricps_lat_R\":         [sheet_df['bicps_br']['tricps_l']['R'].values[i]],\n",
    "                                                                \"tricps_lat_thickness\": [sheet_df['bicps_br']['tricps_l']['thickness'].values[i]]})], axis=0, ignore_index=True)\n",
    "        tricps_stretch_df = pd.concat([tricps_stretch_df, pd.DataFrame({\"subject\":              [name],\n",
    "                                                                        \"weight\":               [sheet_df[\"weight\"].values[i][0]],\n",
    "                                                                        \"bicps_br_R\":           [sheet_df['tricps_br']['bicps_br']['R'].values[i]],\n",
    "                                                                        \"bicps_br_thickness\":   [sheet_df['tricps_br']['bicps_br']['thickness'].values[i]],\n",
    "                                                                        \"tricps_med_R\":         [sheet_df['tricps_br']['tricps_m']['R'].values[i]],\n",
    "                                                                        \"tricps_med_thickness\": [sheet_df['tricps_br']['tricps_m']['thickness'].values[i]],\n",
    "                                                                        \"tricps_lat_R\":         [sheet_df['tricps_br']['tricps_l']['R'].values[i]],\n",
    "                                                                        \"tricps_lat_thickness\": [sheet_df['tricps_br']['tricps_l']['thickness'].values[i]]})], axis=0, ignore_index=True)\n",
    "        pass\n",
    "    \n",
    "    pass"
   ]
  },
  {
   "cell_type": "code",
   "execution_count": 7,
   "metadata": {},
   "outputs": [
    {
     "name": "stdout",
     "output_type": "stream",
     "text": [
      "File E:\\Data\\20230424-单人双次iFEMG肌力等级测试\\US_bicps.csv saved!\n",
      "File E:\\Data\\20230424-单人双次iFEMG肌力等级测试\\US_tricps.csv saved!\n"
     ]
    }
   ],
   "source": [
    "\n",
    "df_save_csv(bicps_curl_df, r\"E:\\Data\\20230424-单人双次iFEMG肌力等级测试\\US_bicps.csv\")\n",
    "df_save_csv(tricps_stretch_df, r\"E:\\Data\\20230424-单人双次iFEMG肌力等级测试\\US_tricps.csv\")"
   ]
  },
  {
   "cell_type": "code",
   "execution_count": 2,
   "metadata": {},
   "outputs": [],
   "source": [
    "\"\"\"\n",
    "读取超声数据\n",
    "归一化\n",
    "存进df\"\"\"\n",
    "excel_file_path = r\"E:\\Data\\20230424-单人双次iFEMG肌力等级测试\\US_data-n.xlsx\"\n",
    "\n",
    "# 初始化两个df分别用于存储弯举和伸展的所有超声数据\n",
    "bicps_curl_df = pd.DataFrame(columns=[\"subject\", \"weight\", \"bicps_br_R\", \"bicps_br_thickness\", \"tricps_med_R\", \"tricps_med_thickness\", \"tricps_lat_R\", \"tricps_lat_thickness\"])\n",
    "tricps_stretch_df = pd.DataFrame(columns=[\"subject\", \"weight\", \"bicps_br_R\", \"bicps_br_thickness\", \"tricps_med_R\", \"tricps_med_thickness\", \"tricps_lat_R\", \"tricps_lat_thickness\"])\n",
    "\n",
    "# 获取excel中的所有sheet name\n",
    "excel_file = pd.ExcelFile(excel_file_path)\n",
    "sheet_names = excel_file.sheet_names\n",
    "\n",
    "# 遍历所有sheet读取数据并存入两个df\n",
    "for name in sheet_names:\n",
    "    sheet_df = pd.read_excel(excel_file_path, name, header=[0,1,2])\n",
    "    # 对每个sheet_df进行归一化\n",
    "    sheet_df_norm = df_norm(sheet_df, col_name=[( 'bicps_br',           'bicps_br',                  'R'),\n",
    "                                                ( 'bicps_br',           'bicps_br',          'thickness'),\n",
    "                                                ( 'bicps_br',           'tricps_m',                  'R'),\n",
    "                                                ( 'bicps_br',           'tricps_m',          'thickness'),\n",
    "                                                ( 'bicps_br',           'tricps_l',                  'R'),\n",
    "                                                ( 'bicps_br',           'tricps_l',          'thickness'),\n",
    "                                                ('tricps_br',           'bicps_br',                  'R'),\n",
    "                                                ('tricps_br',           'bicps_br',          'thickness'),\n",
    "                                                ('tricps_br',           'tricps_m',                  'R'),\n",
    "                                                ('tricps_br',           'tricps_m',          'thickness'),\n",
    "                                                ('tricps_br',           'tricps_l',                  'R'),\n",
    "                                                ('tricps_br',           'tricps_l',          'thickness')], method=\"min-max\")\n",
    "    # 遍历4行数据（0kg, 0.5kg ,1kg ,2kg)\n",
    "    for i in range(4):\n",
    "        bicps_curl_df = pd.concat([bicps_curl_df, pd.DataFrame({\"subject\":              [name],\n",
    "                                                                \"weight\":               [sheet_df_norm[\"weight\"].values[i][0]],\n",
    "                                                                \"bicps_br_R\":           [sheet_df_norm['bicps_br']['bicps_br']['R'].values[i]],\n",
    "                                                                \"bicps_br_thickness\":   [sheet_df_norm['bicps_br']['bicps_br']['thickness'].values[i]],\n",
    "                                                                \"tricps_med_R\":         [sheet_df_norm['bicps_br']['tricps_m']['R'].values[i]],\n",
    "                                                                \"tricps_med_thickness\": [sheet_df_norm['bicps_br']['tricps_m']['thickness'].values[i]],\n",
    "                                                                \"tricps_lat_R\":         [sheet_df_norm['bicps_br']['tricps_l']['R'].values[i]],\n",
    "                                                                \"tricps_lat_thickness\": [sheet_df_norm['bicps_br']['tricps_l']['thickness'].values[i]]})], axis=0, ignore_index=True)\n",
    "        tricps_stretch_df = pd.concat([tricps_stretch_df, pd.DataFrame({\"subject\":              [name],\n",
    "                                                                        \"weight\":               [sheet_df_norm[\"weight\"].values[i][0]],\n",
    "                                                                        \"bicps_br_R\":           [sheet_df_norm['tricps_br']['bicps_br']['R'].values[i]],\n",
    "                                                                        \"bicps_br_thickness\":   [sheet_df_norm['tricps_br']['bicps_br']['thickness'].values[i]],\n",
    "                                                                        \"tricps_med_R\":         [sheet_df_norm['tricps_br']['tricps_m']['R'].values[i]],\n",
    "                                                                        \"tricps_med_thickness\": [sheet_df_norm['tricps_br']['tricps_m']['thickness'].values[i]],\n",
    "                                                                        \"tricps_lat_R\":         [sheet_df_norm['tricps_br']['tricps_l']['R'].values[i]],\n",
    "                                                                        \"tricps_lat_thickness\": [sheet_df_norm['tricps_br']['tricps_l']['thickness'].values[i]]})], axis=0, ignore_index=True)\n",
    "        pass\n",
    "    \n",
    "    pass"
   ]
  },
  {
   "cell_type": "code",
   "execution_count": 8,
   "metadata": {},
   "outputs": [
    {
     "name": "stdout",
     "output_type": "stream",
     "text": [
      "Done!\n"
     ]
    }
   ],
   "source": [
    "tri_0kg = tricps_stretch_df[tricps_stretch_df[\"weight\"] == 1]\n",
    "df_save_csv(tri_0kg, r\"E:\\Data\\20230424-单人双次iFEMG肌力等级测试\\超声\\tricps_1kg_df.csv\")"
   ]
  },
  {
   "cell_type": "code",
   "execution_count": 6,
   "metadata": {},
   "outputs": [
    {
     "name": "stdout",
     "output_type": "stream",
     "text": [
      "Done!\n"
     ]
    }
   ],
   "source": [
    "df_save_csv(tricps_stretch_df, r\"E:\\Data\\20230424-单人双次iFEMG肌力等级测试\\超声\\tricps_stretch_df.csv\")"
   ]
  },
  {
   "cell_type": "code",
   "execution_count": 13,
   "metadata": {},
   "outputs": [
    {
     "data": {
      "text/plain": [
       "array([26.7983    , 26.57      , 27.285     , 28.1617    , 27.19      ,\n",
       "       26.2217    , 26.48      , 27.7417    , 30.1667    , 30.5717    ,\n",
       "       31.2333    , 30.9017    , 30.4067    , 30.6183    , 30.495     ,\n",
       "       31.8383    , 25.995     , 26.06833333, 26.51833333, 27.42166667,\n",
       "       29.8783    , 27.595     , 26.975     , 28.2533    , 26.30333333,\n",
       "       25.36333333, 27.4       , 28.35333333, 25.21      , 27.27833333,\n",
       "       26.88666667, 30.83      , 27.80166667, 26.49      , 27.41      ,\n",
       "       28.06666667, 28.15666667, 28.09666667, 26.73333333, 28.87      ,\n",
       "       24.97333333, 23.32333333, 23.31333333, 25.78333333, 21.00666667,\n",
       "       22.665     , 24.33666667, 24.35833333, 27.11      , 28.11166667,\n",
       "       27.15833333, 27.08166667, 26.76      , 28.11      , 27.07666667,\n",
       "       26.92833333, 28.57666667, 27.985     , 26.91166667, 31.14666667,\n",
       "       30.485     , 30.07166667, 30.52666667, 34.05      , 24.54      ,\n",
       "       24.78166667, 24.59      , 25.97833333, 23.64      , 23.16666667,\n",
       "       25.41333333, 27.05666667, 34.52333333, 32.36833333, 33.08833333,\n",
       "       33.165     , 33.96333333, 33.78666667, 36.23833333, 36.64166667])"
      ]
     },
     "execution_count": 13,
     "metadata": {},
     "output_type": "execute_result"
    }
   ],
   "source": [
    "\n",
    "bicps_curl_df[\"tricps_lat_thickness\"].values"
   ]
  },
  {
   "cell_type": "code",
   "execution_count": 15,
   "metadata": {},
   "outputs": [
    {
     "name": "stdout",
     "output_type": "stream",
     "text": [
      "p-value annotation legend:\n",
      "      ns: p <= 1.00e+00\n",
      "       *: 1.00e-02 < p <= 5.00e-02\n",
      "      **: 1.00e-03 < p <= 1.00e-02\n",
      "     ***: 1.00e-04 < p <= 1.00e-03\n",
      "    ****: p <= 1.00e-04\n",
      "\n",
      "0 vs. 0.5: Mann-Whitney-Wilcoxon test two-sided, P_val:2.390e-02 U_stat=2.840e+02\n",
      "0.5 vs. 1: Mann-Whitney-Wilcoxon test two-sided, P_val:1.075e-01 U_stat=2.600e+02\n",
      "0 vs. 1: Mann-Whitney-Wilcoxon test two-sided, P_val:8.357e-04 U_stat=3.240e+02\n"
     ]
    },
    {
     "data": {
      "image/png": "[encoded data removed]",
      "text/plain": [
       "<Figure size 500x400 with 1 Axes>"
      ]
     },
     "metadata": {},
     "output_type": "display_data"
    }
   ],
   "source": [
    "\"\"\"\n",
    "结果可视化\n",
    "\n",
    "对超声数据进行配对的T检验？\n",
    "实际使用的是单因素方差分析\n",
    "\"\"\"\n",
    "\n",
    "df2show = tricps_stretch_df\n",
    "x = \"weight\"\n",
    "y = \"tricps_lat_R\"\n",
    "order = [0, 0.5, 1]\n",
    "fig,ax = plt.subplots(figsize=(5,4),dpi=100,facecolor=\"w\")\n",
    "ax = sns.boxplot(data=df2show, x=x, y=y, order=order,ax=ax)\n",
    " \n",
    "#pairs=[(0, 0.5), (0, 1), (0, 2), (0.5, 1), (0.5, 2), (1, 2)]\n",
    "pairs=[(0, 0.5), (0, 1), (0.5, 1)]\n",
    "annotator = Annotator(ax, pairs, data=df2show, x=x, y=y, order=order)\n",
    "annotator.configure(test='Mann-Whitney', text_format='star',line_height=0.03,line_width=1)\n",
    "annotator.apply_and_annotate()\n",
    " \n",
    "ax.tick_params(which='major',direction='in',length=3,width=1.,labelsize=14,bottom=False)\n",
    "for spine in [\"top\",\"left\",\"right\"]:\n",
    "    ax.spines[spine].set_visible(False)\n",
    "ax.spines['bottom'].set_linewidth(2)\n",
    "ax.grid(axis='y',ls='--',c='gray')\n",
    "ax.set_axisbelow(True)\n",
    "plt.show()"
   ]
  },
  {
   "cell_type": "code",
   "execution_count": 15,
   "metadata": {},
   "outputs": [
    {
     "data": {
      "text/html": [
       "<div>\n",
       "<style scoped>\n",
       "    .dataframe tbody tr th:only-of-type {\n",
       "        vertical-align: middle;\n",
       "    }\n",
       "\n",
       "    .dataframe tbody tr th {\n",
       "        vertical-align: top;\n",
       "    }\n",
       "\n",
       "    .dataframe thead th {\n",
       "        text-align: right;\n",
       "    }\n",
       "</style>\n",
       "<table border=\"1\" class=\"dataframe\">\n",
       "  <thead>\n",
       "    <tr style=\"text-align: right;\">\n",
       "      <th></th>\n",
       "      <th>subject</th>\n",
       "      <th>weight</th>\n",
       "      <th>bicps_br_R</th>\n",
       "      <th>bicps_br_thickness</th>\n",
       "      <th>tricps_med_R</th>\n",
       "      <th>tricps_med_thickness</th>\n",
       "      <th>tricps_lat_R</th>\n",
       "      <th>tricps_lat_thickness</th>\n",
       "    </tr>\n",
       "  </thead>\n",
       "  <tbody>\n",
       "    <tr>\n",
       "      <th>0</th>\n",
       "      <td>lpy-1</td>\n",
       "      <td>0.0</td>\n",
       "      <td>1.000000</td>\n",
       "      <td>0.000000</td>\n",
       "      <td>1.000000</td>\n",
       "      <td>1.000000</td>\n",
       "      <td>0.000000</td>\n",
       "      <td>0.143432</td>\n",
       "    </tr>\n",
       "    <tr>\n",
       "      <th>1</th>\n",
       "      <td>lpy-1</td>\n",
       "      <td>0.5</td>\n",
       "      <td>0.623235</td>\n",
       "      <td>0.539472</td>\n",
       "      <td>0.391181</td>\n",
       "      <td>0.546934</td>\n",
       "      <td>1.000000</td>\n",
       "      <td>0.000000</td>\n",
       "    </tr>\n",
       "    <tr>\n",
       "      <th>2</th>\n",
       "      <td>lpy-1</td>\n",
       "      <td>1.0</td>\n",
       "      <td>0.534473</td>\n",
       "      <td>0.882000</td>\n",
       "      <td>0.000000</td>\n",
       "      <td>0.158353</td>\n",
       "      <td>0.612454</td>\n",
       "      <td>0.449205</td>\n",
       "    </tr>\n",
       "    <tr>\n",
       "      <th>3</th>\n",
       "      <td>lpy-1</td>\n",
       "      <td>2.0</td>\n",
       "      <td>0.000000</td>\n",
       "      <td>1.000000</td>\n",
       "      <td>0.674147</td>\n",
       "      <td>0.000000</td>\n",
       "      <td>0.000000</td>\n",
       "      <td>1.000000</td>\n",
       "    </tr>\n",
       "    <tr>\n",
       "      <th>4</th>\n",
       "      <td>lpy-2</td>\n",
       "      <td>0.0</td>\n",
       "      <td>1.000000</td>\n",
       "      <td>0.000000</td>\n",
       "      <td>0.461221</td>\n",
       "      <td>1.000000</td>\n",
       "      <td>1.000000</td>\n",
       "      <td>0.637039</td>\n",
       "    </tr>\n",
       "    <tr>\n",
       "      <th>...</th>\n",
       "      <td>...</td>\n",
       "      <td>...</td>\n",
       "      <td>...</td>\n",
       "      <td>...</td>\n",
       "      <td>...</td>\n",
       "      <td>...</td>\n",
       "      <td>...</td>\n",
       "      <td>...</td>\n",
       "    </tr>\n",
       "    <tr>\n",
       "      <th>75</th>\n",
       "      <td>zpk-1</td>\n",
       "      <td>2.0</td>\n",
       "      <td>0.000000</td>\n",
       "      <td>1.000000</td>\n",
       "      <td>0.000000</td>\n",
       "      <td>1.000000</td>\n",
       "      <td>0.000000</td>\n",
       "      <td>0.369683</td>\n",
       "    </tr>\n",
       "    <tr>\n",
       "      <th>76</th>\n",
       "      <td>zpk-2</td>\n",
       "      <td>0.0</td>\n",
       "      <td>1.000000</td>\n",
       "      <td>0.000000</td>\n",
       "      <td>0.790144</td>\n",
       "      <td>0.000000</td>\n",
       "      <td>1.000000</td>\n",
       "      <td>0.061880</td>\n",
       "    </tr>\n",
       "    <tr>\n",
       "      <th>77</th>\n",
       "      <td>zpk-2</td>\n",
       "      <td>0.5</td>\n",
       "      <td>0.357293</td>\n",
       "      <td>0.595376</td>\n",
       "      <td>0.530926</td>\n",
       "      <td>1.000000</td>\n",
       "      <td>0.000000</td>\n",
       "      <td>0.000000</td>\n",
       "    </tr>\n",
       "    <tr>\n",
       "      <th>78</th>\n",
       "      <td>zpk-2</td>\n",
       "      <td>1.0</td>\n",
       "      <td>0.116111</td>\n",
       "      <td>0.450867</td>\n",
       "      <td>0.000000</td>\n",
       "      <td>0.244306</td>\n",
       "      <td>0.868180</td>\n",
       "      <td>0.858727</td>\n",
       "    </tr>\n",
       "    <tr>\n",
       "      <th>79</th>\n",
       "      <td>zpk-2</td>\n",
       "      <td>2.0</td>\n",
       "      <td>0.000000</td>\n",
       "      <td>1.000000</td>\n",
       "      <td>1.000000</td>\n",
       "      <td>0.819876</td>\n",
       "      <td>0.243185</td>\n",
       "      <td>1.000000</td>\n",
       "    </tr>\n",
       "  </tbody>\n",
       "</table>\n",
       "<p>80 rows × 8 columns</p>\n",
       "</div>"
      ],
      "text/plain": [
       "   subject  weight  bicps_br_R  bicps_br_thickness  tricps_med_R  \\\n",
       "0    lpy-1     0.0    1.000000            0.000000      1.000000   \n",
       "1    lpy-1     0.5    0.623235            0.539472      0.391181   \n",
       "2    lpy-1     1.0    0.534473            0.882000      0.000000   \n",
       "3    lpy-1     2.0    0.000000            1.000000      0.674147   \n",
       "4    lpy-2     0.0    1.000000            0.000000      0.461221   \n",
       "..     ...     ...         ...                 ...           ...   \n",
       "75   zpk-1     2.0    0.000000            1.000000      0.000000   \n",
       "76   zpk-2     0.0    1.000000            0.000000      0.790144   \n",
       "77   zpk-2     0.5    0.357293            0.595376      0.530926   \n",
       "78   zpk-2     1.0    0.116111            0.450867      0.000000   \n",
       "79   zpk-2     2.0    0.000000            1.000000      1.000000   \n",
       "\n",
       "    tricps_med_thickness  tricps_lat_R  tricps_lat_thickness  \n",
       "0               1.000000      0.000000              0.143432  \n",
       "1               0.546934      1.000000              0.000000  \n",
       "2               0.158353      0.612454              0.449205  \n",
       "3               0.000000      0.000000              1.000000  \n",
       "4               1.000000      1.000000              0.637039  \n",
       "..                   ...           ...                   ...  \n",
       "75              1.000000      0.000000              0.369683  \n",
       "76              0.000000      1.000000              0.061880  \n",
       "77              1.000000      0.000000              0.000000  \n",
       "78              0.244306      0.868180              0.858727  \n",
       "79              0.819876      0.243185              1.000000  \n",
       "\n",
       "[80 rows x 8 columns]"
      ]
     },
     "execution_count": 15,
     "metadata": {},
     "output_type": "execute_result"
    }
   ],
   "source": [
    "bicps_curl_df"
   ]
  },
  {
   "cell_type": "code",
   "execution_count": 4,
   "metadata": {},
   "outputs": [
    {
     "name": "stderr",
     "output_type": "stream",
     "text": [
      "e:\\anaconda\\install\\lib\\site-packages\\seaborn\\categorical.py:81: FutureWarning: iteritems is deprecated and will be removed in a future version. Use .items instead.\n",
      "  plot_data = [np.asarray(s, np.float) for k, s in iter_data]\n"
     ]
    },
    {
     "ename": "TypeError",
     "evalue": "Annotator.__init__() missing 2 required positional arguments: 'ax' and 'pairs'",
     "output_type": "error",
     "traceback": [
      "\u001b[1;31m---------------------------------------------------------------------------\u001b[0m",
      "\u001b[1;31mTypeError\u001b[0m                                 Traceback (most recent call last)",
      "Cell \u001b[1;32mIn[4], line 11\u001b[0m\n\u001b[0;32m      7\u001b[0m f_value, p_value \u001b[39m=\u001b[39m stats\u001b[39m.\u001b[39mf_oneway(group1, group2, group3)\n\u001b[0;32m      9\u001b[0m sns\u001b[39m.\u001b[39mboxplot(data\u001b[39m=\u001b[39mdata)\n\u001b[1;32m---> 11\u001b[0m annot \u001b[39m=\u001b[39m Annotator(data\u001b[39m=\u001b[39;49mdata)\n\u001b[0;32m     12\u001b[0m annot\u001b[39m.\u001b[39mapply_test(hue_column\u001b[39m=\u001b[39m\u001b[39m'\u001b[39m\u001b[39mGroup\u001b[39m\u001b[39m'\u001b[39m)\n\u001b[0;32m     13\u001b[0m annot\u001b[39m.\u001b[39mannotate()\n",
      "\u001b[1;31mTypeError\u001b[0m: Annotator.__init__() missing 2 required positional arguments: 'ax' and 'pairs'"
     ]
    },
    {
     "data": {
      "image/png": "[encoded data removed]",
      "text/plain": [
       "<Figure size 640x480 with 1 Axes>"
      ]
     },
     "metadata": {},
     "output_type": "display_data"
    }
   ],
   "source": [
    "group1 = [1, 2, 3, 4, 5]\n",
    "group2 = [2, 4, 6, 8, 10]\n",
    "group3 = [3, 6, 9, 12, 15]\n",
    "\n",
    "data = pd.DataFrame({'Group1': group1, 'Group2': group2, 'Group3': group3})\n",
    "\n",
    "f_value, p_value = stats.f_oneway(group1, group2, group3)\n",
    "\n",
    "sns.boxplot(data=data)\n",
    "\n",
    "annot = Annotator(data=data)\n",
    "annot.apply_test(hue_column='Group')\n",
    "annot.annotate()"
   ]
  }
 ],
 "metadata": {
  "kernelspec": {
   "display_name": "base",
   "language": "python",
   "name": "python3"
  },
  "language_info": {
   "codemirror_mode": {
    "name": "ipython",
    "version": 3
   },
   "file_extension": ".py",
   "mimetype": "text/x-python",
   "name": "python",
   "nbconvert_exporter": "python",
   "pygments_lexer": "ipython3",
   "version": "3.10.13"
  },
  "orig_nbformat": 4
 },
 "nbformat": 4,
 "nbformat_minor": 2
}
