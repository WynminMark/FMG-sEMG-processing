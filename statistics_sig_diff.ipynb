{
 "cells": [
  {
   "cell_type": "code",
   "execution_count": 2,
   "metadata": {},
   "outputs": [],
   "source": [
    "import numpy as np\n",
    "import scipy.stats as stats\n",
    "import pandas as pd\n",
    "import seaborn as sns\n",
    "import matplotlib.pyplot as plt"
   ]
  },
  {
   "cell_type": "code",
   "execution_count": 3,
   "metadata": {},
   "outputs": [],
   "source": [
    "df_healthy = pd.read_csv(r\"E:\\Data\\积水潭患者数据集\\w1s1\\healthy\\w1s1_healthy_bicps_br.csv\", header=[0, 1], index_col=0)\n",
    "df_affected = pd.read_csv(r\"E:\\Data\\积水潭患者数据集\\w1s1\\affected\\w1s1_affected_bicps_br.csv\", header=[0, 1], index_col=0)"
   ]
  },
  {
   "cell_type": "code",
   "execution_count": 8,
   "metadata": {},
   "outputs": [],
   "source": [
    "# 提取特定的一块肌肉\n",
    "df_healthy_oneCH = df_healthy['agonist_ch1'][['label(kg)', 'FMG_increase', 'mav', 'rms', 'wave_length', 'zero_crossing', 'slope_sign_change', 'mean_freq', 'mean_power_freq']]\n",
    "df_affected_oneCH = df_affected['agonist_ch1'][['label(kg)', 'FMG_increase', 'mav', 'rms', 'wave_length', 'zero_crossing', 'slope_sign_change', 'mean_freq', 'mean_power_freq']]\n",
    "\n",
    "# 进一步提取某一个重量\n",
    "df_healthy_2test = df_healthy_oneCH[(df_healthy_oneCH['label(kg)'] == 2)]\n",
    "df_affected_2test = df_affected_oneCH[(df_affected_oneCH['label(kg)'] == 2)]"
   ]
  },
  {
   "cell_type": "code",
   "execution_count": 10,
   "metadata": {},
   "outputs": [
    {
     "data": {
      "text/plain": [
       "<bound method NDFrame.head of     label(kg)  FMG_increase       mav       rms  wave_length  zero_crossing  \\\n",
       "15        2.0      0.561955 -0.454670 -0.731743    -0.164220      -0.081199   \n",
       "16        2.0      0.578702 -0.442221 -0.520699    -0.087874       0.587810   \n",
       "17        2.0      0.630966 -0.372806 -0.548916    -0.035801       0.079839   \n",
       "18        2.0      0.537485 -0.154815 -0.281930     0.044344       0.011982   \n",
       "19        2.0      0.442718 -0.510464 -0.582048    -0.303962       0.049707   \n",
       "\n",
       "    slope_sign_change  mean_freq  mean_power_freq  \n",
       "15          -0.029008  43.208117        64.052101  \n",
       "16          -0.051976  41.580021        56.478776  \n",
       "17          -0.070475  25.232844        46.826746  \n",
       "18          -0.073150  34.297573        56.149904  \n",
       "19          -0.057708  21.924618        44.619738  >"
      ]
     },
     "execution_count": 10,
     "metadata": {},
     "output_type": "execute_result"
    }
   ],
   "source": [
    "df_healthy_2test.head"
   ]
  },
  {
   "cell_type": "code",
   "execution_count": 11,
   "metadata": {},
   "outputs": [
    {
     "name": "stdout",
     "output_type": "stream",
     "text": [
      "{'label(kg)': nan, 'FMG_increase': 1.6755530919053255e-07, 'mav': 0.0010549211949189181, 'rms': 0.027426478078915288, 'wave_length': 4.986900503465949e-07, 'zero_crossing': 0.001866355865111631, 'slope_sign_change': 0.49417215299341144, 'mean_freq': 0.25407555262127907, 'mean_power_freq': 0.1191770572479122}\n",
      "{'label(kg)': nan, 'FMG_increase': -10.061532853525932, 'mav': -4.192130114273464, 'rms': -2.483541429627402, 'wave_length': -9.150815882642002, 'zero_crossing': 3.8884961946586825, 'slope_sign_change': -0.7034668507223544, 'mean_freq': -1.1932992164796605, 'mean_power_freq': -1.6681598904466068}\n"
     ]
    },
    {
     "name": "stderr",
     "output_type": "stream",
     "text": [
      "C:\\Users\\WeimyMark\\AppData\\Local\\Temp\\ipykernel_21580\\666012614.py:5: RuntimeWarning: Precision loss occurred in moment calculation due to catastrophic cancellation. This occurs when the data are nearly identical. Results may be unreliable.\n",
      "  t_stat, p_value = stats.ttest_ind(df_healthy_2test[column], df_affected_2test[column])\n"
     ]
    }
   ],
   "source": [
    "# 对两个DataFrame的每一列分别计算显著性差异\n",
    "result_p = {}\n",
    "result_t = {}\n",
    "for column in df_healthy_2test.columns:\n",
    "    t_stat, p_value = stats.ttest_ind(df_healthy_2test[column], df_affected_2test[column])\n",
    "    result_t[column] = t_stat\n",
    "    result_p[column] = p_value\n",
    "    pass\n",
    "\n",
    "print(result_p)\n",
    "print(result_t)"
   ]
  },
  {
   "cell_type": "code",
   "execution_count": null,
   "metadata": {},
   "outputs": [],
   "source": [
    "fig, ax = plt.subplots()\n",
    "ax.bar(result_p.keys(), result_p.values())\n",
    "ax.set_xlabel('Columns')\n",
    "ax.set_ylabel('P-values')\n",
    "ax.set_title('Significance Difference between Two DataFrames')\n",
    "plt.show()"
   ]
  }
 ],
 "metadata": {
  "kernelspec": {
   "display_name": "base",
   "language": "python",
   "name": "python3"
  },
  "language_info": {
   "codemirror_mode": {
    "name": "ipython",
    "version": 3
   },
   "file_extension": ".py",
   "mimetype": "text/x-python",
   "name": "python",
   "nbconvert_exporter": "python",
   "pygments_lexer": "ipython3",
   "version": "3.10.9"
  },
  "orig_nbformat": 4
 },
 "nbformat": 4,
 "nbformat_minor": 2
}
