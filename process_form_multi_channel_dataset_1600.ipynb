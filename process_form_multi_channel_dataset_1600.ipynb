{
 "cells": [
  {
   "cell_type": "code",
   "execution_count": 2,
   "metadata": {},
   "outputs": [],
   "source": [
    "'''\n",
    "计算一次实验中的多路iFEMG信号的特征\n",
    "\n",
    "更改4通道iFEMG采集板\n",
    "1600采样率\n",
    "\n",
    "没有计算主动与拮抗肌肉之间的差值'''\n",
    "\n",
    "import pandas as pd\n",
    "\n",
    "from utils_gui_model import form_feature_df_4chs\n",
    "from utils_iFEMG_feature import df_save_csv"
   ]
  },
  {
   "cell_type": "code",
   "execution_count": 40,
   "metadata": {},
   "outputs": [
    {
     "name": "stdout",
     "output_type": "stream",
     "text": [
      "Empty DataFrame\n",
      "Columns: [(bicps_br, subject_name), (bicps_br, height(cm)), (bicps_br, weight(kg)), (bicps_br, gender), (bicps_br, age), (bicps_br, label(kg)), (bicps_br, FMG), (bicps_br, mav), (bicps_br, rms), (bicps_br, wave_length), (bicps_br, zero_crossing), (bicps_br, slope_sign_change), (bicps_br, mean_freq), (bicps_br, mean_power_freq), (tricps_br_medial, subject_name), (tricps_br_medial, height(cm)), (tricps_br_medial, weight(kg)), (tricps_br_medial, gender), (tricps_br_medial, age), (tricps_br_medial, label(kg)), (tricps_br_medial, FMG), (tricps_br_medial, mav), (tricps_br_medial, rms), (tricps_br_medial, wave_length), (tricps_br_medial, zero_crossing), (tricps_br_medial, slope_sign_change), (tricps_br_medial, mean_freq), (tricps_br_medial, mean_power_freq), (tricps_br_lateral, subject_name), (tricps_br_lateral, height(cm)), (tricps_br_lateral, weight(kg)), (tricps_br_lateral, gender), (tricps_br_lateral, age), (tricps_br_lateral, label(kg)), (tricps_br_lateral, FMG), (tricps_br_lateral, mav), (tricps_br_lateral, rms), (tricps_br_lateral, wave_length), (tricps_br_lateral, zero_crossing), (tricps_br_lateral, slope_sign_change), (tricps_br_lateral, mean_freq), (tricps_br_lateral, mean_power_freq)]\n",
      "Index: []\n",
      "\n",
      "[0 rows x 42 columns]\n",
      "Init dataframe shape:  (0, 42)\n"
     ]
    }
   ],
   "source": [
    "\"\"\"\n",
    "init dataframe\n",
    "\"\"\"\n",
    "feature_name_list = ['subject_name', 'height(cm)', 'weight(kg)', 'gender', 'age', 'label(kg)', \n",
    "                    'FMG', 'mav', 'rms', 'wave_length', 'zero_crossing', 'slope_sign_change', 'mean_freq', 'mean_power_freq']\n",
    "\n",
    "ch1_str = \"bicps_br\"\n",
    "ch2_str = \"tricps_br_medial\"\n",
    "ch3_str = \"tricps_br_lateral\"\n",
    "\n",
    "ch1_name_list = [ch1_str for i in feature_name_list]\n",
    "ch2_name_list = [ch2_str for i in feature_name_list]\n",
    "ch3_name_list = [ch3_str for i in feature_name_list]\n",
    "\n",
    "all_feature_df = pd.DataFrame(columns=pd.MultiIndex.from_product([[ch1_str, ch2_str, ch3_str], feature_name_list]))\n",
    "print(all_feature_df)\n",
    "print(\"Init dataframe shape: \", all_feature_df.shape)"
   ]
  },
  {
   "cell_type": "code",
   "execution_count": 41,
   "metadata": {},
   "outputs": [
    {
     "name": "stdout",
     "output_type": "stream",
     "text": [
      "(6, 42)\n",
      "(6, 42)\n"
     ]
    },
    {
     "name": "stderr",
     "output_type": "stream",
     "text": [
      "C:\\Users\\WeimyMark\\AppData\\Local\\Temp\\ipykernel_7252\\3815438092.py:39: FutureWarning: The behavior of DataFrame concatenation with empty or all-NA entries is deprecated. In a future version, this will no longer exclude empty or all-NA columns when determining the result dtypes. To retain the old behavior, exclude the relevant entries before the concat operation.\n",
      "  all_feature_df = pd.concat([all_feature_df, temp_df], axis=0, ignore_index=True)\n"
     ]
    },
    {
     "name": "stdout",
     "output_type": "stream",
     "text": [
      "(6, 42)\n",
      "(12, 42)\n",
      "(6, 42)\n",
      "(18, 42)\n",
      "(6, 42)\n",
      "(24, 42)\n"
     ]
    },
    {
     "data": {
      "text/plain": [
       "<bound method NDFrame.head of        bicps_br                                                       \\\n",
       "   subject_name height(cm) weight(kg) gender age label(kg)       FMG   \n",
       "0            zx        178         70      1  24         0  0.359893   \n",
       "1            zx        178         70      1  24         0  0.341278   \n",
       "2            zx        178         70      1  24         0  0.334667   \n",
       "3            zx        178         70      1  24         0  0.299586   \n",
       "4            zx        178         70      1  24         0  0.316192   \n",
       "5            zx        178         70      1  24         0  0.265951   \n",
       "6            zx        178         70      1  24       0.5  0.405582   \n",
       "7            zx        178         70      1  24       0.5  0.376885   \n",
       "8            zx        178         70      1  24       0.5  0.568697   \n",
       "9            zx        178         70      1  24       0.5  0.523383   \n",
       "10           zx        178         70      1  24       0.5  0.546663   \n",
       "11           zx        178         70      1  24       0.5  0.467409   \n",
       "12           zx        178         70      1  24         1  0.551311   \n",
       "13           zx        178         70      1  24         1  0.521591   \n",
       "14           zx        178         70      1  24         1  0.482618   \n",
       "15           zx        178         70      1  24         1  0.488332   \n",
       "16           zx        178         70      1  24         1  0.478494   \n",
       "17           zx        178         70      1  24         1  0.499478   \n",
       "18           zx        178         70      1  24         2  0.490751   \n",
       "19           zx        178         70      1  24         2  0.493020   \n",
       "20           zx        178         70      1  24         2  0.490561   \n",
       "21           zx        178         70      1  24         2  0.487651   \n",
       "22           zx        178         70      1  24         2  0.518377   \n",
       "23           zx        178         70      1  24         2  0.537365   \n",
       "\n",
       "                                     ... tricps_br_lateral            \\\n",
       "          mav       rms wave_length  ...               age label(kg)   \n",
       "0   -0.863271 -0.960133   -0.695285  ...                24         0   \n",
       "1    0.600761  0.888185    0.283990  ...                24         0   \n",
       "2   -0.309933 -0.683545   -0.240000  ...                24         0   \n",
       "3    0.440144 -0.180120    0.370916  ...                24         0   \n",
       "4   -0.708597 -0.745372   -0.511423  ...                24         0   \n",
       "5   -0.592025 -0.617425   -0.398846  ...                24         0   \n",
       "6    0.831185 -0.164895    1.234415  ...                24       0.5   \n",
       "7    0.836936 -0.293082    1.738232  ...                24       0.5   \n",
       "8   -0.267177 -0.645977    0.260630  ...                24       0.5   \n",
       "9   -0.136012 -0.568620    0.389888  ...                24       0.5   \n",
       "10   2.942976  0.275195    3.315307  ...                24       0.5   \n",
       "11  12.294842  7.883884   11.289525  ...                24       0.5   \n",
       "12  -0.480157 -0.642579   -0.299895  ...                24         1   \n",
       "13   1.441076 -0.286580    2.858817  ...                24         1   \n",
       "14   2.669302  2.774604    1.657429  ...                24         1   \n",
       "15   0.259495  0.848116    0.090314  ...                24         1   \n",
       "16  -0.426719 -0.793539   -0.195857  ...                24         1   \n",
       "17  -0.621996 -0.855181   -0.385443  ...                24         1   \n",
       "18  -0.525806 -0.586856   -0.306324  ...                24         2   \n",
       "19   1.078195  0.545065    1.490614  ...                24         2   \n",
       "20   2.343584  0.769875    2.342939  ...                24         2   \n",
       "21   0.608532  2.377454    0.299408  ...                24         2   \n",
       "22  -0.266290 -0.605207   -0.119935  ...                24         2   \n",
       "23  -0.035271 -0.037468    0.029542  ...                24         2   \n",
       "\n",
       "                                                                               \\\n",
       "         FMG       mav        rms wave_length zero_crossing slope_sign_change   \n",
       "0   0.896718  0.532186   0.408792    0.535006     -0.107891         -0.094249   \n",
       "1   0.864793  0.458335   0.246444    0.470245     -0.172347         -0.171678   \n",
       "2   0.647944  0.832305   0.663625    0.658314     -0.243898         -0.238122   \n",
       "3   0.635946  0.802140   0.719105    0.671107     -0.106023         -0.184973   \n",
       "4   0.386212 -0.007481  -0.121194    0.125402      0.155610          0.052513   \n",
       "5   0.334148  0.497921   0.543386    0.295054     -0.181694         -0.202456   \n",
       "6   0.493982  1.104156   0.608125    1.121425     -0.113464         -0.322309   \n",
       "7   0.517791  1.361875   0.894018    1.453016     -0.168596         -0.331323   \n",
       "8   0.613017  2.664025   1.957377    1.610089     -0.338796         -0.390295   \n",
       "9   0.431299  0.208190  -0.612748    1.152521     -0.147360         -0.342664   \n",
       "10  0.422441  0.049331  -0.700556    0.958129     -0.072713         -0.300275   \n",
       "11  0.569177  6.215357  15.331143    4.264538     -0.243197         -0.286413   \n",
       "12  0.625467  2.702976   3.823476    1.200679     -0.079392         -0.317294   \n",
       "13  0.363474  3.637519   3.491895    2.370282     -0.134729         -0.432055   \n",
       "14  0.370677  1.046236   0.758055    1.761241     -0.048543         -0.344927   \n",
       "15  0.436516  3.626928   5.227147    1.558301     -0.372776         -0.447840   \n",
       "16  0.366799  0.491347  -0.214183    0.792225     -0.306449         -0.364280   \n",
       "17  0.394714  2.403294   1.610768    1.692164     -0.336408         -0.468519   \n",
       "18  0.852978  0.163757   0.132210    0.373426      0.114032         -0.311833   \n",
       "19  0.627211 -0.354087  -0.502461   -0.154072      0.212603          0.135560   \n",
       "20  0.598535 -0.636431  -0.891982   -0.236623      0.049168          0.053213   \n",
       "21  0.533876 -0.401250  -0.573136    0.033634     -0.011937          0.001138   \n",
       "22  0.468217 -0.857978  -0.966709   -0.607391      0.049611          0.026728   \n",
       "23  0.496821 -0.398588  -0.741176   -0.141175      0.022019          0.017450   \n",
       "\n",
       "                                \n",
       "     mean_freq mean_power_freq  \n",
       "0    52.886227       58.124824  \n",
       "1    55.897142       62.153808  \n",
       "2    51.079009       56.160969  \n",
       "3    50.561266       57.820613  \n",
       "4    47.788395       54.366781  \n",
       "5    54.312073       58.945836  \n",
       "6    55.839889       63.096344  \n",
       "7    58.200236       66.699722  \n",
       "8    30.134199       42.885985  \n",
       "9    58.419171       66.167377  \n",
       "10   55.585941       62.869877  \n",
       "11   23.752999       36.420152  \n",
       "12   17.098830       23.129460  \n",
       "13   15.416724       25.445555  \n",
       "14   55.733404       60.841956  \n",
       "15   18.620719       25.186667  \n",
       "16   52.240046       56.145514  \n",
       "17   27.119389       36.243786  \n",
       "18   53.860221       58.569179  \n",
       "19   55.607544       66.454723  \n",
       "20  101.765414      139.681330  \n",
       "21   36.557939       54.444042  \n",
       "22   98.947263      137.881456  \n",
       "23   64.547857      108.697959  \n",
       "\n",
       "[24 rows x 42 columns]>"
      ]
     },
     "execution_count": 41,
     "metadata": {},
     "output_type": "execute_result"
    }
   ],
   "source": [
    "# signal_channel, 信号对应的传感器通道\n",
    "signal_channel_dic = {\"bicps_br\": 1,\n",
    "                      \"tricps_br_lateral\": 2,\n",
    "                      \"tricps_br_medial\": 4}\n",
    "\n",
    "# 存储文件名对应重量标签的dic\n",
    "# bicps_dic = {'bi-0': 0, 'bi-05': 0.5, 'bi-1': 1, 'bi-2': 2}\n",
    "# tricps_dic = {'tri-0': 0, 'tri-05': 0.5, 'tri-1': 1}\n",
    "bicps_dic = {'bi-0': 0, 'bi-05': 0.5, 'bi-1': 1, 'bi-2': 2}\n",
    "tricps_dic = {'tri-0': 0, 'tri-05': 0.5, 'tri-1': 1, 'tri-2': 2}\n",
    "\n",
    "# 需要更改\n",
    "folder_path = r\"E:\\Data\\202403补实验\\zx\"\n",
    "file_name_dic = bicps_dic\n",
    "subject_name = \"zx\"\n",
    "subject_arg_input = {\"subject_height\": 178,\n",
    "                    \"subject_weight\": 70,\n",
    "                    \"subject_age\": 24,\n",
    "                    \"subject_gender\": 1,\n",
    "                    \"subject_name\": subject_name}\n",
    "###########################################################################\n",
    "# 以上都需要改\n",
    "############################################################################\n",
    "\n",
    "for key, value in file_name_dic.items():\n",
    "    #raw_data = pd.read_table(folder_path+'\\\\'+file_name_list1[i]+'.db', sep = ';', header = None)\n",
    "    #label = read_label(folder_path+'\\\\'+file_name_list1[i]+'.txt')\n",
    "    temp_df = form_feature_df_4chs(db_file_path = folder_path + '\\\\' + key + '.db',\n",
    "                              time_file_path = folder_path + '\\\\' + key + '.txt',\n",
    "                              channel_name_dic = signal_channel_dic,\n",
    "                              abandon_ms = 1000,\n",
    "                              strength_level = value,\n",
    "                              **subject_arg_input)\n",
    "    try:\n",
    "        print(temp_df.shape)\n",
    "    except AttributeError:\n",
    "        pass\n",
    "    # 数据加入all_feature_df\n",
    "    all_feature_df = pd.concat([all_feature_df, temp_df], axis=0, ignore_index=True)\n",
    "    print(all_feature_df.shape)\n",
    "    pass\n",
    "\n",
    "all_feature_df.head\n"
   ]
  },
  {
   "cell_type": "code",
   "execution_count": 42,
   "metadata": {},
   "outputs": [
    {
     "name": "stdout",
     "output_type": "stream",
     "text": [
      "File E:\\Data\\202403补实验\\zx\\zx_curl.csv saved!\n"
     ]
    }
   ],
   "source": [
    "\"\"\"\n",
    "写入文件，增加覆盖检查功能\n",
    "运行前更改：\n",
    "    1. 肌肉名称\n",
    "\"\"\"\n",
    "filename = folder_path + '\\\\' + subject_name + \"_curl.csv\"\n",
    "\n",
    "df_save_csv(all_feature_df, filename)"
   ]
  }
 ],
 "metadata": {
  "kernelspec": {
   "display_name": "Python 3.7.11 ('base')",
   "language": "python",
   "name": "python3"
  },
  "language_info": {
   "codemirror_mode": {
    "name": "ipython",
    "version": 3
   },
   "file_extension": ".py",
   "mimetype": "text/x-python",
   "name": "python",
   "nbconvert_exporter": "python",
   "pygments_lexer": "ipython3",
   "version": "3.10.13"
  },
  "orig_nbformat": 4,
  "vscode": {
   "interpreter": {
    "hash": "380d79c596abafaaa9fb4cb8ba4db6c26c52bcf6afda3a9f10104068bc659f2d"
   }
  }
 },
 "nbformat": 4,
 "nbformat_minor": 2
}
