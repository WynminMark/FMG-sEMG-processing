{
 "cells": [
  {
   "cell_type": "code",
   "execution_count": 1,
   "metadata": {},
   "outputs": [],
   "source": [
    "\"\"\"\n",
    "批量读取.csv特征集(bicps or tricps)\n",
    "进行数据合并、归一化等操作\n",
    "\"\"\"\n",
    "import pandas as pd\n",
    "\n",
    "from utils_iFEMG_feature import df_save_csv"
   ]
  },
  {
   "cell_type": "code",
   "execution_count": 6,
   "metadata": {},
   "outputs": [
    {
     "name": "stdout",
     "output_type": "stream",
     "text": [
      "文件数: 8\n"
     ]
    }
   ],
   "source": [
    "'''\n",
    "'''\n",
    "\n",
    "# 把多个df读取到一个list中\n",
    "file_df_list = []\n",
    "\n",
    "# 健康人双次测试数据集, 完全放松状态\n",
    "folder_path = r\"E:\\Data\\20230424-单人双次iFEMG肌力等级测试\"\n",
    "subject_name_list = [\"lpy-1\", \"lpy-2\", \"pym-1\", \"pym-2\", \"zk-1\", \"zk-2\", \"zpk-1\", \"zpk-2\"]\n",
    "\n",
    "for name in subject_name_list:\n",
    "    file_path = folder_path + '\\\\' + name + '\\\\' + name + \"_FMG_tricps_br.csv\"\n",
    "    try:\n",
    "        file_df_list.append(pd.read_csv(file_path, header = [0,1], index_col = 0))\n",
    "    except FileNotFoundError:\n",
    "        print(f\"文件 {file_path} 未读取\")\n",
    "    pass\n",
    "\n",
    "print(f\"文件数: {len(file_df_list)}\")"
   ]
  },
  {
   "cell_type": "code",
   "execution_count": 7,
   "metadata": {},
   "outputs": [
    {
     "name": "stdout",
     "output_type": "stream",
     "text": [
      "文件 E:\\Data\\20230310-iFEMG肌力测试\\chw-2\\chw-2_FMG_tricps_br.csv 未读取\n",
      "文件数: 11\n"
     ]
    }
   ],
   "source": [
    "# 健康人双次测试数据集, 完全放松状态\n",
    "folder_path = r\"E:\\Data\\20230310-iFEMG肌力测试\"\n",
    "subject_name_list = [\"chw-1\", \"chw-2\", \"lry\", \"wby\"]\n",
    "\n",
    "for name in subject_name_list:\n",
    "    file_path = folder_path + '\\\\' + name + '\\\\' + name + \"_FMG_tricps_br.csv\"\n",
    "    try:\n",
    "        file_df_list.append(pd.read_csv(file_path, header = [0,1], index_col = 0))\n",
    "    except FileNotFoundError:\n",
    "        print(f\"文件 {file_path} 未读取\")\n",
    "    pass\n",
    "\n",
    "print(f\"文件数: {len(file_df_list)}\")"
   ]
  },
  {
   "cell_type": "code",
   "execution_count": 8,
   "metadata": {},
   "outputs": [],
   "source": [
    "# 列表中的df合并\n",
    "final_data_df = pd.concat(file_df_list, axis = 0, ignore_index = True)"
   ]
  },
  {
   "cell_type": "code",
   "execution_count": 9,
   "metadata": {},
   "outputs": [
    {
     "name": "stdout",
     "output_type": "stream",
     "text": [
      "File E:\\Data\\iFEMG_fea_dataset\\healthy_subjects\\FMG_activated_stages\\FMG_fea_tricps.csv saved!\n"
     ]
    }
   ],
   "source": [
    "\n",
    "df_save_csv(final_data_df, r\"E:\\Data\\iFEMG_fea_dataset\\healthy_subjects\\FMG_activated_stages\\FMG_fea_tricps.csv\")"
   ]
  }
 ],
 "metadata": {
  "kernelspec": {
   "display_name": "base",
   "language": "python",
   "name": "python3"
  },
  "language_info": {
   "codemirror_mode": {
    "name": "ipython",
    "version": 3
   },
   "file_extension": ".py",
   "mimetype": "text/x-python",
   "name": "python",
   "nbconvert_exporter": "python",
   "pygments_lexer": "ipython3",
   "version": "3.10.13"
  }
 },
 "nbformat": 4,
 "nbformat_minor": 2
}
