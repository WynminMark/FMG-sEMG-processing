{
 "cells": [
  {
   "cell_type": "code",
   "execution_count": 1,
   "metadata": {},
   "outputs": [],
   "source": [
    "\n",
    "import pandas as pd\n",
    "import seaborn as sns\n",
    "\n",
    "from iFEMG_feature import *"
   ]
  },
  {
   "cell_type": "code",
   "execution_count": 34,
   "metadata": {},
   "outputs": [
    {
     "data": {
      "text/plain": [
       "<bound method NDFrame.head of       agonist_ch1                                                     \\\n",
       "     subject_name height(cm) weight(kg) gender age    sensor_channel   \n",
       "0   w5s1_affected        177         71      1  29  tricps_br_medial   \n",
       "1   w5s1_affected        177         71      1  29  tricps_br_medial   \n",
       "2   w5s1_affected        177         71      1  29  tricps_br_medial   \n",
       "3   w5s1_affected        177         71      1  29  tricps_br_medial   \n",
       "4   w5s1_affected        177         71      1  29  tricps_br_medial   \n",
       "5   w5s1_affected        177         71      1  29  tricps_br_medial   \n",
       "6   w5s1_affected        177         71      1  29  tricps_br_medial   \n",
       "7   w5s1_affected        177         71      1  29  tricps_br_medial   \n",
       "8   w5s1_affected        177         71      1  29  tricps_br_medial   \n",
       "9   w5s1_affected        177         71      1  29  tricps_br_medial   \n",
       "10  w5s1_affected        177         71      1  29  tricps_br_medial   \n",
       "11  w5s1_affected        177         71      1  29  tricps_br_medial   \n",
       "12  w5s1_affected        177         71      1  29  tricps_br_medial   \n",
       "13  w5s1_affected        177         71      1  29  tricps_br_medial   \n",
       "14  w5s1_affected        177         71      1  29  tricps_br_medial   \n",
       "\n",
       "                                               ... antagonist_ch1            \\\n",
       "   label(kg) FMG_increase       mav       rms  ... sensor_channel label(kg)   \n",
       "0        0.0     8.967701  0.332666  0.369360  ...       bicps_br       0.0   \n",
       "1        0.0    11.420644  0.202094  0.181278  ...       bicps_br       0.0   \n",
       "2        0.0     8.268422  0.433048  0.458987  ...       bicps_br       0.0   \n",
       "3        0.0    12.421274  0.594658  0.658957  ...       bicps_br       0.0   \n",
       "4        0.0     9.840003 -0.524205 -0.411954  ...       bicps_br       0.0   \n",
       "5        0.0    10.584488  0.076085 -0.127023  ...       bicps_br       0.0   \n",
       "6        0.0     9.923227  0.256448  0.266871  ...       bicps_br       0.0   \n",
       "7        0.5     0.989225  1.724358  1.740623  ...       bicps_br       0.5   \n",
       "8        0.5     2.110451  1.363990  1.384363  ...       bicps_br       0.5   \n",
       "9        0.5     9.928769  0.780352  0.567513  ...       bicps_br       0.5   \n",
       "10       0.5     9.323539  0.800792  0.833359  ...       bicps_br       0.5   \n",
       "11       0.5     5.419347  0.380427  0.186884  ...       bicps_br       0.5   \n",
       "12       0.5    11.814728  0.932600  0.941499  ...       bicps_br       0.5   \n",
       "13       0.5    13.121528  0.637603  0.595224  ...       bicps_br       0.5   \n",
       "14       0.5     4.408580  0.095580 -0.012105  ...       bicps_br       0.5   \n",
       "\n",
       "                                                               \\\n",
       "   FMG_increase       mav       rms wave_length zero_crossing   \n",
       "0      0.001211 -0.015402 -0.011855   -0.023440     -0.012466   \n",
       "1     -0.014654  0.022345  0.021444   -0.006531     -0.031681   \n",
       "2     -0.004688 -0.026414 -0.026484   -0.009032      0.003832   \n",
       "3     -0.001406  0.014700  0.010276    0.025658      0.011638   \n",
       "4      0.037098 -0.983627 -0.939342   -0.904450      1.020196   \n",
       "5     -0.000921 -0.063597 -0.057412   -0.055653      0.010365   \n",
       "6      0.000689 -0.011135 -0.004967    0.014454      0.003111   \n",
       "7     -0.546420 -0.001232 -0.004153   -0.010690      0.032164   \n",
       "8     -0.012764  0.019854  0.010020    0.028091     -0.010791   \n",
       "9      0.018150  0.020491  0.022934    0.030978     -0.001254   \n",
       "10     0.005024  0.002555  0.002767   -0.008440      0.002108   \n",
       "11    -0.029949 -0.005510 -0.003835   -0.014991      0.002331   \n",
       "12    -0.029014  0.009607  0.009256   -0.007901     -0.042608   \n",
       "13     0.029335  0.001855  0.001621    0.025512      0.010569   \n",
       "14    -0.034312 -0.013410 -0.017243   -0.035333     -0.021562   \n",
       "\n",
       "                                                  \n",
       "   slope_sign_change   mean_freq mean_power_freq  \n",
       "0           0.017938  212.893669      223.780633  \n",
       "1          -0.021599  214.854666      225.373649  \n",
       "2           0.005265  211.437877      223.472448  \n",
       "3          -0.022248  212.961108      230.210747  \n",
       "4           0.384627  179.567584      198.454200  \n",
       "5          -0.019052  218.273554      225.344281  \n",
       "6          -0.000199  223.441122      231.769085  \n",
       "7          -0.003498  211.007150      226.821285  \n",
       "8          -0.000579  220.136378      225.940392  \n",
       "9           0.011139  214.973160      226.310367  \n",
       "10          0.004097  210.066276      220.587792  \n",
       "11         -0.010732  221.873764      230.074611  \n",
       "12          0.004677  202.477309      214.978838  \n",
       "13          0.025759  220.500683      232.899058  \n",
       "14         -0.010954  213.525787      226.028244  \n",
       "\n",
       "[15 rows x 45 columns]>"
      ]
     },
     "execution_count": 34,
     "metadata": {},
     "output_type": "execute_result"
    }
   ],
   "source": [
    "# 读取数据，包含三个肌肉信号通道的特征值\n",
    "data_df = pd.read_csv(r\"E:\\Data\\积水潭患者数据集\\w5s1\\affected\\w5s1_affected_tricps_br.csv\", index_col=0, header=[0,1])\n",
    "data_df.head"
   ]
  },
  {
   "cell_type": "code",
   "execution_count": 37,
   "metadata": {},
   "outputs": [
    {
     "data": {
      "text/plain": [
       "<bound method NDFrame.head of      subject_name  height(cm)  weight(kg)  gender  age    sensor_channel  \\\n",
       "0   w5s1_affected         177          71       1   29  tricps_br_medial   \n",
       "1   w5s1_affected         177          71       1   29  tricps_br_medial   \n",
       "2   w5s1_affected         177          71       1   29  tricps_br_medial   \n",
       "3   w5s1_affected         177          71       1   29  tricps_br_medial   \n",
       "4   w5s1_affected         177          71       1   29  tricps_br_medial   \n",
       "5   w5s1_affected         177          71       1   29  tricps_br_medial   \n",
       "6   w5s1_affected         177          71       1   29  tricps_br_medial   \n",
       "7   w5s1_affected         177          71       1   29  tricps_br_medial   \n",
       "8   w5s1_affected         177          71       1   29  tricps_br_medial   \n",
       "9   w5s1_affected         177          71       1   29  tricps_br_medial   \n",
       "10  w5s1_affected         177          71       1   29  tricps_br_medial   \n",
       "11  w5s1_affected         177          71       1   29  tricps_br_medial   \n",
       "12  w5s1_affected         177          71       1   29  tricps_br_medial   \n",
       "13  w5s1_affected         177          71       1   29  tricps_br_medial   \n",
       "14  w5s1_affected         177          71       1   29  tricps_br_medial   \n",
       "\n",
       "    label(kg)  FMG_increase       mav       rms  wave_length  zero_crossing  \\\n",
       "0         0.0      8.967701  0.332666  0.369360     0.085491      -0.201516   \n",
       "1         0.0     11.420644  0.202094  0.181278     0.078119      -0.185310   \n",
       "2         0.0      8.268422  0.433048  0.458987     0.095473      -0.233724   \n",
       "3         0.0     12.421274  0.594658  0.658957     0.124756      -0.307079   \n",
       "4         0.0      9.840003 -0.524205 -0.411954    -0.105889       1.265233   \n",
       "5         0.0     10.584488  0.076085 -0.127023     0.092966      -0.102270   \n",
       "6         0.0      9.923227  0.256448  0.266871     0.116415      -0.117129   \n",
       "7         0.5      0.989225  1.724358  1.740623     0.105171      -0.681080   \n",
       "8         0.5      2.110451  1.363990  1.384363     0.158731      -0.540265   \n",
       "9         0.5      9.928769  0.780352  0.567513     0.169565      -0.450361   \n",
       "10        0.5      9.323539  0.800792  0.833359     0.147332      -0.404243   \n",
       "11        0.5      5.419347  0.380427  0.186884     0.124651      -0.351573   \n",
       "12        0.5     11.814728  0.932600  0.941499     0.144032      -0.459062   \n",
       "13        0.5     13.121528  0.637603  0.595224     0.134495      -0.361697   \n",
       "14        0.5      4.408580  0.095580 -0.012105     0.105248      -0.219823   \n",
       "\n",
       "    slope_sign_change   mean_freq  mean_power_freq  \n",
       "0            0.000754   60.469419       111.743849  \n",
       "1           -0.000739   52.019526       102.454740  \n",
       "2            0.001323   39.655901        92.715172  \n",
       "3           -0.001114   37.104634        83.930515  \n",
       "4            0.121712   22.724338        32.622832  \n",
       "5            0.010467   90.483976       121.640649  \n",
       "6           -0.000392  124.596425       124.111339  \n",
       "7           -0.013909   17.061628        44.646531  \n",
       "8           -0.017800   24.586976        50.379576  \n",
       "9           -0.010205   27.275789        68.675179  \n",
       "10          -0.007234   31.490794        71.793018  \n",
       "11          -0.006091   28.651357        72.631480  \n",
       "12          -0.011723   22.451520        65.329722  \n",
       "13          -0.011806   38.384743        79.197021  \n",
       "14           0.000780   29.777199        70.796408  >"
      ]
     },
     "execution_count": 37,
     "metadata": {},
     "output_type": "execute_result"
    }
   ],
   "source": [
    "df2show = data_df['agonist_ch2']\n",
    "df2show.head"
   ]
  },
  {
   "cell_type": "code",
   "execution_count": 38,
   "metadata": {},
   "outputs": [
    {
     "data": {
      "text/plain": [
       "<seaborn.axisgrid.FacetGrid at 0x232b117c100>"
      ]
     },
     "execution_count": 38,
     "metadata": {},
     "output_type": "execute_result"
    },
    {
     "data": {
      "image/png": "[encoded data removed]",
      "text/plain": [
       "<Figure size 680.625x500 with 1 Axes>"
      ]
     },
     "metadata": {},
     "output_type": "display_data"
    }
   ],
   "source": [
    "\"\"\"\n",
    "特征可视化\n",
    "归一化特征值大小----肌力重量\n",
    "\"\"\"\n",
    "# 需要显示和归一化的特征名称\n",
    "col_name = ['FMG_increase', 'mav', 'rms', 'wave_length', 'zero_crossing', 'slope_sign_change', 'mean_freq', 'mean_power_freq']\n",
    "# 调用归一化函数对dataframe进行归一化\n",
    "sb_fea_norm_df = z_score_norm(df2show, col_name)\n",
    "\n",
    "# show figure\n",
    "show_df = pd.DataFrame(columns = ('subject', 'strength_level', 'norm_values', 'fea_name'))\n",
    "\n",
    "for index, row in sb_fea_norm_df.iterrows():    # go through each row\n",
    "    for i in col_name:\n",
    "        show_df = pd.concat([show_df, pd.DataFrame({'subject': [row['subject_name']],\n",
    "                                                    'strength_level': [row['label(kg)']],\n",
    "                                                    'norm_values': [row[i]],\n",
    "                                                    'fea_name': [i]})], axis = 0, ignore_index=True)\n",
    "# kind = point(两点连线带errbar)/violin(小提琴图)/box(箱线图)\n",
    "sns.catplot(x = \"strength_level\",\n",
    "            y = \"norm_values\",\n",
    "            hue = \"fea_name\",\n",
    "            data = show_df,\n",
    "            kind = 'box')"
   ]
  }
 ],
 "metadata": {
  "kernelspec": {
   "display_name": "Python 3.7.11 ('base')",
   "language": "python",
   "name": "python3"
  },
  "language_info": {
   "codemirror_mode": {
    "name": "ipython",
    "version": 3
   },
   "file_extension": ".py",
   "mimetype": "text/x-python",
   "name": "python",
   "nbconvert_exporter": "python",
   "pygments_lexer": "ipython3",
   "version": "3.10.9"
  },
  "orig_nbformat": 4,
  "vscode": {
   "interpreter": {
    "hash": "380d79c596abafaaa9fb4cb8ba4db6c26c52bcf6afda3a9f10104068bc659f2d"
   }
  }
 },
 "nbformat": 4,
 "nbformat_minor": 2
}
