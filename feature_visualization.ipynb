{
 "cells": [
  {
   "cell_type": "code",
   "execution_count": 1,
   "metadata": {},
   "outputs": [
    {
     "data": {
      "text/plain": [
       "'\\nfrom sklearn.linear_model import BayesianRidge, LinearRegression, ElasticNet  # 批量导入要实现的回归算法\\nfrom sklearn.ensemble.gradient_boosting import GradientBoostingRegressor  # 集成算法\\nfrom sklearn.model_selection import cross_val_score  # 交叉检验\\nfrom sklearn.metrics import explained_variance_score, mean_absolute_error, mean_squared_error, r2_score  # 批量导入指标算法\\n'"
      ]
     },
     "execution_count": 1,
     "metadata": {},
     "output_type": "execute_result"
    }
   ],
   "source": [
    "\n",
    "import pandas as pd\n",
    "import seaborn as sns\n",
    "\n",
    "from iFEMG_feature import *\n",
    "\n",
    "'''\n",
    "from sklearn.linear_model import BayesianRidge, LinearRegression, ElasticNet  # 批量导入要实现的回归算法\n",
    "from sklearn.ensemble.gradient_boosting import GradientBoostingRegressor  # 集成算法\n",
    "from sklearn.model_selection import cross_val_score  # 交叉检验\n",
    "from sklearn.metrics import explained_variance_score, mean_absolute_error, mean_squared_error, r2_score  # 批量导入指标算法\n",
    "'''"
   ]
  },
  {
   "cell_type": "code",
   "execution_count": 15,
   "metadata": {},
   "outputs": [
    {
     "data": {
      "text/plain": [
       "<bound method NDFrame.head of       agonist_ch1                                                     \\\n",
       "     subject_name height(cm) weight(kg) gender age    sensor_channel   \n",
       "0   w1s1_affected        183         75      1  35  tricps_br_medial   \n",
       "1   w1s1_affected        183         75      1  35  tricps_br_medial   \n",
       "2   w1s1_affected        183         75      1  35  tricps_br_medial   \n",
       "3   w1s1_affected        183         75      1  35  tricps_br_medial   \n",
       "4   w1s1_affected        183         75      1  35  tricps_br_medial   \n",
       "5   w1s1_affected        183         75      1  35  tricps_br_medial   \n",
       "6   w1s1_affected        183         75      1  35  tricps_br_medial   \n",
       "7   w1s1_affected        183         75      1  35  tricps_br_medial   \n",
       "8   w1s1_affected        183         75      1  35  tricps_br_medial   \n",
       "9   w1s1_affected        183         75      1  35  tricps_br_medial   \n",
       "10  w1s1_affected        183         75      1  35  tricps_br_medial   \n",
       "11  w1s1_affected        183         75      1  35  tricps_br_medial   \n",
       "12  w1s1_affected        183         75      1  35  tricps_br_medial   \n",
       "13  w1s1_affected        183         75      1  35  tricps_br_medial   \n",
       "14  w1s1_affected        183         75      1  35  tricps_br_medial   \n",
       "15  w1s1_affected        183         75      1  35  tricps_br_medial   \n",
       "16  w1s1_affected        183         75      1  35  tricps_br_medial   \n",
       "17  w1s1_affected        183         75      1  35  tricps_br_medial   \n",
       "18  w1s1_affected        183         75      1  35  tricps_br_medial   \n",
       "19  w1s1_affected        183         75      1  35  tricps_br_medial   \n",
       "\n",
       "                                               ... antagonist_ch1            \\\n",
       "   label(kg) FMG_increase       mav       rms  ... sensor_channel label(kg)   \n",
       "0        0.0    -0.210991  0.518007  0.700529  ...       bicps_br       0.0   \n",
       "1        0.0    -0.373120  0.338771  0.392098  ...       bicps_br       0.0   \n",
       "2        0.0    -0.327165 -0.158289 -0.116419  ...       bicps_br       0.0   \n",
       "3        0.0    -0.307773  0.053358  0.020177  ...       bicps_br       0.0   \n",
       "4        0.0    -0.035132 -0.209838 -0.276962  ...       bicps_br       0.0   \n",
       "5        0.0    -0.138691  0.398300  0.478002  ...       bicps_br       0.0   \n",
       "6        0.0    -0.016714  0.532681  0.528038  ...       bicps_br       0.0   \n",
       "7        0.0    -0.127093  0.312897  0.332620  ...       bicps_br       0.0   \n",
       "8        0.0    -0.208607  0.191603  0.179853  ...       bicps_br       0.0   \n",
       "9        0.0    -0.239519  0.013932  0.134771  ...       bicps_br       0.0   \n",
       "10       0.5    -0.211127  0.656715  0.674650  ...       bicps_br       0.5   \n",
       "11       0.5     0.246688  1.019517  1.449150  ...       bicps_br       0.5   \n",
       "12       0.5     0.002696 -0.181293 -0.085036  ...       bicps_br       0.5   \n",
       "13       0.5     0.023884  0.363080  0.243467  ...       bicps_br       0.5   \n",
       "14       0.5     0.040993  0.010663  0.075203  ...       bicps_br       0.5   \n",
       "15       0.5    -0.492713  0.499782  0.473240  ...       bicps_br       0.5   \n",
       "16       0.5    -0.381124  0.086701 -0.100365  ...       bicps_br       0.5   \n",
       "17       0.5    -0.655379  0.162768 -0.062166  ...       bicps_br       0.5   \n",
       "18       0.5    -0.389922  0.072646 -0.118779  ...       bicps_br       0.5   \n",
       "19       0.5    -0.438699  0.011844 -0.065935  ...       bicps_br       0.5   \n",
       "\n",
       "                                                               \\\n",
       "   FMG_increase       mav       rms wave_length zero_crossing   \n",
       "0     -0.009383  1.841738  1.163742    1.220852     -0.247054   \n",
       "1     -0.031113  0.318648  0.316698    0.035508     -0.246244   \n",
       "2     -0.025854 -0.243715 -0.230945   -0.071979      0.337713   \n",
       "3     -0.034773  0.483148  0.475111    0.015046     -0.334688   \n",
       "4     -0.034292 -0.227180 -0.245736   -0.116875      0.113013   \n",
       "5     -0.049504 -0.312942 -0.315871   -0.117955      0.441705   \n",
       "6     -0.015676  0.805185  0.848961    0.330630     -0.390268   \n",
       "7     -0.036810  0.168726  0.171789    0.003750     -0.149516   \n",
       "8     -0.049694  0.327035  0.356055   -0.008668     -0.263448   \n",
       "9     -0.062170  0.232266  0.230839   -0.013904     -0.242693   \n",
       "10    -0.008966  0.441715  0.349347    0.139944     -0.397668   \n",
       "11     0.015116  0.962120  0.954675    0.275642     -0.334872   \n",
       "12     0.002767  0.173215  0.308718    0.072131      0.046163   \n",
       "13    -0.013041  0.147731  0.163977    0.107727      0.029470   \n",
       "14    -0.045490 -0.472306 -0.489471   -0.150326      0.584099   \n",
       "15    -0.085542  0.339388  0.296548    0.128574     -0.297751   \n",
       "16    -0.107881  0.935413  0.413438    0.081749     -0.569486   \n",
       "17    -0.147538  1.671553  1.623934    0.273808     -0.532700   \n",
       "18    -0.108625  1.613077  1.389523    0.243577     -0.603590   \n",
       "19    -0.129657  0.594969  0.675705    0.100984     -0.381284   \n",
       "\n",
       "                                                 \n",
       "   slope_sign_change  mean_freq mean_power_freq  \n",
       "0          -0.144454  23.207938       35.403944  \n",
       "1          -0.013855  21.755058       39.386104  \n",
       "2           0.019354  22.192979       47.440518  \n",
       "3          -0.032396  17.218370       29.688213  \n",
       "4          -0.009996  17.039257       34.732315  \n",
       "5           0.038242  18.927083       33.618038  \n",
       "6          -0.035588  21.682178       31.625527  \n",
       "7          -0.005621  27.918047       62.213007  \n",
       "8          -0.011935  23.000308       56.224928  \n",
       "9          -0.002896  25.428119       60.430726  \n",
       "10         -0.091442  17.474458       23.586508  \n",
       "11         -0.134524  17.662206       23.182458  \n",
       "12         -0.012064  18.411839       25.722415  \n",
       "13         -0.048483  17.865479       24.298387  \n",
       "14          0.115255  18.838443       37.148242  \n",
       "15         -0.104671  19.707791       25.514109  \n",
       "16         -0.179246  18.576051       23.265113  \n",
       "17         -0.214364  18.588951       24.425845  \n",
       "18         -0.183657  18.297896       23.182112  \n",
       "19         -0.129204  18.174207       26.750987  \n",
       "\n",
       "[20 rows x 45 columns]>"
      ]
     },
     "execution_count": 15,
     "metadata": {},
     "output_type": "execute_result"
    }
   ],
   "source": [
    "# 读取数据，包含三个肌肉信号通道的特征值\n",
    "data_df = pd.read_csv(r\"E:\\Data\\20230509积水潭两患者\\s1\\huance\\w1s1_affected_tricps_br.csv\", index_col=0, header=[0,1])\n",
    "data_df.head"
   ]
  },
  {
   "cell_type": "code",
   "execution_count": 16,
   "metadata": {},
   "outputs": [
    {
     "data": {
      "text/plain": [
       "<bound method NDFrame.head of      subject_name  height(cm)  weight(kg)  gender  age    sensor_channel  \\\n",
       "0   w1s1_affected         183          75       1   35  tricps_br_medial   \n",
       "1   w1s1_affected         183          75       1   35  tricps_br_medial   \n",
       "2   w1s1_affected         183          75       1   35  tricps_br_medial   \n",
       "3   w1s1_affected         183          75       1   35  tricps_br_medial   \n",
       "4   w1s1_affected         183          75       1   35  tricps_br_medial   \n",
       "5   w1s1_affected         183          75       1   35  tricps_br_medial   \n",
       "6   w1s1_affected         183          75       1   35  tricps_br_medial   \n",
       "7   w1s1_affected         183          75       1   35  tricps_br_medial   \n",
       "8   w1s1_affected         183          75       1   35  tricps_br_medial   \n",
       "9   w1s1_affected         183          75       1   35  tricps_br_medial   \n",
       "10  w1s1_affected         183          75       1   35  tricps_br_medial   \n",
       "11  w1s1_affected         183          75       1   35  tricps_br_medial   \n",
       "12  w1s1_affected         183          75       1   35  tricps_br_medial   \n",
       "13  w1s1_affected         183          75       1   35  tricps_br_medial   \n",
       "14  w1s1_affected         183          75       1   35  tricps_br_medial   \n",
       "15  w1s1_affected         183          75       1   35  tricps_br_medial   \n",
       "16  w1s1_affected         183          75       1   35  tricps_br_medial   \n",
       "17  w1s1_affected         183          75       1   35  tricps_br_medial   \n",
       "18  w1s1_affected         183          75       1   35  tricps_br_medial   \n",
       "19  w1s1_affected         183          75       1   35  tricps_br_medial   \n",
       "\n",
       "    label(kg)  FMG_increase       mav       rms  wave_length  zero_crossing  \\\n",
       "0         0.0     -0.210991  0.518007  0.700529     0.275674      -0.149069   \n",
       "1         0.0     -0.373120  0.338771  0.392098     0.060539      -0.156504   \n",
       "2         0.0     -0.327165 -0.158289 -0.116419    -0.097680       0.121458   \n",
       "3         0.0     -0.307773  0.053358  0.020177    -0.054432      -0.149714   \n",
       "4         0.0     -0.035132 -0.209838 -0.276962    -0.119112       0.103860   \n",
       "5         0.0     -0.138691  0.398300  0.478002     0.059056      -0.214968   \n",
       "6         0.0     -0.016714  0.532681  0.528038     0.095137      -0.243805   \n",
       "7         0.0     -0.127093  0.312897  0.332620    -0.008006      -0.237780   \n",
       "8         0.0     -0.208607  0.191603  0.179853    -0.007677      -0.155003   \n",
       "9         0.0     -0.239519  0.013932  0.134771     0.007153       0.102165   \n",
       "10        0.5     -0.211127  0.656715  0.674650     0.339208      -0.267408   \n",
       "11        0.5      0.246688  1.019517  1.449150     0.500803      -0.224197   \n",
       "12        0.5      0.002696 -0.181293 -0.085036    -0.100060       0.107265   \n",
       "13        0.5      0.023884  0.363080  0.243467     0.141901      -0.160199   \n",
       "14        0.5      0.040993  0.010663  0.075203     0.026879       0.046976   \n",
       "15        0.5     -0.492713  0.499782  0.473240     0.236089      -0.274905   \n",
       "16        0.5     -0.381124  0.086701 -0.100365    -0.063587      -0.120156   \n",
       "17        0.5     -0.655379  0.162768 -0.062166    -0.104020      -0.366038   \n",
       "18        0.5     -0.389922  0.072646 -0.118779    -0.070380      -0.196587   \n",
       "19        0.5     -0.438699  0.011844 -0.065935    -0.027936      -0.251445   \n",
       "\n",
       "    slope_sign_change  mean_freq  mean_power_freq  \n",
       "0           -0.135158  17.820343        25.441806  \n",
       "1           -0.060180  18.288631        26.627936  \n",
       "2           -0.035326  17.392130        30.206043  \n",
       "3           -0.008668  18.329010        30.548893  \n",
       "4            0.040407  17.833482        27.706325  \n",
       "5           -0.085137  17.663251        25.056103  \n",
       "6           -0.046935  16.706084        26.050335  \n",
       "7           -0.055556  16.996411        33.175326  \n",
       "8           -0.015003  16.911701        29.514347  \n",
       "9           -0.027594  18.369435        29.656774  \n",
       "10          -0.156950  18.859504        29.541010  \n",
       "11          -0.093140  23.812825        33.284956  \n",
       "12           0.102797  18.228666        28.499490  \n",
       "13          -0.100282  19.465356        30.760269  \n",
       "14          -0.026173  22.462367        34.271865  \n",
       "15          -0.152219  22.797919        33.095352  \n",
       "16          -0.045210  19.126742        27.883642  \n",
       "17          -0.016154  18.345665        27.288961  \n",
       "18           0.003982  19.519375        31.777298  \n",
       "19          -0.008723  23.142259        33.269866  >"
      ]
     },
     "execution_count": 16,
     "metadata": {},
     "output_type": "execute_result"
    }
   ],
   "source": [
    "df2show = data_df['agonist_ch1']\n",
    "df2show.head"
   ]
  },
  {
   "cell_type": "code",
   "execution_count": 17,
   "metadata": {},
   "outputs": [
    {
     "data": {
      "text/plain": [
       "<seaborn.axisgrid.FacetGrid at 0x1f3c17d29e0>"
      ]
     },
     "execution_count": 17,
     "metadata": {},
     "output_type": "execute_result"
    },
    {
     "data": {
      "image/png": "[encoded data removed]",
      "text/plain": [
       "<Figure size 680.625x500 with 1 Axes>"
      ]
     },
     "metadata": {},
     "output_type": "display_data"
    }
   ],
   "source": [
    "'''\n",
    "归一化函数有问题\n",
    "'''\n",
    "# signal features normalization\n",
    "sb_fea_norm_df = fea_df_norm(df2show, 'FMG_increase', 'mav', 'rms', 'wave_length', 'zero_crossing', 'slope_sign_change', 'mean_freq', 'mean_power_freq')\n",
    "\n",
    "# show figure\n",
    "show_df = pd.DataFrame(columns = ('subject', 'strength_level', 'norm_values', 'fea_name'))\n",
    "\n",
    "for index, row in sb_fea_norm_df.iterrows():    # go through each row\n",
    "    for i in ['FMG_increase', 'mav', 'rms', 'wave_length', 'zero_crossing', 'slope_sign_change', 'mean_freq', 'mean_power_freq']:\n",
    "        show_df = pd.concat([show_df, pd.DataFrame({'subject': [row['subject_name']],\n",
    "                                                    'strength_level': [row['label(kg)']],\n",
    "                                                    'norm_values': [row[i]],\n",
    "                                                    'fea_name': [i]})], axis = 0, ignore_index=True)\n",
    "\n",
    "sns.catplot(x = \"strength_level\",\n",
    "            y = \"norm_values\",\n",
    "            hue = \"fea_name\",\n",
    "            data = show_df,\n",
    "            kind = 'point')"
   ]
  },
  {
   "cell_type": "code",
   "execution_count": 20,
   "metadata": {},
   "outputs": [
    {
     "data": {
      "text/html": [
       "<div>\n",
       "<style scoped>\n",
       "    .dataframe tbody tr th:only-of-type {\n",
       "        vertical-align: middle;\n",
       "    }\n",
       "\n",
       "    .dataframe tbody tr th {\n",
       "        vertical-align: top;\n",
       "    }\n",
       "\n",
       "    .dataframe thead th {\n",
       "        text-align: right;\n",
       "    }\n",
       "</style>\n",
       "<table border=\"1\" class=\"dataframe\">\n",
       "  <thead>\n",
       "    <tr style=\"text-align: right;\">\n",
       "      <th></th>\n",
       "      <th>subject</th>\n",
       "      <th>strength_level</th>\n",
       "      <th>norm_values</th>\n",
       "      <th>fea_name</th>\n",
       "    </tr>\n",
       "  </thead>\n",
       "  <tbody>\n",
       "    <tr>\n",
       "      <th>0</th>\n",
       "      <td>w1s1_affected</td>\n",
       "      <td>0.0</td>\n",
       "      <td>-0.210991</td>\n",
       "      <td>FMG_increase</td>\n",
       "    </tr>\n",
       "    <tr>\n",
       "      <th>1</th>\n",
       "      <td>w1s1_affected</td>\n",
       "      <td>0.0</td>\n",
       "      <td>0.518007</td>\n",
       "      <td>mav</td>\n",
       "    </tr>\n",
       "    <tr>\n",
       "      <th>2</th>\n",
       "      <td>w1s1_affected</td>\n",
       "      <td>0.0</td>\n",
       "      <td>0.700529</td>\n",
       "      <td>rms</td>\n",
       "    </tr>\n",
       "    <tr>\n",
       "      <th>3</th>\n",
       "      <td>w1s1_affected</td>\n",
       "      <td>0.0</td>\n",
       "      <td>0.275674</td>\n",
       "      <td>wave_length</td>\n",
       "    </tr>\n",
       "    <tr>\n",
       "      <th>4</th>\n",
       "      <td>w1s1_affected</td>\n",
       "      <td>0.0</td>\n",
       "      <td>-0.149069</td>\n",
       "      <td>zero_crossing</td>\n",
       "    </tr>\n",
       "    <tr>\n",
       "      <th>...</th>\n",
       "      <td>...</td>\n",
       "      <td>...</td>\n",
       "      <td>...</td>\n",
       "      <td>...</td>\n",
       "    </tr>\n",
       "    <tr>\n",
       "      <th>155</th>\n",
       "      <td>w1s1_affected</td>\n",
       "      <td>0.5</td>\n",
       "      <td>-0.027936</td>\n",
       "      <td>wave_length</td>\n",
       "    </tr>\n",
       "    <tr>\n",
       "      <th>156</th>\n",
       "      <td>w1s1_affected</td>\n",
       "      <td>0.5</td>\n",
       "      <td>-0.251445</td>\n",
       "      <td>zero_crossing</td>\n",
       "    </tr>\n",
       "    <tr>\n",
       "      <th>157</th>\n",
       "      <td>w1s1_affected</td>\n",
       "      <td>0.5</td>\n",
       "      <td>-0.008723</td>\n",
       "      <td>slope_sign_change</td>\n",
       "    </tr>\n",
       "    <tr>\n",
       "      <th>158</th>\n",
       "      <td>w1s1_affected</td>\n",
       "      <td>0.5</td>\n",
       "      <td>23.142259</td>\n",
       "      <td>mean_freq</td>\n",
       "    </tr>\n",
       "    <tr>\n",
       "      <th>159</th>\n",
       "      <td>w1s1_affected</td>\n",
       "      <td>0.5</td>\n",
       "      <td>0.891273</td>\n",
       "      <td>mean_power_freq</td>\n",
       "    </tr>\n",
       "  </tbody>\n",
       "</table>\n",
       "<p>160 rows × 4 columns</p>\n",
       "</div>"
      ],
      "text/plain": [
       "           subject  strength_level  norm_values           fea_name\n",
       "0    w1s1_affected             0.0    -0.210991       FMG_increase\n",
       "1    w1s1_affected             0.0     0.518007                mav\n",
       "2    w1s1_affected             0.0     0.700529                rms\n",
       "3    w1s1_affected             0.0     0.275674        wave_length\n",
       "4    w1s1_affected             0.0    -0.149069      zero_crossing\n",
       "..             ...             ...          ...                ...\n",
       "155  w1s1_affected             0.5    -0.027936        wave_length\n",
       "156  w1s1_affected             0.5    -0.251445      zero_crossing\n",
       "157  w1s1_affected             0.5    -0.008723  slope_sign_change\n",
       "158  w1s1_affected             0.5    23.142259          mean_freq\n",
       "159  w1s1_affected             0.5     0.891273    mean_power_freq\n",
       "\n",
       "[160 rows x 4 columns]"
      ]
     },
     "execution_count": 20,
     "metadata": {},
     "output_type": "execute_result"
    }
   ],
   "source": [
    "show_df"
   ]
  },
  {
   "cell_type": "code",
   "execution_count": 19,
   "metadata": {},
   "outputs": [
    {
     "ename": "NameError",
     "evalue": "name 'all_feature_df' is not defined",
     "output_type": "error",
     "traceback": [
      "\u001b[1;31m---------------------------------------------------------------------------\u001b[0m",
      "\u001b[1;31mNameError\u001b[0m                                 Traceback (most recent call last)",
      "Cell \u001b[1;32mIn[19], line 3\u001b[0m\n\u001b[0;32m      1\u001b[0m \u001b[39m# 保存csv文件\u001b[39;00m\n\u001b[0;32m      2\u001b[0m \u001b[39m# all_feature_df.to_csv(\"D:\\code\\data\\iFEMG_data_set\\zpk.csv\")\u001b[39;00m\n\u001b[1;32m----> 3\u001b[0m \u001b[39mprint\u001b[39m(all_feature_df\u001b[39m.\u001b[39mshape)\n\u001b[0;32m      4\u001b[0m all_feature_df\u001b[39m.\u001b[39mhead()\n",
      "\u001b[1;31mNameError\u001b[0m: name 'all_feature_df' is not defined"
     ]
    }
   ],
   "source": []
  },
  {
   "cell_type": "code",
   "execution_count": null,
   "metadata": {},
   "outputs": [],
   "source": []
  }
 ],
 "metadata": {
  "kernelspec": {
   "display_name": "Python 3.7.11 ('base')",
   "language": "python",
   "name": "python3"
  },
  "language_info": {
   "codemirror_mode": {
    "name": "ipython",
    "version": 3
   },
   "file_extension": ".py",
   "mimetype": "text/x-python",
   "name": "python",
   "nbconvert_exporter": "python",
   "pygments_lexer": "ipython3",
   "version": "3.10.9"
  },
  "orig_nbformat": 4,
  "vscode": {
   "interpreter": {
    "hash": "380d79c596abafaaa9fb4cb8ba4db6c26c52bcf6afda3a9f10104068bc659f2d"
   }
  }
 },
 "nbformat": 4,
 "nbformat_minor": 2
}
