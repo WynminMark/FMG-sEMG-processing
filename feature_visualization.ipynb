{
 "cells": [
  {
   "cell_type": "code",
   "execution_count": 1,
   "metadata": {},
   "outputs": [],
   "source": [
    "\n",
    "import pandas as pd\n",
    "import seaborn as sns\n",
    "\n",
    "from iFEMG_feature import *"
   ]
  },
  {
   "cell_type": "code",
   "execution_count": 2,
   "metadata": {},
   "outputs": [
    {
     "data": {
      "text/plain": [
       "<bound method NDFrame.head of       agonist_ch1                                                     \\\n",
       "     subject_name height(cm) weight(kg) gender age    sensor_channel   \n",
       "0   w1s1_affected        183         75      1  35  tricps_br_medial   \n",
       "1   w1s1_affected        183         75      1  35  tricps_br_medial   \n",
       "2   w1s1_affected        183         75      1  35  tricps_br_medial   \n",
       "3   w1s1_affected        183         75      1  35  tricps_br_medial   \n",
       "4   w1s1_affected        183         75      1  35  tricps_br_medial   \n",
       "5   w1s1_affected        183         75      1  35  tricps_br_medial   \n",
       "6   w1s1_affected        183         75      1  35  tricps_br_medial   \n",
       "7   w1s1_affected        183         75      1  35  tricps_br_medial   \n",
       "8   w1s1_affected        183         75      1  35  tricps_br_medial   \n",
       "9   w1s1_affected        183         75      1  35  tricps_br_medial   \n",
       "10  w1s1_affected        183         75      1  35  tricps_br_medial   \n",
       "11  w1s1_affected        183         75      1  35  tricps_br_medial   \n",
       "12  w1s1_affected        183         75      1  35  tricps_br_medial   \n",
       "13  w1s1_affected        183         75      1  35  tricps_br_medial   \n",
       "14  w1s1_affected        183         75      1  35  tricps_br_medial   \n",
       "15  w1s1_affected        183         75      1  35  tricps_br_medial   \n",
       "16  w1s1_affected        183         75      1  35  tricps_br_medial   \n",
       "17  w1s1_affected        183         75      1  35  tricps_br_medial   \n",
       "18  w1s1_affected        183         75      1  35  tricps_br_medial   \n",
       "19  w1s1_affected        183         75      1  35  tricps_br_medial   \n",
       "\n",
       "                                               ... antagonist_ch1            \\\n",
       "   label(kg) FMG_increase       mav       rms  ... sensor_channel label(kg)   \n",
       "0        0.0    -0.210991  0.518007  0.700529  ...       bicps_br       0.0   \n",
       "1        0.0    -0.373120  0.338771  0.392098  ...       bicps_br       0.0   \n",
       "2        0.0    -0.327165 -0.158289 -0.116419  ...       bicps_br       0.0   \n",
       "3        0.0    -0.307773  0.053358  0.020177  ...       bicps_br       0.0   \n",
       "4        0.0    -0.035132 -0.209838 -0.276962  ...       bicps_br       0.0   \n",
       "5        0.0    -0.138691  0.398300  0.478002  ...       bicps_br       0.0   \n",
       "6        0.0    -0.016714  0.532681  0.528038  ...       bicps_br       0.0   \n",
       "7        0.0    -0.127093  0.312897  0.332620  ...       bicps_br       0.0   \n",
       "8        0.0    -0.208607  0.191603  0.179853  ...       bicps_br       0.0   \n",
       "9        0.0    -0.239519  0.013932  0.134771  ...       bicps_br       0.0   \n",
       "10       0.5    -0.211127  0.656715  0.674650  ...       bicps_br       0.5   \n",
       "11       0.5     0.246688  1.019517  1.449150  ...       bicps_br       0.5   \n",
       "12       0.5     0.002696 -0.181293 -0.085036  ...       bicps_br       0.5   \n",
       "13       0.5     0.023884  0.363080  0.243467  ...       bicps_br       0.5   \n",
       "14       0.5     0.040993  0.010663  0.075203  ...       bicps_br       0.5   \n",
       "15       0.5    -0.492713  0.499782  0.473240  ...       bicps_br       0.5   \n",
       "16       0.5    -0.381124  0.086701 -0.100365  ...       bicps_br       0.5   \n",
       "17       0.5    -0.655379  0.162768 -0.062166  ...       bicps_br       0.5   \n",
       "18       0.5    -0.389922  0.072646 -0.118779  ...       bicps_br       0.5   \n",
       "19       0.5    -0.438699  0.011844 -0.065935  ...       bicps_br       0.5   \n",
       "\n",
       "                                                               \\\n",
       "   FMG_increase       mav       rms wave_length zero_crossing   \n",
       "0     -0.009383  1.841738  1.163742    1.220852     -0.247054   \n",
       "1     -0.031113  0.318648  0.316698    0.035508     -0.246244   \n",
       "2     -0.025854 -0.243715 -0.230945   -0.071979      0.337713   \n",
       "3     -0.034773  0.483148  0.475111    0.015046     -0.334688   \n",
       "4     -0.034292 -0.227180 -0.245736   -0.116875      0.113013   \n",
       "5     -0.049504 -0.312942 -0.315871   -0.117955      0.441705   \n",
       "6     -0.015676  0.805185  0.848961    0.330630     -0.390268   \n",
       "7     -0.036810  0.168726  0.171789    0.003750     -0.149516   \n",
       "8     -0.049694  0.327035  0.356055   -0.008668     -0.263448   \n",
       "9     -0.062170  0.232266  0.230839   -0.013904     -0.242693   \n",
       "10    -0.008966  0.441715  0.349347    0.139944     -0.397668   \n",
       "11     0.015116  0.962120  0.954675    0.275642     -0.334872   \n",
       "12     0.002767  0.173215  0.308718    0.072131      0.046163   \n",
       "13    -0.013041  0.147731  0.163977    0.107727      0.029470   \n",
       "14    -0.045490 -0.472306 -0.489471   -0.150326      0.584099   \n",
       "15    -0.085542  0.339388  0.296548    0.128574     -0.297751   \n",
       "16    -0.107881  0.935413  0.413438    0.081749     -0.569486   \n",
       "17    -0.147538  1.671553  1.623934    0.273808     -0.532700   \n",
       "18    -0.108625  1.613077  1.389523    0.243577     -0.603590   \n",
       "19    -0.129657  0.594969  0.675705    0.100984     -0.381284   \n",
       "\n",
       "                                                 \n",
       "   slope_sign_change  mean_freq mean_power_freq  \n",
       "0          -0.144454  23.207938       35.403944  \n",
       "1          -0.013855  21.755058       39.386104  \n",
       "2           0.019354  22.192979       47.440518  \n",
       "3          -0.032396  17.218370       29.688213  \n",
       "4          -0.009996  17.039257       34.732315  \n",
       "5           0.038242  18.927083       33.618038  \n",
       "6          -0.035588  21.682178       31.625527  \n",
       "7          -0.005621  27.918047       62.213007  \n",
       "8          -0.011935  23.000308       56.224928  \n",
       "9          -0.002896  25.428119       60.430726  \n",
       "10         -0.091442  17.474458       23.586508  \n",
       "11         -0.134524  17.662206       23.182458  \n",
       "12         -0.012064  18.411839       25.722415  \n",
       "13         -0.048483  17.865479       24.298387  \n",
       "14          0.115255  18.838443       37.148242  \n",
       "15         -0.104671  19.707791       25.514109  \n",
       "16         -0.179246  18.576051       23.265113  \n",
       "17         -0.214364  18.588951       24.425845  \n",
       "18         -0.183657  18.297896       23.182112  \n",
       "19         -0.129204  18.174207       26.750987  \n",
       "\n",
       "[20 rows x 45 columns]>"
      ]
     },
     "execution_count": 2,
     "metadata": {},
     "output_type": "execute_result"
    }
   ],
   "source": [
    "# 读取数据，包含三个肌肉信号通道的特征值\n",
    "data_df = pd.read_csv(r\"E:\\Data\\积水潭患者数据集\\w1s1\\huance\\w1s1_affected_tricps_br.csv\", index_col=0, header=[0,1])\n",
    "data_df.head"
   ]
  },
  {
   "cell_type": "code",
   "execution_count": 3,
   "metadata": {},
   "outputs": [
    {
     "data": {
      "text/plain": [
       "0     17.820343\n",
       "1     18.288631\n",
       "2     17.392130\n",
       "3     18.329010\n",
       "4     17.833482\n",
       "5     17.663251\n",
       "6     16.706084\n",
       "7     16.996411\n",
       "8     16.911701\n",
       "9     18.369435\n",
       "10    18.859504\n",
       "11    23.812825\n",
       "12    18.228666\n",
       "13    19.465356\n",
       "14    22.462367\n",
       "15    22.797919\n",
       "16    19.126742\n",
       "17    18.345665\n",
       "18    19.519375\n",
       "19    23.142259\n",
       "Name: mean_freq, dtype: float64"
      ]
     },
     "execution_count": 3,
     "metadata": {},
     "output_type": "execute_result"
    }
   ],
   "source": [
    "df2show = data_df['agonist_ch1']\n",
    "df2show[\"mean_freq\"]"
   ]
  },
  {
   "cell_type": "code",
   "execution_count": null,
   "metadata": {},
   "outputs": [],
   "source": [
    "listdf2show"
   ]
  },
  {
   "cell_type": "code",
   "execution_count": 8,
   "metadata": {},
   "outputs": [
    {
     "name": "stderr",
     "output_type": "stream",
     "text": [
      "e:\\code\\iFEMG-processing\\iFEMG_feature.py:786: SettingWithCopyWarning: \n",
      "A value is trying to be set on a copy of a slice from a DataFrame.\n",
      "Try using .loc[row_indexer,col_indexer] = value instead\n",
      "\n",
      "See the caveats in the documentation: https://pandas.pydata.org/pandas-docs/stable/user_guide/indexing.html#returning-a-view-versus-a-copy\n",
      "  dataframe[name] = (dataframe[name] - min_value)/(max_value - min_value)\n"
     ]
    },
    {
     "data": {
      "text/plain": [
       "<seaborn.axisgrid.FacetGrid at 0x1de00796fb0>"
      ]
     },
     "execution_count": 8,
     "metadata": {},
     "output_type": "execute_result"
    },
    {
     "data": {
      "image/png": "[encoded data removed]",
      "text/plain": [
       "<Figure size 680.625x500 with 1 Axes>"
      ]
     },
     "metadata": {},
     "output_type": "display_data"
    }
   ],
   "source": [
    "\"\"\"\n",
    "归一化函数有问题\n",
    "\"\"\"\n",
    "# 需要显示和归一化的特征名称\n",
    "col_name = ['FMG_increase', 'mav', 'rms', 'wave_length', 'zero_crossing', 'slope_sign_change', 'mean_freq', 'mean_power_freq']\n",
    "# 调用归一化函数对dataframe进行归一化\n",
    "sb_fea_norm_df = fea_df_norm(df2show, col_name)\n",
    "#df_temp = df2show.drop(columns=['subject_name', 'height(cm)', 'weight(kg)', 'gender', 'age', 'sensor_channel', 'label(kg)'], axis=1)\n",
    "#sb_fea_norm_df = z_score_norm(df_temp)\n",
    "\n",
    "# show figure\n",
    "show_df = pd.DataFrame(columns = ('subject', 'strength_level', 'norm_values', 'fea_name'))\n",
    "\n",
    "for index, row in sb_fea_norm_df.iterrows():    # go through each row\n",
    "    for i in col_name:\n",
    "        show_df = pd.concat([show_df, pd.DataFrame({'subject': [row['subject_name']],\n",
    "                                                    'strength_level': [row['label(kg)']],\n",
    "                                                    'norm_values': [row[i]],\n",
    "                                                    'fea_name': [i]})], axis = 0, ignore_index=True)\n",
    "# kind = point(两点连线带errbar)/violin(小提琴图)/box(箱线图)\n",
    "sns.catplot(x = \"strength_level\",\n",
    "            y = \"norm_values\",\n",
    "            hue = \"fea_name\",\n",
    "            data = show_df,\n",
    "            kind = 'box')"
   ]
  },
  {
   "cell_type": "code",
   "execution_count": null,
   "metadata": {},
   "outputs": [],
   "source": []
  },
  {
   "cell_type": "code",
   "execution_count": null,
   "metadata": {},
   "outputs": [],
   "source": []
  }
 ],
 "metadata": {
  "kernelspec": {
   "display_name": "Python 3.7.11 ('base')",
   "language": "python",
   "name": "python3"
  },
  "language_info": {
   "codemirror_mode": {
    "name": "ipython",
    "version": 3
   },
   "file_extension": ".py",
   "mimetype": "text/x-python",
   "name": "python",
   "nbconvert_exporter": "python",
   "pygments_lexer": "ipython3",
   "version": "3.10.9"
  },
  "orig_nbformat": 4,
  "vscode": {
   "interpreter": {
    "hash": "380d79c596abafaaa9fb4cb8ba4db6c26c52bcf6afda3a9f10104068bc659f2d"
   }
  }
 },
 "nbformat": 4,
 "nbformat_minor": 2
}
