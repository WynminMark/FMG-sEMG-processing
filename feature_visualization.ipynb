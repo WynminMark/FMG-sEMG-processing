{
 "cells": [
  {
   "cell_type": "code",
   "execution_count": 1,
   "metadata": {},
   "outputs": [],
   "source": [
    "\n",
    "import pandas as pd\n",
    "import seaborn as sns\n",
    "\n",
    "from iFEMG_feature import *"
   ]
  },
  {
   "cell_type": "code",
   "execution_count": 34,
   "metadata": {},
   "outputs": [
    {
     "data": {
      "text/plain": [
       "<bound method NDFrame.head of       agonist_ch1                                                     \\\n",
       "     subject_name height(cm) weight(kg) gender age    sensor_channel   \n",
       "0   w5s1_affected        177         71      1  29  tricps_br_medial   \n",
       "1   w5s1_affected        177         71      1  29  tricps_br_medial   \n",
       "2   w5s1_affected        177         71      1  29  tricps_br_medial   \n",
       "3   w5s1_affected        177         71      1  29  tricps_br_medial   \n",
       "4   w5s1_affected        177         71      1  29  tricps_br_medial   \n",
       "5   w5s1_affected        177         71      1  29  tricps_br_medial   \n",
       "6   w5s1_affected        177         71      1  29  tricps_br_medial   \n",
       "7   w5s1_affected        177         71      1  29  tricps_br_medial   \n",
       "8   w5s1_affected        177         71      1  29  tricps_br_medial   \n",
       "9   w5s1_affected        177         71      1  29  tricps_br_medial   \n",
       "10  w5s1_affected        177         71      1  29  tricps_br_medial   \n",
       "11  w5s1_affected        177         71      1  29  tricps_br_medial   \n",
       "12  w5s1_affected        177         71      1  29  tricps_br_medial   \n",
       "13  w5s1_affected        177         71      1  29  tricps_br_medial   \n",
       "14  w5s1_affected        177         71      1  29  tricps_br_medial   \n",
       "\n",
       "                                               ... antagonist_ch1            \\\n",
       "   label(kg) FMG_increase       mav       rms  ... sensor_channel label(kg)   \n",
       "0        0.0     8.967701  0.332666  0.369360  ...       bicps_br       0.0   \n",
       "1        0.0    11.420644  0.202094  0.181278  ...       bicps_br       0.0   \n",
       "2        0.0     8.268422  0.433048  0.458987  ...       bicps_br       0.0   \n",
       "3        0.0    12.421274  0.594658  0.658957  ...       bicps_br       0.0   \n",
       "4        0.0     9.840003 -0.524205 -0.411954  ...       bicps_br       0.0   \n",
       "5        0.0    10.584488  0.076085 -0.127023  ...       bicps_br       0.0   \n",
       "6        0.0     9.923227  0.256448  0.266871  ...       bicps_br       0.0   \n",
       "7        0.5     0.989225  1.724358  1.740623  ...       bicps_br       0.5   \n",
       "8        0.5     2.110451  1.363990  1.384363  ...       bicps_br       0.5   \n",
       "9        0.5     9.928769  0.780352  0.567513  ...       bicps_br       0.5   \n",
       "10       0.5     9.323539  0.800792  0.833359  ...       bicps_br       0.5   \n",
       "11       0.5     5.419347  0.380427  0.186884  ...       bicps_br       0.5   \n",
       "12       0.5    11.814728  0.932600  0.941499  ...       bicps_br       0.5   \n",
       "13       0.5    13.121528  0.637603  0.595224  ...       bicps_br       0.5   \n",
       "14       0.5     4.408580  0.095580 -0.012105  ...       bicps_br       0.5   \n",
       "\n",
       "                                                               \\\n",
       "   FMG_increase       mav       rms wave_length zero_crossing   \n",
       "0      0.001211 -0.015402 -0.011855   -0.023440     -0.012466   \n",
       "1     -0.014654  0.022345  0.021444   -0.006531     -0.031681   \n",
       "2     -0.004688 -0.026414 -0.026484   -0.009032      0.003832   \n",
       "3     -0.001406  0.014700  0.010276    0.025658      0.011638   \n",
       "4      0.037098 -0.983627 -0.939342   -0.904450      1.020196   \n",
       "5     -0.000921 -0.063597 -0.057412   -0.055653      0.010365   \n",
       "6      0.000689 -0.011135 -0.004967    0.014454      0.003111   \n",
       "7     -0.546420 -0.001232 -0.004153   -0.010690      0.032164   \n",
       "8     -0.012764  0.019854  0.010020    0.028091     -0.010791   \n",
       "9      0.018150  0.020491  0.022934    0.030978     -0.001254   \n",
       "10     0.005024  0.002555  0.002767   -0.008440      0.002108   \n",
       "11    -0.029949 -0.005510 -0.003835   -0.014991      0.002331   \n",
       "12    -0.029014  0.009607  0.009256   -0.007901     -0.042608   \n",
       "13     0.029335  0.001855  0.001621    0.025512      0.010569   \n",
       "14    -0.034312 -0.013410 -0.017243   -0.035333     -0.021562   \n",
       "\n",
       "                                                  \n",
       "   slope_sign_change   mean_freq mean_power_freq  \n",
       "0           0.017938  212.893669      223.780633  \n",
       "1          -0.021599  214.854666      225.373649  \n",
       "2           0.005265  211.437877      223.472448  \n",
       "3          -0.022248  212.961108      230.210747  \n",
       "4           0.384627  179.567584      198.454200  \n",
       "5          -0.019052  218.273554      225.344281  \n",
       "6          -0.000199  223.441122      231.769085  \n",
       "7          -0.003498  211.007150      226.821285  \n",
       "8          -0.000579  220.136378      225.940392  \n",
       "9           0.011139  214.973160      226.310367  \n",
       "10          0.004097  210.066276      220.587792  \n",
       "11         -0.010732  221.873764      230.074611  \n",
       "12          0.004677  202.477309      214.978838  \n",
       "13          0.025759  220.500683      232.899058  \n",
       "14         -0.010954  213.525787      226.028244  \n",
       "\n",
       "[15 rows x 45 columns]>"
      ]
     },
     "execution_count": 34,
     "metadata": {},
     "output_type": "execute_result"
    }
   ],
   "source": [
    "# 读取数据，包含三个肌肉信号通道的特征值\n",
    "data_df = pd.read_csv(r\"E:\\Data\\积水潭患者数据集\\w5s1\\affected\\w5s1_affected_tricps_br.csv\", index_col=0, header=[0,1])\n",
    "data_df.head"
   ]
  },
  {
   "cell_type": "code",
   "execution_count": 39,
   "metadata": {},
   "outputs": [
    {
     "data": {
      "text/plain": [
       "<bound method NDFrame.head of      subject_name  height(cm)  weight(kg)  gender  age     sensor_channel  \\\n",
       "0   w5s1_affected         177          71       1   29  tricps_br_lateral   \n",
       "1   w5s1_affected         177          71       1   29  tricps_br_lateral   \n",
       "2   w5s1_affected         177          71       1   29  tricps_br_lateral   \n",
       "3   w5s1_affected         177          71       1   29  tricps_br_lateral   \n",
       "4   w5s1_affected         177          71       1   29  tricps_br_lateral   \n",
       "5   w5s1_affected         177          71       1   29  tricps_br_lateral   \n",
       "6   w5s1_affected         177          71       1   29  tricps_br_lateral   \n",
       "7   w5s1_affected         177          71       1   29  tricps_br_lateral   \n",
       "8   w5s1_affected         177          71       1   29  tricps_br_lateral   \n",
       "9   w5s1_affected         177          71       1   29  tricps_br_lateral   \n",
       "10  w5s1_affected         177          71       1   29  tricps_br_lateral   \n",
       "11  w5s1_affected         177          71       1   29  tricps_br_lateral   \n",
       "12  w5s1_affected         177          71       1   29  tricps_br_lateral   \n",
       "13  w5s1_affected         177          71       1   29  tricps_br_lateral   \n",
       "14  w5s1_affected         177          71       1   29  tricps_br_lateral   \n",
       "\n",
       "    label(kg)  FMG_increase       mav       rms  wave_length  zero_crossing  \\\n",
       "0         0.0      0.071655  0.597520  0.573330     0.275480      -0.181443   \n",
       "1         0.0      0.084584  0.659222  0.600640     0.281448      -0.258793   \n",
       "2         0.0      0.098134  0.511714  0.239001     0.224294      -0.223577   \n",
       "3         0.0      0.148487  0.835719  0.757542     0.265721      -0.303380   \n",
       "4         0.0      0.110664 -0.571557 -0.423969    -0.408917       1.051932   \n",
       "5         0.0      0.262172  0.706153  0.557593     0.150461      -0.406192   \n",
       "6         0.0      0.318637  0.724670  0.660266     0.185309      -0.369412   \n",
       "7         0.5      2.394104  1.179558  1.134937     0.312790      -0.428250   \n",
       "8         0.5      1.072029  1.244390  1.184514     0.210396      -0.488264   \n",
       "9         0.5      3.947509  1.436297  1.238390     0.254868      -0.498096   \n",
       "10        0.5      2.261113  1.198209  1.122417     0.282126      -0.373760   \n",
       "11        0.5      3.075037  0.266192 -0.006619     0.182508      -0.269462   \n",
       "12        0.5      0.745737  1.308749  1.197453     0.334580      -0.383236   \n",
       "13        0.5      2.658350  0.879782  0.775044     0.267190      -0.328691   \n",
       "14        0.5      1.946845  0.488606  0.236000     0.131972      -0.377678   \n",
       "\n",
       "    slope_sign_change  mean_freq  mean_power_freq  \n",
       "0           -0.097951  50.096523        61.395040  \n",
       "1           -0.106726  49.252372        58.141872  \n",
       "2           -0.129135  44.268489        56.490731  \n",
       "3           -0.131497  38.222450        53.509838  \n",
       "4            0.998120  21.337726        32.023106  \n",
       "5           -0.114733  45.199148        65.038757  \n",
       "6           -0.069340  51.371866        69.951236  \n",
       "7           -0.114964  42.018590        54.845676  \n",
       "8           -0.178994  22.955845        44.804420  \n",
       "9           -0.177246  32.021636        49.824610  \n",
       "10          -0.159880  36.423468        51.922757  \n",
       "11          -0.131265  45.472697        58.272621  \n",
       "12          -0.169752  46.047895        55.955532  \n",
       "13          -0.147085  50.095230        61.880453  \n",
       "14          -0.087914  30.321259        49.575757  >"
      ]
     },
     "execution_count": 39,
     "metadata": {},
     "output_type": "execute_result"
    }
   ],
   "source": [
    "df2show = data_df['agonist_ch2']\n",
    "df2show.head"
   ]
  },
  {
   "cell_type": "code",
   "execution_count": 40,
   "metadata": {},
   "outputs": [
    {
     "data": {
      "text/plain": [
       "<seaborn.axisgrid.FacetGrid at 0x232b1150250>"
      ]
     },
     "execution_count": 40,
     "metadata": {},
     "output_type": "execute_result"
    },
    {
     "data": {
      "image/png": "[encoded data removed]",
      "text/plain": [
       "<Figure size 680.625x500 with 1 Axes>"
      ]
     },
     "metadata": {},
     "output_type": "display_data"
    }
   ],
   "source": [
    "\"\"\"\n",
    "特征可视化\n",
    "归一化特征值大小----肌力重量\n",
    "\"\"\"\n",
    "# 需要显示和归一化的特征名称\n",
    "col_name = ['FMG_increase', 'mav', 'rms', 'wave_length', 'zero_crossing', 'slope_sign_change', 'mean_freq', 'mean_power_freq']\n",
    "# 调用归一化函数对dataframe进行归一化\n",
    "sb_fea_norm_df = z_score_norm(df2show, col_name)\n",
    "\n",
    "# show figure\n",
    "show_df = pd.DataFrame(columns = ('subject', 'strength_level', 'norm_values', 'fea_name'))\n",
    "\n",
    "for index, row in sb_fea_norm_df.iterrows():    # go through each row\n",
    "    for i in col_name:\n",
    "        show_df = pd.concat([show_df, pd.DataFrame({'subject': [row['subject_name']],\n",
    "                                                    'strength_level': [row['label(kg)']],\n",
    "                                                    'norm_values': [row[i]],\n",
    "                                                    'fea_name': [i]})], axis = 0, ignore_index=True)\n",
    "# kind = point(两点连线带errbar)/violin(小提琴图)/box(箱线图)\n",
    "sns.catplot(x = \"strength_level\",\n",
    "            y = \"norm_values\",\n",
    "            hue = \"fea_name\",\n",
    "            data = show_df,\n",
    "            kind = 'box')"
   ]
  },
  {
   "cell_type": "code",
   "execution_count": 11,
   "metadata": {},
   "outputs": [],
   "source": [
    "\"\"\"\n",
    "读取df数据，计算其中label为特定值的所有数据的平均值和标准差\n",
    "\"\"\"\n",
    "# FMG\n",
    "data_df1 = pd.read_csv(r\"E:\\Data\\20230424-单人双次iFEMG肌力等级测试\\normed_fea_tricps_br_absnew.csv\", index_col = 0, header = [0, 1])\n",
    "data_df2 = pd.read_csv(r\"E:\\Data\\20230310-iFEMG肌力测试\\normed_fea_tricps_br_absnew.csv\", index_col = 0, header = [0, 1])\n",
    "\n",
    "df = pd.concat([data_df1, data_df2], axis = 0, ignore_index = True)"
   ]
  },
  {
   "cell_type": "code",
   "execution_count": 14,
   "metadata": {},
   "outputs": [
    {
     "name": "stdout",
     "output_type": "stream",
     "text": [
      "mean: 0.6476083272130767, std: 0.28444663818263644\n",
      "mean: 0.7410429060865593, std: 0.24592327352635057\n",
      "mean: 0.7475733496023872, std: 0.23754865368014536\n"
     ]
    }
   ],
   "source": [
    "# 计算平均值\n",
    "mean_value = df[df[('bicps_br', 'label(kg)')] == 1].mean(numeric_only=True)\n",
    "\n",
    "# 计算标准差\n",
    "std_value = df[df[('bicps_br', 'label(kg)')] == 1].std(numeric_only=True)\n",
    "\n",
    "mean_value\n",
    "\n",
    "print(f\"mean: {mean_value[('bicps_br', 'FMG')]}, std: {std_value[('bicps_br', 'FMG')]}\")\n",
    "print(f\"mean: {mean_value[('tricps_br_medial', 'FMG')]}, std: {std_value[('tricps_br_medial', 'FMG')]}\")\n",
    "print(f\"mean: {mean_value[('tricps_br_lateral', 'FMG')]}, std: {std_value[('tricps_br_lateral', 'FMG')]}\")"
   ]
  },
  {
   "cell_type": "code",
   "execution_count": 9,
   "metadata": {},
   "outputs": [],
   "source": [
    "df = pd.read_csv(r\"E:\\Data\\iFEMG相关spss\\超声数据特征和spss\\tricps_stretch_US_norm.csv\", index_col = 0, header = 0)"
   ]
  },
  {
   "cell_type": "code",
   "execution_count": 10,
   "metadata": {},
   "outputs": [
    {
     "data": {
      "text/plain": [
       "['subject',\n",
       " 'weight',\n",
       " 'bicps_br_R',\n",
       " 'bicps_br_thickness',\n",
       " 'tricps_med_R',\n",
       " 'tricps_med_thickness',\n",
       " 'tricps_lat_R',\n",
       " 'tricps_lat_thickness']"
      ]
     },
     "execution_count": 10,
     "metadata": {},
     "output_type": "execute_result"
    }
   ],
   "source": [
    "list(df.columns)"
   ]
  },
  {
   "cell_type": "code",
   "execution_count": 14,
   "metadata": {},
   "outputs": [
    {
     "name": "stdout",
     "output_type": "stream",
     "text": [
      "mean: 0.40253796368683326, std: 0.46966299337777057\n",
      "mean: 0.8409993846506797, std: 0.26199102966301774\n",
      "mean: 0.05, std: 0.22360679774997888\n",
      "mean: 0.9343846221518429, std: 0.23072294320851083\n",
      "mean: 0.05, std: 0.22360679774997888\n",
      "mean: 0.8936649291748135, std: 0.27943951916082066\n"
     ]
    }
   ],
   "source": [
    "# 计算平均值\n",
    "mean_value = df[df['weight'] == 1].mean(numeric_only=True)\n",
    "\n",
    "# 计算标准差\n",
    "std_value = df[df['weight'] == 1].std(numeric_only=True)\n",
    "\n",
    "mean_value\n",
    "\n",
    "print(f\"mean: {mean_value['bicps_br_R']}, std: {std_value['bicps_br_R']}\")\n",
    "print(f\"mean: {mean_value['bicps_br_thickness']}, std: {std_value['bicps_br_thickness']}\")\n",
    "print(f\"mean: {mean_value['tricps_med_R']}, std: {std_value['tricps_med_R']}\")\n",
    "print(f\"mean: {mean_value['tricps_med_thickness']}, std: {std_value['tricps_med_thickness']}\")\n",
    "print(f\"mean: {mean_value['tricps_lat_R']}, std: {std_value['tricps_lat_R']}\")\n",
    "print(f\"mean: {mean_value['tricps_lat_thickness']}, std: {std_value['tricps_lat_thickness']}\")"
   ]
  }
 ],
 "metadata": {
  "kernelspec": {
   "display_name": "Python 3.7.11 ('base')",
   "language": "python",
   "name": "python3"
  },
  "language_info": {
   "codemirror_mode": {
    "name": "ipython",
    "version": 3
   },
   "file_extension": ".py",
   "mimetype": "text/x-python",
   "name": "python",
   "nbconvert_exporter": "python",
   "pygments_lexer": "ipython3",
   "version": "3.10.9"
  },
  "orig_nbformat": 4,
  "vscode": {
   "interpreter": {
    "hash": "380d79c596abafaaa9fb4cb8ba4db6c26c52bcf6afda3a9f10104068bc659f2d"
   }
  }
 },
 "nbformat": 4,
 "nbformat_minor": 2
}
