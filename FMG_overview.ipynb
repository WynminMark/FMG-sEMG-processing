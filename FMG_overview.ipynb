{
 "cells": [
  {
   "cell_type": "code",
   "execution_count": 1,
   "metadata": {},
   "outputs": [],
   "source": [
    "\"\"\"\n",
    "批量读取.csv特征集，并按每个人进行归一化\n",
    "\"\"\"\n",
    "import pandas as pd\n",
    "\n",
    "from iFEMG_feature import df_save_csv, df_norm"
   ]
  },
  {
   "cell_type": "code",
   "execution_count": 2,
   "metadata": {},
   "outputs": [
    {
     "name": "stdout",
     "output_type": "stream",
     "text": [
      "文件E:\\Data\\20230310-iFEMG肌力测试\\chw-2\\chw-2_tricps_br.csv未读取\n",
      "5\n"
     ]
    }
   ],
   "source": [
    "\"\"\"\n",
    "获取文件路径下多个文件夹中.csv格式的特征集\n",
    "\"\"\"\n",
    "\n",
    "# 健康人双次测试数据集\n",
    "# folder_path = r\"E:\\Data\\20230424-单人双次iFEMG肌力等级测试\"\n",
    "# subject_name_list = [\"lpy-1\", \"lpy-2\", \"pym-1\", \"pym-2\", \"zk-1\", \"zk-2\", \"zpk-1\", \"zpk-2\"]\n",
    "\n",
    "# 20230310数据集\n",
    "folder_path = r\"E:\\Data\\20230310-iFEMG肌力测试\"\n",
    "subject_name_list = ['chw-1', 'chw-2', 'lry', 'wby', 'zpk-1', 'zpk-2']\n",
    "\n",
    "file_df_list = []\n",
    "for name in subject_name_list:\n",
    "    file_path = folder_path + '\\\\' + name + '\\\\' + name + \"_tricps_br.csv\"\n",
    "    try:\n",
    "        file_df_list.append(pd.read_csv(file_path, header = [0,1], index_col = 0))\n",
    "    except FileNotFoundError:\n",
    "        print(f\"文件 {file_path} 未读取\")\n",
    "    pass\n",
    "\n",
    "print(len(file_df_list))"
   ]
  },
  {
   "cell_type": "code",
   "execution_count": 3,
   "metadata": {},
   "outputs": [],
   "source": [
    "\"\"\"\n",
    "对每名被试信号特征分别单独归一化\n",
    "\n",
    "NOTE:\n",
    "    - 需要修改保存文件的文件名！！\n",
    "\"\"\"\n",
    "\n",
    "# 归一化某特征\n",
    "normed_df_list = [] \n",
    "err_df_index = 0\n",
    "for df in file_df_list:\n",
    "    # 对指定的列进行归一化\n",
    "    try:\n",
    "        \"\"\"\n",
    "        normed_df_list.append(df_norm(dataframe=df, col_name=[(\"bicps_br\", \"act_ave_list\"),\n",
    "                                                            (\"tricps_br_medial\", \"act_ave_list\"), \n",
    "                                                            (\"tricps_br_lateral\", \"act_ave_list\")], method='min-max'))\n",
    "                                                \"\"\"\n",
    "        normed_df_list.append(df_norm(dataframe=df, col_name=[(\"agonist_ch1\", \"mav\"),\n",
    "                                                            (\"agonist_ch1\", \"rms\"),\n",
    "                                                            (\"agonist_ch1\", \"wave_length\"),\n",
    "                                                            (\"agonist_ch1\", \"zero_crossing\"),\n",
    "                                                            (\"agonist_ch1\", \"slope_sign_change\"),\n",
    "                                                            (\"agonist_ch1\", \"mean_freq\"),\n",
    "                                                            (\"agonist_ch1\", \"mean_power_freq\"),\n",
    "                                                            (\"antagonist_ch1\", \"mav\"),\n",
    "                                                            (\"antagonist_ch1\", \"rms\"),\n",
    "                                                            (\"antagonist_ch1\", \"wave_length\"),\n",
    "                                                            (\"antagonist_ch1\", \"zero_crossing\"),\n",
    "                                                            (\"antagonist_ch1\", \"slope_sign_change\"),\n",
    "                                                            (\"antagonist_ch1\", \"mean_freq\"),\n",
    "                                                            (\"antagonist_ch1\", \"mean_power_freq\"),\n",
    "                                                            (\"agonist_ch2\", \"mav\"),\n",
    "                                                            (\"agonist_ch2\", \"rms\"),\n",
    "                                                            (\"agonist_ch2\", \"wave_length\"),\n",
    "                                                            (\"agonist_ch2\", \"zero_crossing\"),\n",
    "                                                            (\"agonist_ch2\", \"slope_sign_change\"),\n",
    "                                                            (\"agonist_ch2\", \"mean_freq\"),\n",
    "                                                            (\"agonist_ch2\", \"mean_power_freq\"),], method='min-max'))\n",
    "    except KeyError:\n",
    "        print(f\"index {err_df_index} 存在错误\")\n",
    "        pass\n",
    "    err_df_index = err_df_index + 1\n",
    "    pass\n",
    "# 合并dataframe\n",
    "final_data_df = pd.concat(normed_df_list, axis = 0, ignore_index = True)"
   ]
  },
  {
   "cell_type": "code",
   "execution_count": 5,
   "metadata": {},
   "outputs": [
    {
     "name": "stdout",
     "output_type": "stream",
     "text": [
      "File E:\\Data\\20230310-iFEMG肌力测试\\normed_sEMG_fea_tricps_br.csv saved\n"
     ]
    }
   ],
   "source": [
    "# 保存文件\n",
    "df_save_csv(final_data_df, r\"E:\\Data\\20230310-iFEMG肌力测试\\normed_sEMG_fea_tricps_br.csv\")"
   ]
  }
 ],
 "metadata": {
  "kernelspec": {
   "display_name": "base",
   "language": "python",
   "name": "python3"
  },
  "language_info": {
   "codemirror_mode": {
    "name": "ipython",
    "version": 3
   },
   "file_extension": ".py",
   "mimetype": "text/x-python",
   "name": "python",
   "nbconvert_exporter": "python",
   "pygments_lexer": "ipython3",
   "version": "3.10.9"
  },
  "orig_nbformat": 4
 },
 "nbformat": 4,
 "nbformat_minor": 2
}
