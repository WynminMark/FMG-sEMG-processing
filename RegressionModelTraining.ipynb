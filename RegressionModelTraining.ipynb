{
 "cells": [
  {
   "cell_type": "code",
   "execution_count": 2,
   "metadata": {},
   "outputs": [],
   "source": [
    "\"\"\"\n",
    "模型训练\n",
    "\"\"\"\n",
    "\n",
    "import joblib\n",
    "import time\n",
    "import pandas as pd\n",
    "import numpy as np\n",
    "\n",
    "from sklearn import preprocessing\n",
    "from sklearn.svm import SVR\n",
    "from sklearn.model_selection import GridSearchCV\n",
    "from sklearn.model_selection import train_test_split\n",
    "from sklearn.metrics import mean_squared_error"
   ]
  },
  {
   "cell_type": "code",
   "execution_count": 3,
   "metadata": {},
   "outputs": [
    {
     "name": "stdout",
     "output_type": "stream",
     "text": [
      "(2155, 15)\n"
     ]
    },
    {
     "data": {
      "text/html": [
       "<div>\n",
       "<style scoped>\n",
       "    .dataframe tbody tr th:only-of-type {\n",
       "        vertical-align: middle;\n",
       "    }\n",
       "\n",
       "    .dataframe tbody tr th {\n",
       "        vertical-align: top;\n",
       "    }\n",
       "\n",
       "    .dataframe thead th {\n",
       "        text-align: right;\n",
       "    }\n",
       "</style>\n",
       "<table border=\"1\" class=\"dataframe\">\n",
       "  <thead>\n",
       "    <tr style=\"text-align: right;\">\n",
       "      <th></th>\n",
       "      <th>subject_name</th>\n",
       "      <th>height(cm)</th>\n",
       "      <th>weight(kg)</th>\n",
       "      <th>gender</th>\n",
       "      <th>age</th>\n",
       "      <th>sensor_channel</th>\n",
       "      <th>label(kg)</th>\n",
       "      <th>FMG_increase</th>\n",
       "      <th>mav</th>\n",
       "      <th>rms</th>\n",
       "      <th>wave_length</th>\n",
       "      <th>zero_crossing</th>\n",
       "      <th>slope_sign_change</th>\n",
       "      <th>mean_freq</th>\n",
       "      <th>mean_power_freq</th>\n",
       "    </tr>\n",
       "  </thead>\n",
       "  <tbody>\n",
       "    <tr>\n",
       "      <th>0</th>\n",
       "      <td>Wang Junhan</td>\n",
       "      <td>170</td>\n",
       "      <td>60</td>\n",
       "      <td>1</td>\n",
       "      <td>21</td>\n",
       "      <td>bicps_br</td>\n",
       "      <td>0.0</td>\n",
       "      <td>0.635723</td>\n",
       "      <td>10.453135</td>\n",
       "      <td>17.756081</td>\n",
       "      <td>3.921375</td>\n",
       "      <td>-0.437357</td>\n",
       "      <td>-0.245760</td>\n",
       "      <td>52.549982</td>\n",
       "      <td>57.153273</td>\n",
       "    </tr>\n",
       "    <tr>\n",
       "      <th>1</th>\n",
       "      <td>Wang Junhan</td>\n",
       "      <td>170</td>\n",
       "      <td>60</td>\n",
       "      <td>1</td>\n",
       "      <td>21</td>\n",
       "      <td>bicps_br</td>\n",
       "      <td>0.0</td>\n",
       "      <td>0.669451</td>\n",
       "      <td>2.126425</td>\n",
       "      <td>2.229017</td>\n",
       "      <td>0.939814</td>\n",
       "      <td>-0.458228</td>\n",
       "      <td>-0.143381</td>\n",
       "      <td>68.783704</td>\n",
       "      <td>91.455915</td>\n",
       "    </tr>\n",
       "    <tr>\n",
       "      <th>2</th>\n",
       "      <td>Wang Junhan</td>\n",
       "      <td>170</td>\n",
       "      <td>60</td>\n",
       "      <td>1</td>\n",
       "      <td>21</td>\n",
       "      <td>bicps_br</td>\n",
       "      <td>0.0</td>\n",
       "      <td>0.799892</td>\n",
       "      <td>1.900349</td>\n",
       "      <td>1.776664</td>\n",
       "      <td>1.317730</td>\n",
       "      <td>-0.397235</td>\n",
       "      <td>-0.123461</td>\n",
       "      <td>66.730040</td>\n",
       "      <td>91.044406</td>\n",
       "    </tr>\n",
       "    <tr>\n",
       "      <th>3</th>\n",
       "      <td>Wang Junhan</td>\n",
       "      <td>170</td>\n",
       "      <td>60</td>\n",
       "      <td>1</td>\n",
       "      <td>21</td>\n",
       "      <td>bicps_br</td>\n",
       "      <td>0.0</td>\n",
       "      <td>0.638235</td>\n",
       "      <td>1.742331</td>\n",
       "      <td>1.789428</td>\n",
       "      <td>0.926630</td>\n",
       "      <td>-0.372496</td>\n",
       "      <td>-0.129632</td>\n",
       "      <td>71.406150</td>\n",
       "      <td>96.157089</td>\n",
       "    </tr>\n",
       "    <tr>\n",
       "      <th>4</th>\n",
       "      <td>Wang Junhan</td>\n",
       "      <td>170</td>\n",
       "      <td>60</td>\n",
       "      <td>1</td>\n",
       "      <td>21</td>\n",
       "      <td>bicps_br</td>\n",
       "      <td>0.0</td>\n",
       "      <td>0.661840</td>\n",
       "      <td>2.419714</td>\n",
       "      <td>2.047832</td>\n",
       "      <td>1.420618</td>\n",
       "      <td>-0.386364</td>\n",
       "      <td>-0.172241</td>\n",
       "      <td>85.291018</td>\n",
       "      <td>106.993184</td>\n",
       "    </tr>\n",
       "  </tbody>\n",
       "</table>\n",
       "</div>"
      ],
      "text/plain": [
       "  subject_name  height(cm)  weight(kg)  gender  age sensor_channel label(kg)  \\\n",
       "0  Wang Junhan         170          60       1   21       bicps_br       0.0   \n",
       "1  Wang Junhan         170          60       1   21       bicps_br       0.0   \n",
       "2  Wang Junhan         170          60       1   21       bicps_br       0.0   \n",
       "3  Wang Junhan         170          60       1   21       bicps_br       0.0   \n",
       "4  Wang Junhan         170          60       1   21       bicps_br       0.0   \n",
       "\n",
       "   FMG_increase        mav        rms  wave_length  zero_crossing  \\\n",
       "0      0.635723  10.453135  17.756081     3.921375      -0.437357   \n",
       "1      0.669451   2.126425   2.229017     0.939814      -0.458228   \n",
       "2      0.799892   1.900349   1.776664     1.317730      -0.397235   \n",
       "3      0.638235   1.742331   1.789428     0.926630      -0.372496   \n",
       "4      0.661840   2.419714   2.047832     1.420618      -0.386364   \n",
       "\n",
       "   slope_sign_change  mean_freq  mean_power_freq  \n",
       "0          -0.245760  52.549982        57.153273  \n",
       "1          -0.143381  68.783704        91.455915  \n",
       "2          -0.123461  66.730040        91.044406  \n",
       "3          -0.129632  71.406150        96.157089  \n",
       "4          -0.172241  85.291018       106.993184  "
      ]
     },
     "execution_count": 3,
     "metadata": {},
     "output_type": "execute_result"
    }
   ],
   "source": [
    "# read data\n",
    "data_df = pd.read_csv(r\"D:\\code\\data\\iFEMG_data_set\\One_channel_dataset\\20221007.csv\", index_col=0)\n",
    "print(data_df.shape)\n",
    "data_df.head()"
   ]
  },
  {
   "cell_type": "code",
   "execution_count": 4,
   "metadata": {},
   "outputs": [
    {
     "name": "stdout",
     "output_type": "stream",
     "text": [
      "(1949, 15)\n"
     ]
    },
    {
     "data": {
      "text/plain": [
       "subject_name          object\n",
       "height(cm)             int64\n",
       "weight(kg)             int64\n",
       "gender                 int64\n",
       "age                    int64\n",
       "sensor_channel        object\n",
       "label(kg)            float64\n",
       "FMG_increase         float64\n",
       "mav                  float64\n",
       "rms                  float64\n",
       "wave_length          float64\n",
       "zero_crossing        float64\n",
       "slope_sign_change    float64\n",
       "mean_freq            float64\n",
       "mean_power_freq      float64\n",
       "dtype: object"
      ]
     },
     "execution_count": 4,
     "metadata": {},
     "output_type": "execute_result"
    }
   ],
   "source": [
    "\"\"\"\n",
    "数据清洗 remove the data bellow:\n",
    "    1. NaN value\n",
    "    2. label is MVC\n",
    "\"\"\"\n",
    "# replace 'MVC' with NaN\n",
    "data_df = data_df.replace('MVC', np.nan)\n",
    "# delete NaN value\n",
    "data_df = data_df.dropna(how = 'any')\n",
    "\n",
    "# label: str to num\n",
    "data_df['label(kg)']= pd.to_numeric(data_df['label(kg)'])\n",
    "\n",
    "print(data_df.shape)\n",
    "data_df.dtypes\n"
   ]
  },
  {
   "cell_type": "code",
   "execution_count": 5,
   "metadata": {},
   "outputs": [
    {
     "name": "stdout",
     "output_type": "stream",
     "text": [
      "train data shape:  (1559, 13)\n",
      "train label length:  (1559,)\n",
      "test data shape:  (390, 13)\n",
      "test label length:  (390,)\n"
     ]
    }
   ],
   "source": [
    "\"\"\"\n",
    "1. get x and y data\n",
    "2. split train and test\n",
    "3. scale\n",
    "\"\"\"\n",
    "x_data = data_df[['height(cm)', 'weight(kg)', 'gender', 'age', 'label(kg)', 'FMG_increase', 'mav', 'rms', 'wave_length', 'zero_crossing', 'slope_sign_change', 'mean_freq', 'mean_power_freq']].values\n",
    "y_data = data_df['label(kg)'].values\n",
    "\n",
    "# train_data_r, test_data_r, train_label, test_label = train_test_split(x_data, y_data, test_size = 0.2, random_state = 0, stratify = y_data)\n",
    "train_data_r, test_data_r, train_label, test_label = train_test_split(x_data, y_data, test_size = 0.2, random_state = 0)\n",
    "# train_data = preprocessing.normalize(train_data_r, norm = 'max')\n",
    "# test_data = preprocessing.normalize(test_data_r, norm = 'max')\n",
    "scaler = preprocessing.StandardScaler().fit(train_data_r)\n",
    "train_data = scaler.transform(train_data_r)\n",
    "test_data = scaler.transform(test_data_r)\n",
    "\n",
    "print(\"train data shape: \", train_data.shape)\n",
    "print(\"train label length: \", train_label.shape)\n",
    "print(\"test data shape: \", test_data.shape)\n",
    "print(\"test label length: \", test_label.shape)"
   ]
  },
  {
   "cell_type": "code",
   "execution_count": 5,
   "metadata": {},
   "outputs": [
    {
     "name": "stdout",
     "output_type": "stream",
     "text": [
      "start training, time:  2022--11--09 16:41:57\n",
      "{'C': 1000.0, 'gamma': 0.001, 'kernel': 'rbf'}\n",
      "finish, time:  2022--11--09 16:42:04\n"
     ]
    }
   ],
   "source": [
    "\"\"\"\n",
    "Grid searching best parameters of SVR model\n",
    "\"\"\"\n",
    "# 记录开始训练时间\n",
    "start_time = time.perf_counter()\n",
    "\n",
    "# 自动选择合适的参数\n",
    "svr = GridSearchCV(SVR(), param_grid={\"kernel\": (\"rbf\", \"linear\"), \"C\": np.logspace(-3, 3, 7), \"gamma\": np.logspace(-3, 3, 7)}, n_jobs=-1)\n",
    "svr.fit(train_data, train_label)\n",
    "\n",
    "print(svr.best_params_)\n",
    "\n",
    "end_time = time.perf_counter()\n",
    "print(\"运行时间(min): \", (end_time - start_time)/60)"
   ]
  },
  {
   "cell_type": "code",
   "execution_count": 6,
   "metadata": {},
   "outputs": [
    {
     "name": "stdout",
     "output_type": "stream",
     "text": [
      "GridSearchCV(estimator=SVR(), n_jobs=-1,\n",
      "             param_grid={'C': array([1.e-03, 1.e-02, 1.e-01, 1.e+00, 1.e+01, 1.e+02, 1.e+03]),\n",
      "                         'gamma': array([1.e-03, 1.e-02, 1.e-01, 1.e+00, 1.e+01, 1.e+02, 1.e+03]),\n",
      "                         'kernel': ('rbf', 'linear')})train score： 0.9996358359989818\n",
      "GridSearchCV(estimator=SVR(), n_jobs=-1,\n",
      "             param_grid={'C': array([1.e-03, 1.e-02, 1.e-01, 1.e+00, 1.e+01, 1.e+02, 1.e+03]),\n",
      "                         'gamma': array([1.e-03, 1.e-02, 1.e-01, 1.e+00, 1.e+01, 1.e+02, 1.e+03]),\n",
      "                         'kernel': ('rbf', 'linear')})test score： 0.9996304775099476\n",
      "train mean squared error:  0.002440257399917376\n",
      "test mean squared error:  0.0024763594616069875\n"
     ]
    }
   ],
   "source": [
    "\n",
    "score_test = svr.score(test_data, test_label)\n",
    "score_train = svr.score(train_data, train_label)\n",
    "print(str(svr) + \"train score： \" + str(score_train))\n",
    "print(str(svr) + \"test score： \" + str(score_test))\n",
    "test_pre = svr.predict(test_data)\n",
    "train_pre = svr.predict(train_data)\n",
    "print(\"train mean squared error: \", mean_squared_error(train_label, train_pre))\n",
    "print(\"test mean squared error: \", mean_squared_error(test_label, test_pre))\n"
   ]
  },
  {
   "cell_type": "code",
   "execution_count": 1,
   "metadata": {},
   "outputs": [
    {
     "ename": "NameError",
     "evalue": "name 'time' is not defined",
     "output_type": "error",
     "traceback": [
      "\u001b[1;31m---------------------------------------------------------------------------\u001b[0m",
      "\u001b[1;31mNameError\u001b[0m                                 Traceback (most recent call last)",
      "\u001b[1;32mC:\\Users\\WEIMYM~1\\AppData\\Local\\Temp/ipykernel_7200/1206026413.py\u001b[0m in \u001b[0;36m<module>\u001b[1;34m\u001b[0m\n\u001b[0;32m      2\u001b[0m \u001b[1;33m\u001b[0m\u001b[0m\n\u001b[0;32m      3\u001b[0m \u001b[1;31m# 记录开始训练时间\u001b[0m\u001b[1;33m\u001b[0m\u001b[1;33m\u001b[0m\u001b[1;33m\u001b[0m\u001b[0m\n\u001b[1;32m----> 4\u001b[1;33m \u001b[0mstart_time\u001b[0m \u001b[1;33m=\u001b[0m \u001b[0mtime\u001b[0m\u001b[1;33m.\u001b[0m\u001b[0mtime\u001b[0m\u001b[1;33m(\u001b[0m\u001b[1;33m)\u001b[0m\u001b[1;33m\u001b[0m\u001b[1;33m\u001b[0m\u001b[0m\n\u001b[0m\u001b[0;32m      5\u001b[0m \u001b[0mprint\u001b[0m\u001b[1;33m(\u001b[0m\u001b[1;34m\"start training, time: \"\u001b[0m\u001b[1;33m,\u001b[0m \u001b[0mtime\u001b[0m\u001b[1;33m.\u001b[0m\u001b[0mstrftime\u001b[0m\u001b[1;33m(\u001b[0m\u001b[1;34m\"%Y--%m--%d %H:%M:%S\"\u001b[0m\u001b[1;33m,\u001b[0m \u001b[0mtime\u001b[0m\u001b[1;33m.\u001b[0m\u001b[0mlocaltime\u001b[0m\u001b[1;33m(\u001b[0m\u001b[0mstart_time\u001b[0m\u001b[1;33m)\u001b[0m\u001b[1;33m)\u001b[0m\u001b[1;33m)\u001b[0m\u001b[1;33m\u001b[0m\u001b[1;33m\u001b[0m\u001b[0m\n\u001b[0;32m      6\u001b[0m \u001b[1;33m\u001b[0m\u001b[0m\n",
      "\u001b[1;31mNameError\u001b[0m: name 'time' is not defined"
     ]
    }
   ],
   "source": [
    "\"\"\"\n",
    "train model using the best parameters\n",
    "\"\"\"\n",
    "\n",
    "# 记录开始训练时间\n",
    "start_time = time.time()\n",
    "print(\"start training, time: \", time.strftime(\"%Y--%m--%d %H:%M:%S\", time.localtime(start_time)))\n",
    "\n",
    "\n",
    "regression_model = SVR(kernel='rbf', C=1000, gamma=0.001)\n",
    "regression_model.fit(train_data, train_label)\n",
    "\n",
    "end_time = time.time()\n",
    "print(\"finish, time: \", time.strftime(\"%Y--%m--%d %H:%M:%S\", time.localtime(end_time)))"
   ]
  },
  {
   "cell_type": "code",
   "execution_count": 6,
   "metadata": {},
   "outputs": [
    {
     "data": {
      "text/plain": [
       "['OneChannelScaler.save']"
      ]
     },
     "execution_count": 6,
     "metadata": {},
     "output_type": "execute_result"
    }
   ],
   "source": [
    "joblib.dump(svr, 'OneChannelRegression.pkl')\n",
    "joblib.dump(scaler, \"OneChannelScaler.save\")"
   ]
  }
 ],
 "metadata": {
  "kernelspec": {
   "display_name": "Python 3.7.11 ('base')",
   "language": "python",
   "name": "python3"
  },
  "language_info": {
   "codemirror_mode": {
    "name": "ipython",
    "version": 3
   },
   "file_extension": ".py",
   "mimetype": "text/x-python",
   "name": "python",
   "nbconvert_exporter": "python",
   "pygments_lexer": "ipython3",
   "version": "3.7.11"
  },
  "orig_nbformat": 4,
  "vscode": {
   "interpreter": {
    "hash": "380d79c596abafaaa9fb4cb8ba4db6c26c52bcf6afda3a9f10104068bc659f2d"
   }
  }
 },
 "nbformat": 4,
 "nbformat_minor": 2
}
