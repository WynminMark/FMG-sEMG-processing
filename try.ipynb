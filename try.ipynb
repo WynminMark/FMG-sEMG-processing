{
 "cells": [
  {
   "cell_type": "code",
   "execution_count": null,
   "metadata": {},
   "outputs": [],
   "source": [
    "import scipy.io as sio\n",
    "import pandas as pd\n",
    "import numpy as np\n",
    "import matplotlib.pyplot as plt\n",
    "import matplotlib.mlab as mlab\n",
    "import seaborn as sns\n",
    "\n",
    "from iFEMG_feature import *"
   ]
  },
  {
   "cell_type": "code",
   "execution_count": null,
   "metadata": {},
   "outputs": [],
   "source": [
    "# load all experimental data in signal_df \n",
    "# file path format: 'D:\\\\folder path\\\\subject name\\\\label_(rest/active).mat'\n",
    "file_folder_path = 'D:\\code\\data\\iFEMG_data_set'\n",
    "subjects = ['\\zpk1', '\\zpk2', '\\zpk3', '\\zpk4', '\\zpk5', '\\zpk6']\n",
    "mat_name = ['d0', 'd2', 'd5', 'd7', 'dm']\n",
    "\n",
    "signal_df = pd.DataFrame(columns = ('subject_name', 'rest_signal', 'active_signal', 'label', 'sensor_channel'))\n",
    "# rest/active signal: [:, 0]FMG, [:, 1]sEMG\n",
    "\n",
    "for i in subjects:\n",
    "    for j in mat_name:\n",
    "        # print('processing: ', i + j)\n",
    "        # build data frame, every row has a unique label\n",
    "        signal_df = signal_df.append({'subject_name' : i,\n",
    "                                    'rest_signal': sio.loadmat(file_folder_path + i + '\\\\' + j + '_rest.mat')[j + '_rest'],\n",
    "                                    'active_signal': sio.loadmat(file_folder_path + i + '\\\\' + j + '_active.mat')[j + '_active'], \n",
    "                                    'label' : j,\n",
    "                                    'sensor_channel' : 'bicps_br'}, ignore_index=True)\n",
    "    pass"
   ]
  },
  {
   "cell_type": "code",
   "execution_count": null,
   "metadata": {},
   "outputs": [],
   "source": [
    "'''\n",
    "1st index: subjects\n",
    "2nd index: force level\n",
    "3rd index: sensor channel\n",
    "FMG + sEMG + ultrasound\n",
    "'''\n",
    "# init a dataframe to store features\n",
    "# 计算feature dataframe\n",
    "sb_feature_df =pd.DataFrame(columns=('subject_name', 'label', 'FMG_increase', 'sEMG_increase', 'mean_freq', 'mean_power_freq'))\n",
    "\n",
    "# 使用boolean值索引出某一名受试者的实验数据\n",
    "sb_data = signal_df.loc[signal_df.loc[:, 'subject_name'] == '\\zpk2']\n",
    "# 计算一名被试的所有特征\n",
    "for row in sb_data.itertuples():\n",
    "    FMG = FMGFeature(row.rest_signal[:, 0], row.active_signal[:, 0], 1223)\n",
    "    sEMG = sEMGFeature(row.rest_signal[:, 1], row.active_signal[:, 1], 1223)\n",
    "    FMG.signal_segment(2446, 500)\n",
    "    sEMG.signal_segment(2446, 500)\n",
    "    # print(row.label)\n",
    "    temp_FMG_fea = FMG.FMG_increase()\n",
    "    temp_sEMG_freq_fea = sEMG.freq_features()\n",
    "    temp_sEMG_time_fea = sEMG.time_features()\n",
    "    temp_len = len(temp_FMG_fea)\n",
    "    for i in range(temp_len):\n",
    "        sb_feature_df = sb_feature_df.append({'subject_name': row.subject_name,\n",
    "                                            'label': row.label,\n",
    "                                            'FMG_increase': temp_FMG_fea[i],\n",
    "                                            'sEMG_increase': temp_sEMG_time_fea[i],\n",
    "                                            'mean_freq': temp_sEMG_freq_fea[i][0],\n",
    "                                            'mean_power_freq': temp_sEMG_freq_fea[i][1]}, ignore_index=True)\n",
    "        pass\n",
    "    pass\n",
    "\n",
    "# signal features normalization\n",
    "sb_fea_norm_df = fea_df_norm(sb_feature_df, 'FMG_increase', 'sEMG_increase', 'mean_freq', 'mean_power_freq')\n",
    "\n",
    "# show figure\n",
    "show_df = pd.DataFrame(columns = ('subject', 'strength_level', 'norm_values', 'fea_name'))\n",
    "\n",
    "for row in sb_fea_norm_df.itertuples():    # go through each row\n",
    "    for i in ['FMG_increase', 'sEMG_increase', 'mean_freq', 'mean_power_freq']:\n",
    "        show_df = show_df.append({'subject': row.subject_name,\n",
    "                                'strength_level': row.label,\n",
    "                                'norm_values': getattr(row, i),\n",
    "                                'fea_name': i}, ignore_index=True)\n",
    "\n",
    "sns.catplot(x = \"strength_level\",\n",
    "            y = \"norm_values\",\n",
    "            hue = \"fea_name\",\n",
    "            data = show_df,\n",
    "            kind = 'point')"
   ]
  }
 ],
 "metadata": {
  "kernelspec": {
   "display_name": "Python 3.7.11 ('base')",
   "language": "python",
   "name": "python3"
  },
  "language_info": {
   "name": "python",
   "version": "3.7.11"
  },
  "orig_nbformat": 4,
  "vscode": {
   "interpreter": {
    "hash": "380d79c596abafaaa9fb4cb8ba4db6c26c52bcf6afda3a9f10104068bc659f2d"
   }
  }
 },
 "nbformat": 4,
 "nbformat_minor": 2
}
