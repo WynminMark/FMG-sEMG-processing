{
 "cells": [
  {
   "cell_type": "markdown",
   "metadata": {},
   "source": [
    "# 下载h5文件特征数据"
   ]
  },
  {
   "cell_type": "code",
   "execution_count": 1,
   "metadata": {},
   "outputs": [
    {
     "name": "stdout",
     "output_type": "stream",
     "text": [
      "(9531, 60)\n",
      "(9531,)\n"
     ]
    }
   ],
   "source": [
    "import numpy as np\n",
    "import h5py\n",
    "from sklearn.preprocessing import MinMaxScaler\n",
    "from sklearn.model_selection import train_test_split\n",
    "from sklearn import metrics\n",
    "from sklearn.model_selection import cross_val_score\n",
    "from sklearn.ensemble import RandomForestClassifier\n",
    "\n",
    "file = h5py.File('DB2//DB2_S1_feature_200_0.h5','r')\n",
    "featureData   = file['featureData'][:]\n",
    "featureLabel  = file['featureLabel'][:]\n",
    "file.close()\n",
    "\n",
    "featureData = MinMaxScaler().fit_transform(featureData) # 缩放到[0, 1]\n",
    "train_x, test_x, train_y, test_y = train_test_split(featureData, featureLabel, test_size=0.2)\n",
    "\n",
    "print(train_x.shape)\n",
    "print(train_y.shape)"
   ]
  },
  {
   "cell_type": "markdown",
   "metadata": {},
   "source": [
    "# 原始数据训练 "
   ]
  },
  {
   "cell_type": "code",
   "execution_count": 2,
   "metadata": {},
   "outputs": [
    {
     "name": "stdout",
     "output_type": "stream",
     "text": [
      "RF train accuracy: 100.00%\n",
      "RF test  accuracy: 80.40%\n",
      "training took 26.772105s!\n"
     ]
    }
   ],
   "source": [
    "import time\n",
    "start_time = time.time()\n",
    "\n",
    "\"\"\"\n",
    "n_estimators : (default=10) The number of trees in the forest.\n",
    "max_features: 寻找最佳分割时要考虑的特征数量\n",
    "bootstrap: 默认True，构建树时是否使用bootstrap样本。\n",
    "\n",
    "\"\"\"\n",
    "RF = RandomForestClassifier(n_estimators=200, criterion='gini', max_depth=None, min_samples_split=2, \n",
    "                            min_samples_leaf=1, min_weight_fraction_leaf=0.0, max_features='auto',\n",
    "                            max_leaf_nodes=None, min_impurity_decrease=0.0, min_impurity_split=None, \n",
    "                            bootstrap=True, oob_score=True, n_jobs=1, random_state=None, verbose=0,\n",
    "                            warm_start=False, class_weight=None)\n",
    "\n",
    "\n",
    "RF.fit(train_x, train_y)\n",
    "score = RF.score(train_x, train_y)\n",
    "predict = RF.predict(test_x)\n",
    "accuracy = metrics.accuracy_score(test_y, predict)\n",
    "\n",
    "print(\"RF train accuracy: %.2f%%\" %(100*score))\n",
    "print('RF test  accuracy: %.2f%%' % (100 * accuracy))\n",
    "print ('training took %fs!' % (time.time() - start_time))"
   ]
  }
 ],
 "metadata": {
  "kernelspec": {
   "display_name": "Python 3",
   "language": "python",
   "name": "python3"
  },
  "language_info": {
   "codemirror_mode": {
    "name": "ipython",
    "version": 3
   },
   "file_extension": ".py",
   "mimetype": "text/x-python",
   "name": "python",
   "nbconvert_exporter": "python",
   "pygments_lexer": "ipython3",
   "version": "3.6.4"
  }
 },
 "nbformat": 4,
 "nbformat_minor": 2
}
