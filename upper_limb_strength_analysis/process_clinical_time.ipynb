{
 "cells": [
  {
   "cell_type": "code",
   "execution_count": 28,
   "metadata": {},
   "outputs": [],
   "source": [
    "from datetime import datetime\n",
    "import pandas as pd\n",
    "import statistics"
   ]
  },
  {
   "cell_type": "code",
   "execution_count": 5,
   "metadata": {},
   "outputs": [
    {
     "data": {
      "text/html": [
       "<div>\n",
       "<style scoped>\n",
       "    .dataframe tbody tr th:only-of-type {\n",
       "        vertical-align: middle;\n",
       "    }\n",
       "\n",
       "    .dataframe tbody tr th {\n",
       "        vertical-align: top;\n",
       "    }\n",
       "\n",
       "    .dataframe thead th {\n",
       "        text-align: right;\n",
       "    }\n",
       "</style>\n",
       "<table border=\"1\" class=\"dataframe\">\n",
       "  <thead>\n",
       "    <tr style=\"text-align: right;\">\n",
       "      <th></th>\n",
       "      <th>Name</th>\n",
       "      <th>Unnamed: 1</th>\n",
       "      <th>Unnamed: 2</th>\n",
       "      <th>Unnamed: 3</th>\n",
       "      <th>Gender</th>\n",
       "      <th>Age（岁）</th>\n",
       "      <th>Primary Diagnosis</th>\n",
       "      <th>Other Diagnosis</th>\n",
       "      <th>Unnamed: 8</th>\n",
       "      <th>Unnamed: 9</th>\n",
       "      <th>...</th>\n",
       "      <th>Unnamed: 22</th>\n",
       "      <th>随访时年龄</th>\n",
       "      <th>Height(m)</th>\n",
       "      <th>Weight(kg)</th>\n",
       "      <th>健侧握力</th>\n",
       "      <th>患侧握力</th>\n",
       "      <th>健侧屈肘</th>\n",
       "      <th>患侧屈肘</th>\n",
       "      <th>健侧伸肘</th>\n",
       "      <th>患侧伸肘</th>\n",
       "    </tr>\n",
       "  </thead>\n",
       "  <tbody>\n",
       "    <tr>\n",
       "      <th>0</th>\n",
       "      <td>刘春平</td>\n",
       "      <td>NaN</td>\n",
       "      <td>NaN</td>\n",
       "      <td>NaN</td>\n",
       "      <td>F</td>\n",
       "      <td>66</td>\n",
       "      <td>RA</td>\n",
       "      <td>肘关节强硬（左） 腕关节僵硬（左）</td>\n",
       "      <td>NaN</td>\n",
       "      <td>NaN</td>\n",
       "      <td>...</td>\n",
       "      <td>NaN</td>\n",
       "      <td>68.0</td>\n",
       "      <td>166.0</td>\n",
       "      <td>67.0</td>\n",
       "      <td>NaN</td>\n",
       "      <td>NaN</td>\n",
       "      <td>10.49</td>\n",
       "      <td>3.11</td>\n",
       "      <td>7.88</td>\n",
       "      <td>0.37</td>\n",
       "    </tr>\n",
       "    <tr>\n",
       "      <th>1</th>\n",
       "      <td>刘连枝</td>\n",
       "      <td>NaN</td>\n",
       "      <td>NaN</td>\n",
       "      <td>NaN</td>\n",
       "      <td>F</td>\n",
       "      <td>59</td>\n",
       "      <td>关节炎</td>\n",
       "      <td>上肢感染（右，肘）</td>\n",
       "      <td>NaN</td>\n",
       "      <td>NaN</td>\n",
       "      <td>...</td>\n",
       "      <td>NaN</td>\n",
       "      <td>61.0</td>\n",
       "      <td>157.0</td>\n",
       "      <td>65.0</td>\n",
       "      <td>20.2</td>\n",
       "      <td>16.1</td>\n",
       "      <td>6.86</td>\n",
       "      <td>5.86</td>\n",
       "      <td>7.18</td>\n",
       "      <td>4.46</td>\n",
       "    </tr>\n",
       "    <tr>\n",
       "      <th>2</th>\n",
       "      <td>陈哲</td>\n",
       "      <td>NaN</td>\n",
       "      <td>NaN</td>\n",
       "      <td>NaN</td>\n",
       "      <td>F</td>\n",
       "      <td>62</td>\n",
       "      <td>肱骨远端骨折（右，术后骨不连假关节形成）</td>\n",
       "      <td>肘关节僵硬（右）</td>\n",
       "      <td>NaN</td>\n",
       "      <td>NaN</td>\n",
       "      <td>...</td>\n",
       "      <td>NaN</td>\n",
       "      <td>NaN</td>\n",
       "      <td>NaN</td>\n",
       "      <td>NaN</td>\n",
       "      <td>NaN</td>\n",
       "      <td>NaN</td>\n",
       "      <td>NaN</td>\n",
       "      <td>NaN</td>\n",
       "      <td>NaN</td>\n",
       "      <td>NaN</td>\n",
       "    </tr>\n",
       "    <tr>\n",
       "      <th>3</th>\n",
       "      <td>郭树海</td>\n",
       "      <td>NaN</td>\n",
       "      <td>NaN</td>\n",
       "      <td>NaN</td>\n",
       "      <td>M</td>\n",
       "      <td>66</td>\n",
       "      <td>RA</td>\n",
       "      <td>OA 肘关节僵硬（右）</td>\n",
       "      <td>NaN</td>\n",
       "      <td>NaN</td>\n",
       "      <td>...</td>\n",
       "      <td>NaN</td>\n",
       "      <td>68.0</td>\n",
       "      <td>175.0</td>\n",
       "      <td>72.0</td>\n",
       "      <td>19.1</td>\n",
       "      <td>26.6</td>\n",
       "      <td>3.93</td>\n",
       "      <td>3.40</td>\n",
       "      <td>4.70</td>\n",
       "      <td>3.80</td>\n",
       "    </tr>\n",
       "    <tr>\n",
       "      <th>4</th>\n",
       "      <td>石淑珍</td>\n",
       "      <td>NaN</td>\n",
       "      <td>NaN</td>\n",
       "      <td>NaN</td>\n",
       "      <td>F</td>\n",
       "      <td>66</td>\n",
       "      <td>肱骨外髁骨折（左）</td>\n",
       "      <td>肘关节脱位（左）下肢静脉曲张</td>\n",
       "      <td>NaN</td>\n",
       "      <td>NaN</td>\n",
       "      <td>...</td>\n",
       "      <td>NaN</td>\n",
       "      <td>NaN</td>\n",
       "      <td>NaN</td>\n",
       "      <td>NaN</td>\n",
       "      <td>NaN</td>\n",
       "      <td>NaN</td>\n",
       "      <td>NaN</td>\n",
       "      <td>NaN</td>\n",
       "      <td>NaN</td>\n",
       "      <td>NaN</td>\n",
       "    </tr>\n",
       "  </tbody>\n",
       "</table>\n",
       "<p>5 rows × 32 columns</p>\n",
       "</div>"
      ],
      "text/plain": [
       "  Name  Unnamed: 1  Unnamed: 2  Unnamed: 3 Gender Age（岁）  \\\n",
       "0  刘春平         NaN         NaN         NaN      F     66   \n",
       "1  刘连枝         NaN         NaN         NaN      F     59   \n",
       "2   陈哲         NaN         NaN         NaN      F     62   \n",
       "3  郭树海         NaN         NaN         NaN      M     66   \n",
       "4  石淑珍         NaN         NaN         NaN      F     66   \n",
       "\n",
       "      Primary Diagnosis    Other Diagnosis  Unnamed: 8  Unnamed: 9  ...  \\\n",
       "0                    RA  肘关节强硬（左） 腕关节僵硬（左）         NaN         NaN  ...   \n",
       "1                   关节炎          上肢感染（右，肘）         NaN         NaN  ...   \n",
       "2  肱骨远端骨折（右，术后骨不连假关节形成）           肘关节僵硬（右）         NaN         NaN  ...   \n",
       "3                    RA        OA 肘关节僵硬（右）         NaN         NaN  ...   \n",
       "4             肱骨外髁骨折（左）     肘关节脱位（左）下肢静脉曲张         NaN         NaN  ...   \n",
       "\n",
       "   Unnamed: 22  随访时年龄  Height(m) Weight(kg)  健侧握力  患侧握力   健侧屈肘  患侧屈肘  健侧伸肘  \\\n",
       "0          NaN   68.0      166.0       67.0   NaN   NaN  10.49  3.11  7.88   \n",
       "1          NaN   61.0      157.0       65.0  20.2  16.1   6.86  5.86  7.18   \n",
       "2          NaN    NaN        NaN        NaN   NaN   NaN    NaN   NaN   NaN   \n",
       "3          NaN   68.0      175.0       72.0  19.1  26.6   3.93  3.40  4.70   \n",
       "4          NaN    NaN        NaN        NaN   NaN   NaN    NaN   NaN   NaN   \n",
       "\n",
       "   患侧伸肘  \n",
       "0  0.37  \n",
       "1  4.46  \n",
       "2   NaN  \n",
       "3  3.80  \n",
       "4   NaN  \n",
       "\n",
       "[5 rows x 32 columns]"
      ]
     },
     "execution_count": 5,
     "metadata": {},
     "output_type": "execute_result"
    }
   ],
   "source": [
    "data_df = pd.read_excel('E:\\Data\\paper2\\积水潭患者数据集\\已随访患者术式label.xlsx')\n",
    "data_df.head()"
   ]
  },
  {
   "cell_type": "code",
   "execution_count": 21,
   "metadata": {},
   "outputs": [],
   "source": [
    "operation_time = data_df['Operation Date'].values\n",
    "experiment_time = data_df['实际随访时间'].values"
   ]
  },
  {
   "cell_type": "code",
   "execution_count": 26,
   "metadata": {},
   "outputs": [],
   "source": [
    "time_difference_list = []\n",
    "for i in range(len(operation_time)):\n",
    "    date1 = datetime.strptime(str(operation_time[i]), \"%Y%m%d\")\n",
    "    date2 = datetime.strptime(str(experiment_time[i]), \"%Y%m%d\")\n",
    "    time_difference_list.append((date2 - date1).days)\n",
    "    pass"
   ]
  },
  {
   "cell_type": "code",
   "execution_count": 27,
   "metadata": {},
   "outputs": [
    {
     "data": {
      "text/plain": [
       "506.72727272727275"
      ]
     },
     "execution_count": 27,
     "metadata": {},
     "output_type": "execute_result"
    }
   ],
   "source": [
    "sum(time_difference_list)/len(time_difference_list)"
   ]
  },
  {
   "cell_type": "code",
   "execution_count": 29,
   "metadata": {},
   "outputs": [
    {
     "data": {
      "text/plain": [
       "123.60104442041815"
      ]
     },
     "execution_count": 29,
     "metadata": {},
     "output_type": "execute_result"
    }
   ],
   "source": [
    "statistics.stdev(time_difference_list)"
   ]
  }
 ],
 "metadata": {
  "kernelspec": {
   "display_name": "base",
   "language": "python",
   "name": "python3"
  },
  "language_info": {
   "codemirror_mode": {
    "name": "ipython",
    "version": 3
   },
   "file_extension": ".py",
   "mimetype": "text/x-python",
   "name": "python",
   "nbconvert_exporter": "python",
   "pygments_lexer": "ipython3",
   "version": "3.10.13"
  }
 },
 "nbformat": 4,
 "nbformat_minor": 2
}
