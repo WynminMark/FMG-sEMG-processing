{
 "cells": [
  {
   "cell_type": "code",
   "execution_count": 2,
   "metadata": {},
   "outputs": [],
   "source": [
    "\n",
    "import pandas as pd\n",
    "import seaborn as sns\n",
    "\n",
    "from utils_iFEMG_feature import *"
   ]
  },
  {
   "cell_type": "code",
   "execution_count": 3,
   "metadata": {},
   "outputs": [
    {
     "data": {
      "text/plain": [
       "<bound method NDFrame.head of        bicps_br                                                        \\\n",
       "   subject_name height(cm) weight(kg) gender age label(kg)        FMG   \n",
       "0        0919s2        175         72      1  68       0.0   4.027776   \n",
       "1        0919s2        175         72      1  68       0.0  11.361005   \n",
       "2        0919s2        175         72      1  68       0.0   7.396351   \n",
       "3        0919s2        175         72      1  68       0.0   8.793227   \n",
       "4        0919s2        175         72      1  68       0.0   7.112537   \n",
       "5        0919s2        175         72      1  68       0.0   9.088782   \n",
       "6        0919s2        175         72      1  68       0.0   9.483232   \n",
       "7        0919s2        175         72      1  68       0.0   8.664071   \n",
       "8        0919s2        175         72      1  68       0.5   4.024993   \n",
       "9        0919s2        175         72      1  68       0.5   7.632206   \n",
       "10       0919s2        175         72      1  68       0.5   9.760468   \n",
       "11       0919s2        175         72      1  68       0.5   6.374146   \n",
       "12       0919s2        175         72      1  68       0.5   9.914998   \n",
       "13       0919s2        175         72      1  68       0.5  15.929481   \n",
       "14       0919s2        175         72      1  68       0.5  15.377408   \n",
       "15       0919s2        175         72      1  68       0.5  18.223004   \n",
       "16       0919s2        175         72      1  68       1.0   9.073130   \n",
       "17       0919s2        175         72      1  68       1.0  22.205505   \n",
       "18       0919s2        175         72      1  68       1.0  26.348929   \n",
       "19       0919s2        175         72      1  68       1.0  11.872232   \n",
       "20       0919s2        175         72      1  68       1.0  24.565486   \n",
       "21       0919s2        175         72      1  68       1.0   4.819990   \n",
       "22       0919s2        175         72      1  68       1.0  20.138270   \n",
       "23       0919s2        175         72      1  68       2.0  25.821631   \n",
       "24       0919s2        175         72      1  68       2.0  28.701890   \n",
       "25       0919s2        175         72      1  68       2.0  36.362091   \n",
       "26       0919s2        175         72      1  68       2.0  34.410215   \n",
       "27       0919s2        175         72      1  68       2.0  33.882573   \n",
       "28       0919s2        175         72      1  68       2.0  31.412837   \n",
       "29       0919s2        175         72      1  68       2.0  26.437420   \n",
       "30       0919s2        175         72      1  68       2.0  20.988541   \n",
       "\n",
       "                                    ... tricps_br_lateral            \\\n",
       "         mav       rms wave_length  ...               age label(kg)   \n",
       "0   2.925563  3.627150    2.213870  ...                68       0.0   \n",
       "1  -0.773673 -0.901033   -0.360693  ...                68       0.0   \n",
       "2   0.570062  0.624087    0.696521  ...                68       0.0   \n",
       "3   0.033386  0.055700    0.220916  ...                68       0.0   \n",
       "4   0.276779  0.302050    0.479386  ...                68       0.0   \n",
       "5  -0.026593 -0.090772    0.225202  ...                68       0.0   \n",
       "6   0.057202 -0.010197    0.348256  ...                68       0.0   \n",
       "7  -0.075161  0.101363    0.111582  ...                68       0.0   \n",
       "8   0.115941  0.049029    0.198659  ...                68       0.5   \n",
       "9   1.244859  1.515146    0.934039  ...                68       0.5   \n",
       "10  1.019723  0.915221    1.049246  ...                68       0.5   \n",
       "11 -0.007475  0.016222    0.407945  ...                68       0.5   \n",
       "12  0.574565  0.546310    0.839303  ...                68       0.5   \n",
       "13  0.751557  0.825696    1.038032  ...                68       0.5   \n",
       "14  0.535222  0.443472    1.018918  ...                68       0.5   \n",
       "15  0.812123  0.659792    1.116911  ...                68       0.5   \n",
       "16  1.090935  1.475141    0.855166  ...                68       1.0   \n",
       "17  0.322647  0.190192    1.436689  ...                68       1.0   \n",
       "18  0.893705  0.537503    1.931870  ...                68       1.0   \n",
       "19  0.296910  0.110896    1.013564  ...                68       1.0   \n",
       "20  1.490808  1.513291    1.766671  ...                68       1.0   \n",
       "21 -0.073533 -0.027752    0.353148  ...                68       1.0   \n",
       "22 -0.134273 -0.117402    0.289614  ...                68       1.0   \n",
       "23  1.029781  1.085365    1.882558  ...                68       2.0   \n",
       "24  0.694928  0.596792    1.421304  ...                68       2.0   \n",
       "25  0.464361  0.284503    1.275088  ...                68       2.0   \n",
       "26  0.581164  0.572194    1.194209  ...                68       2.0   \n",
       "27  0.469389  0.398197    1.206947  ...                68       2.0   \n",
       "28  0.792566  0.765957    1.228527  ...                68       2.0   \n",
       "29  0.071110 -0.057684    0.503700  ...                68       2.0   \n",
       "30 -0.190010 -0.130832    0.703214  ...                68       2.0   \n",
       "\n",
       "                                                               \\\n",
       "          FMG        mav        rms wave_length zero_crossing   \n",
       "0   28.220156   0.003407   0.179228    0.201902      0.417886   \n",
       "1   20.215571  -0.233809  -0.281149   -0.126824      0.006231   \n",
       "2   14.165053   0.156981   0.365011    0.259856      0.178017   \n",
       "3   16.217056  -0.057153   0.131002   -0.150762      0.088852   \n",
       "4   16.624628   0.069861   0.083025    0.025657     -0.006899   \n",
       "5   16.300027  -0.017614  -0.038866   -0.114387     -0.031715   \n",
       "6   17.371804  -0.041953  -0.198180    0.078721     -0.003772   \n",
       "7   17.609158   0.083220   0.234452   -0.212847     -0.128540   \n",
       "8   13.004287   0.028193   0.003338   -0.101927     -0.015819   \n",
       "9   18.105180  -0.094555  -0.120713   -0.111084     -0.164966   \n",
       "10  19.047633  -0.064035  -0.091457    0.011567      0.044738   \n",
       "11   7.901746  -0.757070  -0.839694   -0.401581      0.501866   \n",
       "12  22.871724   0.015005  -0.010515   -0.036081     -0.070874   \n",
       "13  25.335693  -0.228883  -0.251494   -0.079908      0.170622   \n",
       "14  21.516657  -0.128763  -0.161700   -0.089908      0.026137   \n",
       "15  21.169431   0.114966   0.095685    0.185323     -0.000229   \n",
       "16  12.100275  27.436737  47.096278    5.951925     -0.545859   \n",
       "17  17.755034  -0.308485  -0.381064    0.147385      0.828802   \n",
       "18  20.738151   1.270305   1.183688    0.235786     -0.460307   \n",
       "19  13.859570  -0.523044  -0.571950   -0.128648      0.797207   \n",
       "20  21.545636   0.115975   0.038447   -0.088268     -0.176305   \n",
       "21   4.967353  -0.228102  -0.379527   -0.024683      0.119114   \n",
       "22   5.908941  -0.524400  -0.647990   -0.225369      0.183914   \n",
       "23  25.664643   0.178691   0.113265    0.082206     -0.030869   \n",
       "24  30.068962  -0.079970  -0.202167    0.023938      0.072376   \n",
       "25  36.061477   0.556017   1.090907    0.027070     -0.302859   \n",
       "26  27.914579  -0.280717  -0.426656    0.033740      0.255901   \n",
       "27  32.561114  -0.514184  -0.597753   -0.159537      0.467460   \n",
       "28  30.705811   0.664725   0.858372   -0.007104     -0.273830   \n",
       "29   5.811456   0.011317  -0.005165   -0.084938     -0.065318   \n",
       "30   4.998747   0.341040   0.340993    0.650913      0.484761   \n",
       "\n",
       "                                                 \n",
       "   slope_sign_change  mean_freq mean_power_freq  \n",
       "0           0.039786  19.568150       36.501321  \n",
       "1          -0.083890  46.712635       60.675651  \n",
       "2           0.113893  24.587990       51.208622  \n",
       "3          -0.023263  33.251516       50.149554  \n",
       "4           0.014513  56.306423       82.752873  \n",
       "5          -0.085225  53.695867       72.892859  \n",
       "6          -0.136990  49.488399       69.236409  \n",
       "7          -0.067408  29.255681       51.146378  \n",
       "8          -0.029399  45.445419       60.675057  \n",
       "9          -0.077924  54.011762       77.570270  \n",
       "10         -0.031578  55.738074       87.652305  \n",
       "11         -0.001536  57.010583       81.871323  \n",
       "12         -0.014673  63.286385       88.048544  \n",
       "13         -0.022480  58.893902       91.146854  \n",
       "14         -0.036331  58.371391       93.919620  \n",
       "15          0.029925  60.050743      102.045324  \n",
       "16         -0.297402  18.732796       27.828912  \n",
       "17         -0.014019  84.201753      111.324535  \n",
       "18         -0.117552  18.719251       38.663130  \n",
       "19         -0.016886  70.037727       92.710648  \n",
       "20         -0.164187  66.364721       84.504649  \n",
       "21         -0.026486  27.646090       65.299408  \n",
       "22         -0.062193  81.403975      104.107186  \n",
       "23         -0.148697  65.894264       80.245023  \n",
       "24         -0.106240  37.089182       63.007155  \n",
       "25         -0.146908  38.466331       69.208712  \n",
       "26         -0.043968  69.640652       89.927294  \n",
       "27         -0.101019  64.722873       73.483238  \n",
       "28         -0.154378  18.587960       44.563628  \n",
       "29         -0.066055  73.088160       90.080767  \n",
       "30          0.071736  77.707698       98.139526  \n",
       "\n",
       "[31 rows x 42 columns]>"
      ]
     },
     "execution_count": 3,
     "metadata": {},
     "output_type": "execute_result"
    }
   ],
   "source": [
    "# 读取数据，包含三个肌肉信号通道的特征值\n",
    "data_df = pd.read_csv(r\"E:\\Data\\积水潭患者数据集\\0919s2\\0919s2\\affected\\0919s2_bicps_br_202312.csv\", index_col=0, header=[0,1])\n",
    "data_df.head"
   ]
  },
  {
   "cell_type": "code",
   "execution_count": 14,
   "metadata": {},
   "outputs": [
    {
     "data": {
      "text/plain": [
       "<bound method NDFrame.head of    subject_name  height(cm)  weight(kg)  gender  age  label(kg)        FMG  \\\n",
       "0        0919s2         175          72       1   68        0.0  28.220156   \n",
       "1        0919s2         175          72       1   68        0.0  20.215571   \n",
       "2        0919s2         175          72       1   68        0.0  14.165053   \n",
       "3        0919s2         175          72       1   68        0.0  16.217056   \n",
       "4        0919s2         175          72       1   68        0.0  16.624628   \n",
       "5        0919s2         175          72       1   68        0.0  16.300027   \n",
       "6        0919s2         175          72       1   68        0.0  17.371804   \n",
       "7        0919s2         175          72       1   68        0.0  17.609158   \n",
       "8        0919s2         175          72       1   68        0.5  13.004287   \n",
       "9        0919s2         175          72       1   68        0.5  18.105180   \n",
       "10       0919s2         175          72       1   68        0.5  19.047633   \n",
       "11       0919s2         175          72       1   68        0.5   7.901746   \n",
       "12       0919s2         175          72       1   68        0.5  22.871724   \n",
       "13       0919s2         175          72       1   68        0.5  25.335693   \n",
       "14       0919s2         175          72       1   68        0.5  21.516657   \n",
       "15       0919s2         175          72       1   68        0.5  21.169431   \n",
       "16       0919s2         175          72       1   68        1.0  12.100275   \n",
       "17       0919s2         175          72       1   68        1.0  17.755034   \n",
       "18       0919s2         175          72       1   68        1.0  20.738151   \n",
       "19       0919s2         175          72       1   68        1.0  13.859570   \n",
       "20       0919s2         175          72       1   68        1.0  21.545636   \n",
       "21       0919s2         175          72       1   68        1.0   4.967353   \n",
       "22       0919s2         175          72       1   68        1.0   5.908941   \n",
       "23       0919s2         175          72       1   68        2.0  25.664643   \n",
       "24       0919s2         175          72       1   68        2.0  30.068962   \n",
       "25       0919s2         175          72       1   68        2.0  36.061477   \n",
       "26       0919s2         175          72       1   68        2.0  27.914579   \n",
       "27       0919s2         175          72       1   68        2.0  32.561114   \n",
       "28       0919s2         175          72       1   68        2.0  30.705811   \n",
       "29       0919s2         175          72       1   68        2.0   5.811456   \n",
       "30       0919s2         175          72       1   68        2.0   4.998747   \n",
       "\n",
       "          mav        rms  wave_length  zero_crossing  slope_sign_change  \\\n",
       "0    0.003407   0.179228     0.201902       0.417886           0.039786   \n",
       "1   -0.233809  -0.281149    -0.126824       0.006231          -0.083890   \n",
       "2    0.156981   0.365011     0.259856       0.178017           0.113893   \n",
       "3   -0.057153   0.131002    -0.150762       0.088852          -0.023263   \n",
       "4    0.069861   0.083025     0.025657      -0.006899           0.014513   \n",
       "5   -0.017614  -0.038866    -0.114387      -0.031715          -0.085225   \n",
       "6   -0.041953  -0.198180     0.078721      -0.003772          -0.136990   \n",
       "7    0.083220   0.234452    -0.212847      -0.128540          -0.067408   \n",
       "8    0.028193   0.003338    -0.101927      -0.015819          -0.029399   \n",
       "9   -0.094555  -0.120713    -0.111084      -0.164966          -0.077924   \n",
       "10  -0.064035  -0.091457     0.011567       0.044738          -0.031578   \n",
       "11  -0.757070  -0.839694    -0.401581       0.501866          -0.001536   \n",
       "12   0.015005  -0.010515    -0.036081      -0.070874          -0.014673   \n",
       "13  -0.228883  -0.251494    -0.079908       0.170622          -0.022480   \n",
       "14  -0.128763  -0.161700    -0.089908       0.026137          -0.036331   \n",
       "15   0.114966   0.095685     0.185323      -0.000229           0.029925   \n",
       "16  27.436737  47.096278     5.951925      -0.545859          -0.297402   \n",
       "17  -0.308485  -0.381064     0.147385       0.828802          -0.014019   \n",
       "18   1.270305   1.183688     0.235786      -0.460307          -0.117552   \n",
       "19  -0.523044  -0.571950    -0.128648       0.797207          -0.016886   \n",
       "20   0.115975   0.038447    -0.088268      -0.176305          -0.164187   \n",
       "21  -0.228102  -0.379527    -0.024683       0.119114          -0.026486   \n",
       "22  -0.524400  -0.647990    -0.225369       0.183914          -0.062193   \n",
       "23   0.178691   0.113265     0.082206      -0.030869          -0.148697   \n",
       "24  -0.079970  -0.202167     0.023938       0.072376          -0.106240   \n",
       "25   0.556017   1.090907     0.027070      -0.302859          -0.146908   \n",
       "26  -0.280717  -0.426656     0.033740       0.255901          -0.043968   \n",
       "27  -0.514184  -0.597753    -0.159537       0.467460          -0.101019   \n",
       "28   0.664725   0.858372    -0.007104      -0.273830          -0.154378   \n",
       "29   0.011317  -0.005165    -0.084938      -0.065318          -0.066055   \n",
       "30   0.341040   0.340993     0.650913       0.484761           0.071736   \n",
       "\n",
       "    mean_freq  mean_power_freq  \n",
       "0   19.568150        36.501321  \n",
       "1   46.712635        60.675651  \n",
       "2   24.587990        51.208622  \n",
       "3   33.251516        50.149554  \n",
       "4   56.306423        82.752873  \n",
       "5   53.695867        72.892859  \n",
       "6   49.488399        69.236409  \n",
       "7   29.255681        51.146378  \n",
       "8   45.445419        60.675057  \n",
       "9   54.011762        77.570270  \n",
       "10  55.738074        87.652305  \n",
       "11  57.010583        81.871323  \n",
       "12  63.286385        88.048544  \n",
       "13  58.893902        91.146854  \n",
       "14  58.371391        93.919620  \n",
       "15  60.050743       102.045324  \n",
       "16  18.732796        27.828912  \n",
       "17  84.201753       111.324535  \n",
       "18  18.719251        38.663130  \n",
       "19  70.037727        92.710648  \n",
       "20  66.364721        84.504649  \n",
       "21  27.646090        65.299408  \n",
       "22  81.403975       104.107186  \n",
       "23  65.894264        80.245023  \n",
       "24  37.089182        63.007155  \n",
       "25  38.466331        69.208712  \n",
       "26  69.640652        89.927294  \n",
       "27  64.722873        73.483238  \n",
       "28  18.587960        44.563628  \n",
       "29  73.088160        90.080767  \n",
       "30  77.707698        98.139526  >"
      ]
     },
     "execution_count": 14,
     "metadata": {},
     "output_type": "execute_result"
    }
   ],
   "source": [
    "df2show = data_df['tricps_br_lateral']\n",
    "df2show.head"
   ]
  },
  {
   "cell_type": "code",
   "execution_count": 15,
   "metadata": {},
   "outputs": [
    {
     "data": {
      "text/plain": [
       "<seaborn.axisgrid.FacetGrid at 0x2244ceca890>"
      ]
     },
     "execution_count": 15,
     "metadata": {},
     "output_type": "execute_result"
    },
    {
     "data": {
      "image/png": "[encoded data removed]",
      "text/plain": [
       "<Figure size 680.625x500 with 1 Axes>"
      ]
     },
     "metadata": {},
     "output_type": "display_data"
    }
   ],
   "source": [
    "\"\"\"\n",
    "特征可视化\n",
    "归一化特征值大小----肌力重量\n",
    "\"\"\"\n",
    "# 需要显示和归一化的特征名称\n",
    "col_name = ['FMG', 'mav', 'rms', 'wave_length', 'zero_crossing', 'slope_sign_change', 'mean_freq', 'mean_power_freq']\n",
    "# 调用归一化函数对dataframe进行归一化\n",
    "sb_fea_norm_df = df_norm(df2show, col_name, 'z_score')\n",
    "\n",
    "# show figure\n",
    "show_df = pd.DataFrame(columns = ('subject', 'strength_level', 'norm_values', 'fea_name'))\n",
    "\n",
    "for index, row in sb_fea_norm_df.iterrows():    # go through each row\n",
    "    for i in col_name:\n",
    "        show_df = pd.concat([show_df, pd.DataFrame({'subject': [row['subject_name']],\n",
    "                                                    'strength_level': [row['label(kg)']],\n",
    "                                                    'norm_values': [row[i]],\n",
    "                                                    'fea_name': [i]})], axis = 0, ignore_index=True)\n",
    "# kind = point(两点连线带errbar)/violin(小提琴图)/box(箱线图)\n",
    "sns.catplot(x = \"strength_level\",\n",
    "            y = \"norm_values\",\n",
    "            hue = \"fea_name\",\n",
    "            data = show_df,\n",
    "            kind = 'box')"
   ]
  },
  {
   "cell_type": "code",
   "execution_count": 16,
   "metadata": {},
   "outputs": [],
   "source": [
    "\"\"\"\n",
    "读取df数据，计算其中label为特定值的所有数据的平均值和标准差\n",
    "\"\"\"\n",
    "# FMG\n",
    "data_df1 = pd.read_csv(r\"E:\\Data\\20230424-单人双次iFEMG肌力等级测试\\normed_fea_tricps_br_absnew.csv\", index_col = 0, header = [0, 1])\n",
    "data_df2 = pd.read_csv(r\"E:\\Data\\20230310-iFEMG肌力测试\\normed_fea_tricps_br_absnew.csv\", index_col = 0, header = [0, 1])\n",
    "\n",
    "df = pd.concat([data_df1, data_df2], axis = 0, ignore_index = True)"
   ]
  },
  {
   "cell_type": "code",
   "execution_count": 17,
   "metadata": {},
   "outputs": [
    {
     "name": "stdout",
     "output_type": "stream",
     "text": [
      "mean: 0.6476083272130767, std: 0.28444663818263644\n",
      "mean: 0.7410429060865593, std: 0.24592327352635057\n",
      "mean: 0.7475733496023872, std: 0.23754865368014536\n"
     ]
    }
   ],
   "source": [
    "# 计算平均值\n",
    "mean_value = df[df[('bicps_br', 'label(kg)')] == 1].mean(numeric_only=True)\n",
    "\n",
    "# 计算标准差\n",
    "std_value = df[df[('bicps_br', 'label(kg)')] == 1].std(numeric_only=True)\n",
    "\n",
    "mean_value\n",
    "\n",
    "print(f\"mean: {mean_value[('bicps_br', 'FMG')]}, std: {std_value[('bicps_br', 'FMG')]}\")\n",
    "print(f\"mean: {mean_value[('tricps_br_medial', 'FMG')]}, std: {std_value[('tricps_br_medial', 'FMG')]}\")\n",
    "print(f\"mean: {mean_value[('tricps_br_lateral', 'FMG')]}, std: {std_value[('tricps_br_lateral', 'FMG')]}\")"
   ]
  },
  {
   "cell_type": "code",
   "execution_count": 18,
   "metadata": {},
   "outputs": [],
   "source": [
    "df = pd.read_csv(r\"E:\\Data\\iFEMG相关spss\\超声数据特征和spss\\tricps_stretch_US_norm.csv\", index_col = 0, header = 0)"
   ]
  },
  {
   "cell_type": "code",
   "execution_count": 19,
   "metadata": {},
   "outputs": [
    {
     "data": {
      "text/plain": [
       "['subject',\n",
       " 'weight',\n",
       " 'bicps_br_R',\n",
       " 'bicps_br_thickness',\n",
       " 'tricps_med_R',\n",
       " 'tricps_med_thickness',\n",
       " 'tricps_lat_R',\n",
       " 'tricps_lat_thickness']"
      ]
     },
     "execution_count": 19,
     "metadata": {},
     "output_type": "execute_result"
    }
   ],
   "source": [
    "list(df.columns)"
   ]
  },
  {
   "cell_type": "code",
   "execution_count": 20,
   "metadata": {},
   "outputs": [
    {
     "name": "stdout",
     "output_type": "stream",
     "text": [
      "mean: 0.40253796368683326, std: 0.46966299337777057\n",
      "mean: 0.8409993846506797, std: 0.26199102966301774\n",
      "mean: 0.05, std: 0.22360679774997888\n",
      "mean: 0.9343846221518429, std: 0.23072294320851083\n",
      "mean: 0.05, std: 0.22360679774997888\n",
      "mean: 0.8936649291748135, std: 0.27943951916082066\n"
     ]
    }
   ],
   "source": [
    "# 计算平均值\n",
    "mean_value = df[df['weight'] == 1].mean(numeric_only=True)\n",
    "\n",
    "# 计算标准差\n",
    "std_value = df[df['weight'] == 1].std(numeric_only=True)\n",
    "\n",
    "mean_value\n",
    "\n",
    "print(f\"mean: {mean_value['bicps_br_R']}, std: {std_value['bicps_br_R']}\")\n",
    "print(f\"mean: {mean_value['bicps_br_thickness']}, std: {std_value['bicps_br_thickness']}\")\n",
    "print(f\"mean: {mean_value['tricps_med_R']}, std: {std_value['tricps_med_R']}\")\n",
    "print(f\"mean: {mean_value['tricps_med_thickness']}, std: {std_value['tricps_med_thickness']}\")\n",
    "print(f\"mean: {mean_value['tricps_lat_R']}, std: {std_value['tricps_lat_R']}\")\n",
    "print(f\"mean: {mean_value['tricps_lat_thickness']}, std: {std_value['tricps_lat_thickness']}\")"
   ]
  }
 ],
 "metadata": {
  "kernelspec": {
   "display_name": "Python 3.7.11 ('base')",
   "language": "python",
   "name": "python3"
  },
  "language_info": {
   "codemirror_mode": {
    "name": "ipython",
    "version": 3
   },
   "file_extension": ".py",
   "mimetype": "text/x-python",
   "name": "python",
   "nbconvert_exporter": "python",
   "pygments_lexer": "ipython3",
   "version": "3.10.13"
  },
  "orig_nbformat": 4,
  "vscode": {
   "interpreter": {
    "hash": "380d79c596abafaaa9fb4cb8ba4db6c26c52bcf6afda3a9f10104068bc659f2d"
   }
  }
 },
 "nbformat": 4,
 "nbformat_minor": 2
}
