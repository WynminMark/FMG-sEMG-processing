{
 "cells": [
  {
   "cell_type": "code",
   "execution_count": 2,
   "metadata": {},
   "outputs": [],
   "source": [
    "\"\"\"\n",
    "用于demo一路sEMG&FMG信号进行肌力识别\n",
    "\"\"\"\n",
    "# 官方库\n",
    "import pandas as pd\n",
    "import joblib\n",
    "from sklearn import preprocessing\n",
    "# 自己写的工具包\n",
    "from motiongui import *\n",
    "from iFEMG_feature import *\n",
    "from iFEMGprocessing import read_label, pdtable_read_db, data_segment"
   ]
  },
  {
   "cell_type": "code",
   "execution_count": 3,
   "metadata": {},
   "outputs": [],
   "source": [
    "# read data\n",
    "raw_data = pd.read_table(r\"D:\\code\\data\\iFEMG_data_set\\wjh_1channel\\wjh_5kg.db\", sep = ';', header = None)\n",
    "label = read_label(r\"D:\\code\\data\\iFEMG_data_set\\wjh_1channel\\wjh_5kg.txt\")\n",
    "# read db file\n",
    "# row index 0: time\n",
    "# row index 1-8: FMG signal\n",
    "# row index 9-16: sEMG signal\n",
    "# 读取数据array\n",
    "data_time = raw_data[0].values\n",
    "raw_FMG = raw_data[8].values\n",
    "raw_sEMG = raw_data[16].values\n",
    "\n",
    "FMG = LabeledFMGFeature(raw_FMG, data_time, label, 1223)\n",
    "FMG.signal_segment_label(300)\n",
    "sEMG = LabeledsEMGFeature(raw_sEMG, data_time, label, 1223)\n",
    "sEMG.signal_segment_label(300)\n",
    "# 计算信号特征\n",
    "all_feature_df =pd.DataFrame(columns=('subject_name', 'label', 'FMG_increase', 'mav', 'rms', 'wave_length', 'zero_crossing', 'slope_sign_change', 'mean_freq', 'mean_power_freq'))\n",
    "temp_FMG_fea = FMG.average_increase()\n",
    "temp_mav = sEMG.feature_mav()\n",
    "temp_rms = sEMG.feature_rms()\n",
    "temp_wl = sEMG.feature_wl()\n",
    "temp_zc = sEMG.feature_zc()\n",
    "temp_ssc = sEMG.feature_ssc()\n",
    "temp_sEMG_freq_fea = sEMG.freq_features()\n",
    "temp_len = len(temp_FMG_fea)\n",
    "\n",
    "for i in range(temp_len):\n",
    "    all_feature_df = all_feature_df.append({'subject_name': 'wjh',\n",
    "                                        'label': 'd5',\n",
    "                                        'FMG_increase': temp_FMG_fea[i],\n",
    "                                        'mav': temp_mav[i],\n",
    "                                        'rms': temp_rms[i],\n",
    "                                        'wave_length': temp_wl[i],\n",
    "                                        'zero_crossing': temp_zc[i],\n",
    "                                        'slope_sign_change': temp_ssc[i],\n",
    "                                        'mean_freq': temp_sEMG_freq_fea[i][0],\n",
    "                                        'mean_power_freq': temp_sEMG_freq_fea[i][1]}, ignore_index=True)\n",
    "    pass\n",
    "\n",
    "# normalization\n",
    "all_fea_norm_df = fea_df_norm(all_feature_df, 'FMG_increase', 'mav', 'rms', 'wave_length', 'zero_crossing', 'slope_sign_change', 'mean_freq', 'mean_power_freq')"
   ]
  },
  {
   "cell_type": "code",
   "execution_count": 4,
   "metadata": {},
   "outputs": [
    {
     "data": {
      "text/plain": [
       "array([2.39180476, 4.41914665, 2.69521187, 2.36359553, 0.65000826,\n",
       "       0.69107403, 1.6509273 ])"
      ]
     },
     "execution_count": 4,
     "metadata": {},
     "output_type": "execute_result"
    }
   ],
   "source": [
    "'''\n",
    "predict muscle strength level\n",
    "problem:\n",
    "    scaler and model\n",
    "'''\n",
    "# 索引出数据\n",
    "d5_data = all_feature_df.loc[all_feature_df.loc[:, 'label'] == 'd5'].values[:, 2:]\n",
    "\n",
    "train_data_r = d5_data\n",
    "\n",
    "scaler = preprocessing.StandardScaler().fit(train_data_r)\n",
    "train_data = scaler.transform(train_data_r)\n",
    "\n",
    "regression_model = joblib.load('OneChannelRegression.pkl')\n",
    "regression_model.predict(train_data)"
   ]
  }
 ],
 "metadata": {
  "kernelspec": {
   "display_name": "Python 3.7.11 ('base')",
   "language": "python",
   "name": "python3"
  },
  "language_info": {
   "codemirror_mode": {
    "name": "ipython",
    "version": 3
   },
   "file_extension": ".py",
   "mimetype": "text/x-python",
   "name": "python",
   "nbconvert_exporter": "python",
   "pygments_lexer": "ipython3",
   "version": "3.7.11"
  },
  "orig_nbformat": 4,
  "vscode": {
   "interpreter": {
    "hash": "380d79c596abafaaa9fb4cb8ba4db6c26c52bcf6afda3a9f10104068bc659f2d"
   }
  }
 },
 "nbformat": 4,
 "nbformat_minor": 2
}
