{
 "cells": [
  {
   "cell_type": "code",
   "execution_count": null,
   "metadata": {},
   "outputs": [],
   "source": [
    "# 用于demo一路sEMG&FMG信号进行肌力识别\n",
    "\n",
    "from motiongui import *"
   ]
  },
  {
   "cell_type": "code",
   "execution_count": null,
   "metadata": {},
   "outputs": [],
   "source": [
    "\n",
    "def gui_start():\n",
    "    init_window = tkinter.Tk()              #实例化出一个父窗口\n",
    "    win_a = MotionGuideGUI(init_window)\n",
    "    # 设置根窗口默认属性\n",
    "    win_a.set_init_window()\n",
    "    init_window.after(2000, win_a.gui_loop)\n",
    "    init_window.mainloop()          #父窗口进入事件循环，可以理解为保持窗口运行，否则界面不展示\n",
    "\n"
   ]
  },
  {
   "cell_type": "code",
   "execution_count": null,
   "metadata": {},
   "outputs": [],
   "source": [
    "gui_start()"
   ]
  }
 ],
 "metadata": {
  "kernelspec": {
   "display_name": "Python 3.7.11 ('base')",
   "language": "python",
   "name": "python3"
  },
  "language_info": {
   "name": "python",
   "version": "3.7.11"
  },
  "orig_nbformat": 4,
  "vscode": {
   "interpreter": {
    "hash": "380d79c596abafaaa9fb4cb8ba4db6c26c52bcf6afda3a9f10104068bc659f2d"
   }
  }
 },
 "nbformat": 4,
 "nbformat_minor": 2
}
