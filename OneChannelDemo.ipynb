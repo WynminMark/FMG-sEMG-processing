{
 "cells": [
  {
   "cell_type": "code",
   "execution_count": 1,
   "metadata": {},
   "outputs": [],
   "source": [
    "\"\"\"\n",
    "用于demo一路sEMG&FMG信号进行肌力识别\n",
    "\"\"\"\n",
    "import pandas as pd\n",
    "\n",
    "from motiongui import *\n",
    "from iFEMG_feature import *\n",
    "from iFEMGprocessing import read_label, pdtable_read_db, data_segment"
   ]
  },
  {
   "cell_type": "code",
   "execution_count": 2,
   "metadata": {},
   "outputs": [],
   "source": [
    "# read data\n",
    "raw_data = pd.read_table(r\"D:\\code\\data\\iFEMG_strength_level\\grade-10.db\", sep = ';', header = None)\n",
    "label = read_label(r\"D:\\code\\data\\iFEMG_strength_level\\g-10.txt\")\n",
    "# read db file\n",
    "# row index 0: time\n",
    "# row index 1-8: FMG signal\n",
    "# row index 9-16: sEMG signal\n",
    "# 读取数据array\n",
    "data_time = raw_data[0].values\n",
    "raw_FMG = raw_data[7].values\n",
    "raw_sEMG = raw_data[15].values\n",
    "\n",
    "FMG = LabeledFMGFeature(raw_FMG, data_time, label, 1223)\n",
    "FMG.signal_segment_label(0)"
   ]
  },
  {
   "cell_type": "code",
   "execution_count": 9,
   "metadata": {},
   "outputs": [
    {
     "name": "stdout",
     "output_type": "stream",
     "text": [
      "2456\n",
      "2439\n",
      "2488\n",
      "2481\n",
      "2427\n",
      "2456\n",
      "2441\n",
      "2465\n",
      "2436\n",
      "2513\n",
      "2451\n",
      "2478\n",
      "2449\n",
      "2452\n",
      "2460\n",
      "2473\n"
     ]
    }
   ],
   "source": [
    "sum_len = 0\n",
    "for i in FMG.active_signal_segment:\n",
    "    print(len(i))\n"
   ]
  },
  {
   "cell_type": "code",
   "execution_count": 10,
   "metadata": {},
   "outputs": [
    {
     "name": "stdout",
     "output_type": "stream",
     "text": [
      "2669\n",
      "3698\n",
      "3649\n",
      "3676\n",
      "3681\n",
      "3719\n",
      "3688\n",
      "3701\n",
      "3696\n",
      "3701\n",
      "3684\n",
      "3651\n",
      "3715\n",
      "3706\n",
      "3686\n",
      "3699\n"
     ]
    }
   ],
   "source": [
    "for i in FMG.rest_signal_segment:\n",
    "    print(len(i))"
   ]
  },
  {
   "cell_type": "code",
   "execution_count": 11,
   "metadata": {},
   "outputs": [],
   "source": [
    " # 读取数据array\n",
    "data_time = raw_data[0].values\n",
    "data_FMG = raw_data[7].values\n",
    "data_sEMG = raw_data[15].values\n",
    "\n",
    "\n",
    "#将db文件中的时间转换为ms level时间戳\n",
    "t_stamp = [] # 保存数据文件中时间转换的时间戳，精度ms\n",
    "for t in data_time:\n",
    "    t_array = datetime.datetime.strptime(t, \"%Y-%m-%d %H:%M:%S,%f\")\n",
    "    ret_stamp = int(time.mktime(t_array.timetuple()) * 1000 + t_array.microsecond/1000)\n",
    "    t_stamp.append(ret_stamp)\n",
    "    \n",
    "#处理label.txt中的ms level时间戳\n",
    "# label = read_label(\"D:\\code\\data\\iFEMG\\g-0.txt\")\n",
    "label_t_stamp = [] # 保存label文件中时间对应的时间戳，精度ms\n",
    "for x in label:\n",
    "    t = x[0] + \" \" + x[1]\n",
    "    t_array = datetime.datetime.strptime(t, \"%Y-%m-%d %H:%M:%S.%f\")\n",
    "    ret_stamp = int(time.mktime(t_array.timetuple()) * 1000 + t_array.microsecond/1000)\n",
    "    label_t_stamp.append(ret_stamp)\n",
    "    \n",
    "# 比较数据文件和label文件中时间戳，划分肌电活动段\n",
    "# 储存分割好的数据段\n",
    "sEMG_data_set = []\n",
    "FMG_data_set = []\n",
    "rsEMG_data_set = []\n",
    "rFMG_data_set = []\n",
    "# 临时一段静息数据和激活数据\n",
    "temp_sEMG = []\n",
    "temp_FMG = []\n",
    "temp_sEMG_r = [] # 静息数据\n",
    "temp_FMG_r = []\n",
    "\n",
    "for i in range(len(label) - 1): # 在label时间范围内\n",
    "    if (label[i][2] == \"收缩\") and (label[i + 1][2] == \"舒张\"): # 活动段\n",
    "        for j in range(len(t_stamp)): # 在整个data长度内搜索，可以优化\n",
    "            if label_t_stamp[i] <= t_stamp[j] <= label_t_stamp[i + 1]:\n",
    "                temp_sEMG.append(data_sEMG[j])\n",
    "                temp_FMG.append(data_FMG[j])\n",
    "        if len(temp_FMG) != 0:\n",
    "            sEMG_data_set.append(temp_sEMG)\n",
    "            FMG_data_set.append(temp_FMG)\n",
    "        temp_sEMG = []\n",
    "        temp_FMG = []\n",
    "    else: # 非活动段，肌肉静息\n",
    "        for j in range(len(t_stamp)):\n",
    "            if label_t_stamp[i] <= t_stamp[j] <= label_t_stamp[i + 1]:\n",
    "                temp_sEMG_r.append(data_sEMG[j])\n",
    "                temp_FMG_r.append(data_FMG[j])\n",
    "        rsEMG_data_set.append(temp_sEMG_r)\n",
    "        rFMG_data_set.append(temp_FMG_r)\n",
    "        temp_sEMG_r = []\n",
    "        temp_FMG_r = []"
   ]
  },
  {
   "cell_type": "code",
   "execution_count": 12,
   "metadata": {},
   "outputs": [
    {
     "name": "stdout",
     "output_type": "stream",
     "text": [
      "2456\n",
      "2439\n",
      "2488\n",
      "2481\n",
      "2428\n",
      "2456\n",
      "2446\n",
      "2465\n",
      "2436\n",
      "2513\n",
      "2455\n",
      "2480\n",
      "2449\n",
      "2452\n",
      "2464\n",
      "2473\n"
     ]
    }
   ],
   "source": [
    "sum_len = 0\n",
    "for i in FMG_data_set:\n",
    "    print(len(i))\n",
    "    sum_len += len(i)\n"
   ]
  },
  {
   "cell_type": "code",
   "execution_count": 13,
   "metadata": {},
   "outputs": [
    {
     "name": "stdout",
     "output_type": "stream",
     "text": [
      "2456\n",
      "2439\n",
      "2488\n",
      "2481\n",
      "2428\n",
      "2456\n",
      "2446\n",
      "2465\n",
      "2436\n",
      "2513\n",
      "2455\n",
      "2480\n",
      "2449\n",
      "2452\n",
      "2464\n",
      "2473\n",
      "78762\n",
      "(190667,)\n"
     ]
    }
   ],
   "source": [
    "for i in rFMG_data_set:\n",
    "    print(len(i))\n",
    "    sum_len += len(i)\n",
    "\n",
    "print(sum_len)\n",
    "print(raw_FMG.shape)"
   ]
  }
 ],
 "metadata": {
  "kernelspec": {
   "display_name": "Python 3.7.11 ('base')",
   "language": "python",
   "name": "python3"
  },
  "language_info": {
   "codemirror_mode": {
    "name": "ipython",
    "version": 3
   },
   "file_extension": ".py",
   "mimetype": "text/x-python",
   "name": "python",
   "nbconvert_exporter": "python",
   "pygments_lexer": "ipython3",
   "version": "3.7.11"
  },
  "orig_nbformat": 4,
  "vscode": {
   "interpreter": {
    "hash": "380d79c596abafaaa9fb4cb8ba4db6c26c52bcf6afda3a9f10104068bc659f2d"
   }
  }
 },
 "nbformat": 4,
 "nbformat_minor": 2
}
