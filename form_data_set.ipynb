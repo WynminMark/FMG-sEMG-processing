{
 "cells": [
  {
   "cell_type": "code",
   "execution_count": null,
   "metadata": {},
   "outputs": [],
   "source": [
    "import pandas as pd\n",
    "import scipy.io as sio\n",
    "\n",
    "from iFEMG_feature import *\n",
    "from iFEMGprocessing import read_label"
   ]
  },
  {
   "cell_type": "code",
   "execution_count": null,
   "metadata": {},
   "outputs": [],
   "source": [
    "# read data\n",
    "file_folder_path = 'D:\\code\\data\\iFEMG_data_set\\lry_1channel'\n",
    "file_name = ['lry_0kg', 'lry_0kg-1', 'lry_2-5kg']\n",
    "label_name = [0, 0, 2.5]\n",
    "\n",
    "all_feature_df =pd.DataFrame(columns=('subject_name', \n",
    "                                    'height(cm)',\n",
    "                                    'weight(kg)',\n",
    "                                    'gender',\n",
    "                                    'age',\n",
    "                                    'sensor_channel',\n",
    "                                    'label(kg)', \n",
    "                                    'FMG_increase', \n",
    "                                    'mav', \n",
    "                                    'rms', \n",
    "                                    'wave_length', \n",
    "                                    'zero_crossing', \n",
    "                                    'slope_sign_change', \n",
    "                                    'mean_freq', \n",
    "                                    'mean_power_freq'))\n",
    "\n",
    "for fi in range(len(file_name)):\n",
    "    raw_data = pd.read_table(file_folder_path + '\\\\' + file_name[fi] + '.db', sep = ';', header = None)\n",
    "    label = read_label(file_folder_path + '\\\\' + file_name[fi] + '.txt')\n",
    "    # read db file\n",
    "    # row index 0: time\n",
    "    # row index 1-8: FMG signal\n",
    "    # row index 9-16: sEMG signal\n",
    "    # 读取数据array\n",
    "    data_time = raw_data[0].values\n",
    "    raw_FMG = raw_data[8].values\n",
    "    raw_sEMG = raw_data[16].values\n",
    "\n",
    "    FMG = LabeledFMGFeature(raw_FMG, data_time, label, 1223)\n",
    "    FMG.signal_segment_label(1000)\n",
    "    sEMG = LabeledsEMGFeature(raw_sEMG, data_time, label, 1223)\n",
    "    sEMG.signal_segment_label(1000)\n",
    "    # 计算信号特征\n",
    "    \n",
    "    temp_FMG_fea = FMG.average_increase()\n",
    "    temp_mav = sEMG.feature_mav()\n",
    "    temp_rms = sEMG.feature_rms()\n",
    "    temp_wl = sEMG.feature_wl()\n",
    "    temp_zc = sEMG.feature_zc()\n",
    "    temp_ssc = sEMG.feature_ssc()\n",
    "    temp_sEMG_freq_fea = sEMG.freq_features()\n",
    "    temp_len = len(temp_FMG_fea)\n",
    "\n",
    "    for i in range(temp_len):\n",
    "        all_feature_df = all_feature_df.append({'subject_name': 'Li Ruya',\n",
    "                                            'height(cm)': 165,\n",
    "                                            'weight(kg)': 50,\n",
    "                                            'gender': 0,\n",
    "                                            'age': 33,\n",
    "                                            'sensor_channel': 'bicps_br',\n",
    "                                            'label(kg)': label_name[fi],\n",
    "                                            'FMG_increase': temp_FMG_fea[i],\n",
    "                                            'mav': temp_mav[i],\n",
    "                                            'rms': temp_rms[i],\n",
    "                                            'wave_length': temp_wl[i],\n",
    "                                            'zero_crossing': temp_zc[i],\n",
    "                                            'slope_sign_change': temp_ssc[i],\n",
    "                                            'mean_freq': temp_sEMG_freq_fea[i][0],\n",
    "                                            'mean_power_freq': temp_sEMG_freq_fea[i][1]}, ignore_index=True)\n",
    "        pass\n",
    "\n",
    "print(all_feature_df.shape)\n",
    "all_feature_df.head()"
   ]
  },
  {
   "cell_type": "code",
   "execution_count": null,
   "metadata": {},
   "outputs": [],
   "source": []
  }
 ],
 "metadata": {
  "kernelspec": {
   "display_name": "Python 3.7.11 ('base')",
   "language": "python",
   "name": "python3"
  },
  "language_info": {
   "name": "python",
   "version": "3.7.11"
  },
  "orig_nbformat": 4,
  "vscode": {
   "interpreter": {
    "hash": "380d79c596abafaaa9fb4cb8ba4db6c26c52bcf6afda3a9f10104068bc659f2d"
   }
  }
 },
 "nbformat": 4,
 "nbformat_minor": 2
}
