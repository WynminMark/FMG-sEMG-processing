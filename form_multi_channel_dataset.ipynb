{
 "cells": [
  {
   "cell_type": "code",
   "execution_count": 17,
   "metadata": {},
   "outputs": [],
   "source": [
    "'''\n",
    "用于对一次实验中的多路iFEMG信号进行特征提取\n",
    "\n",
    "没有计算主动与拮抗肌肉之间的差值'''\n",
    "\n",
    "import pandas as pd\n",
    "import os\n",
    "\n",
    "from gui_model_utils import form_feature_df\n",
    "from iFEMG_feature import df_save_csv"
   ]
  },
  {
   "cell_type": "code",
   "execution_count": 46,
   "metadata": {},
   "outputs": [
    {
     "name": "stdout",
     "output_type": "stream",
     "text": [
      "{'bi-0', 'bi-2', 'bi-05', 'tri-0', 'tri-05', 'bi-1', 'w5s1_affected_bicps_br'}\n"
     ]
    }
   ],
   "source": [
    "'''\n",
    "获取文件夹路径中的所有文件名\n",
    "'''\n",
    "folder_path = r\"E:\\Data\\积水潭患者数据集\\w5s1\\affected\"\n",
    "\n",
    "file_name_list = []\n",
    "for file in os.listdir(folder_path):\n",
    "    file_name_list.append(file.split('.')[0])\n",
    "    pass\n",
    "# print(file_name_list)\n",
    "print(set(file_name_list))"
   ]
  },
  {
   "cell_type": "code",
   "execution_count": 49,
   "metadata": {},
   "outputs": [
    {
     "name": "stdout",
     "output_type": "stream",
     "text": [
      "Empty DataFrame\n",
      "Columns: [(agonist_ch1, subject_name), (agonist_ch1, height(cm)), (agonist_ch1, weight(kg)), (agonist_ch1, gender), (agonist_ch1, age), (agonist_ch1, sensor_channel), (agonist_ch1, label(kg)), (agonist_ch1, FMG_increase), (agonist_ch1, mav), (agonist_ch1, rms), (agonist_ch1, wave_length), (agonist_ch1, zero_crossing), (agonist_ch1, slope_sign_change), (agonist_ch1, mean_freq), (agonist_ch1, mean_power_freq), (agonist_ch2, subject_name), (agonist_ch2, height(cm)), (agonist_ch2, weight(kg)), (agonist_ch2, gender), (agonist_ch2, age), (agonist_ch2, sensor_channel), (agonist_ch2, label(kg)), (agonist_ch2, FMG_increase), (agonist_ch2, mav), (agonist_ch2, rms), (agonist_ch2, wave_length), (agonist_ch2, zero_crossing), (agonist_ch2, slope_sign_change), (agonist_ch2, mean_freq), (agonist_ch2, mean_power_freq), (antagonist_ch1, subject_name), (antagonist_ch1, height(cm)), (antagonist_ch1, weight(kg)), (antagonist_ch1, gender), (antagonist_ch1, age), (antagonist_ch1, sensor_channel), (antagonist_ch1, label(kg)), (antagonist_ch1, FMG_increase), (antagonist_ch1, mav), (antagonist_ch1, rms), (antagonist_ch1, wave_length), (antagonist_ch1, zero_crossing), (antagonist_ch1, slope_sign_change), (antagonist_ch1, mean_freq), (antagonist_ch1, mean_power_freq)]\n",
      "Index: []\n",
      "\n",
      "[0 rows x 45 columns]\n",
      "Init dataframe shape:  (0, 45)\n"
     ]
    }
   ],
   "source": [
    "\"\"\"\n",
    "init dataframe\n",
    "REVISE BEFORE RUNNING:  弯举/伸展动作切换时需要改\n",
    "    1. ch_name_list\n",
    "    2. ch_str\n",
    "\"\"\"\n",
    "feature_name_list = ['subject_name', 'height(cm)', 'weight(kg)', 'gender', 'age', 'sensor_channel', 'label(kg)', \n",
    "                    'FMG_increase', 'mav', 'rms', 'wave_length', 'zero_crossing', 'slope_sign_change', 'mean_freq', 'mean_power_freq']\n",
    "\n",
    "ch1_str = \"agonist_ch1\"\n",
    "ch2_str = \"agonist_ch2\"\n",
    "ch3_str = \"antagonist_ch1\"\n",
    "\n",
    "ch1_name_list = []\n",
    "ch2_name_list = []\n",
    "ch3_name_list = []\n",
    "for i in feature_name_list:\n",
    "    ch1_name_list.append(ch1_str)\n",
    "    ch2_name_list.append(ch2_str)\n",
    "    ch3_name_list.append(ch3_str)\n",
    "\n",
    "all_feature_df = pd.DataFrame(columns=pd.MultiIndex.from_product([[ch1_str, ch2_str, ch3_str], feature_name_list]))\n",
    "print(all_feature_df)\n",
    "print(\"Init dataframe shape: \", all_feature_df.shape)"
   ]
  },
  {
   "cell_type": "code",
   "execution_count": 50,
   "metadata": {},
   "outputs": [],
   "source": [
    "\"\"\"\n",
    "read data\n",
    "NEED TO CHANGE BEFORE RUNNING:\n",
    "    1. file_name_list1 文件名\n",
    "    2. label_list 数据的重量标签\n",
    "    3. subject_arg_input 受试者的其他特征参数\n",
    "    4. signal_channel_list 有用信号所在的通道号，ch_name_list 主动肌或拮抗肌，channel_name = \"bicps_br\"肌肉名称对应。三者需对应\n",
    "    5. abandon_ms = 1000, 抛弃前一秒数据，尽量确保数据是等长收缩状态\n",
    "\"\"\"\n",
    "file_name_list1 = ['tri-0', 'tri-05'] # 文件名\n",
    "#file_name_list1 = ['bi-0', 'bi-05', 'bi-1', 'bi-2'] # 文件名\n",
    "label_list1 = [0, 0.5]   # 数据的重量标签\n",
    "subject_name = \"w5s1_affected\"\n",
    "\n",
    "subject_arg_input = {\"subject_height\": 177,\n",
    "                    \"subject_weight\": 71,\n",
    "                    \"subject_age\": 29,\n",
    "                    \"subject_gender\": 1,\n",
    "                    \"subject_name\": subject_name}\n",
    "\n",
    "\n",
    "# signal_channel, 信号对应的传感器通道\n",
    "signal_channel_dic = {\"bicps_br\": 1,\n",
    "                      \"tricps_be_medial\": 4,\n",
    "                      \"tricps_br_lateral\": 3}\n",
    "\n",
    "for i in range(len(file_name_list1)):\n",
    "    #raw_data = pd.read_table(folder_path+'\\\\'+file_name_list1[i]+'.db', sep = ';', header = None)\n",
    "    #label = read_label(folder_path+'\\\\'+file_name_list1[i]+'.txt')\n",
    "    temp_df1 = form_feature_df(db_file_path=folder_path+'\\\\'+file_name_list1[i]+'.db',\n",
    "                            time_file_path=folder_path+'\\\\'+file_name_list1[i]+'.txt',\n",
    "                            signal_channel=signal_channel_dic['bicps_br'],\n",
    "                            channel_name=\"bicps_br\",\n",
    "                            abandon_ms=1000,\n",
    "                            strength_level=label_list1[i],\n",
    "                            **subject_arg_input)\n",
    "    temp_df1.columns=[ch3_name_list, feature_name_list]\n",
    "    # medial长头\n",
    "    temp_df2 = form_feature_df(db_file_path=folder_path+'\\\\'+file_name_list1[i]+'.db',\n",
    "                            time_file_path=folder_path+'\\\\'+file_name_list1[i]+'.txt',\n",
    "                            signal_channel=signal_channel_dic['tricps_be_medial'],\n",
    "                            channel_name=\"tricps_br_medial\",\n",
    "                            abandon_ms=1000,\n",
    "                            strength_level=label_list1[i],\n",
    "                            **subject_arg_input)\n",
    "    temp_df2.columns=[ch1_name_list, feature_name_list]\n",
    "    # lateral外侧头\n",
    "    temp_df3 = form_feature_df(db_file_path=folder_path+'\\\\'+file_name_list1[i]+'.db',\n",
    "                            time_file_path=folder_path+'\\\\'+file_name_list1[i]+'.txt',\n",
    "                            signal_channel=signal_channel_dic['tricps_br_lateral'],\n",
    "                            channel_name=\"tricps_br_lateral\",\n",
    "                            abandon_ms=1000,\n",
    "                            strength_level=label_list1[i],\n",
    "                            **subject_arg_input)\n",
    "    temp_df3.columns=[ch2_name_list, feature_name_list]\n",
    "    # 横向拼接三个通道特征dataframe\n",
    "    temp_df = pd.concat([temp_df3, temp_df2, temp_df1], axis=1)\n",
    "    print(temp_df.shape)\n",
    "    # 数据加入all_feature_df\n",
    "    all_feature_df = pd.concat([all_feature_df, temp_df], axis=0, ignore_index=True)\n",
    "    print(all_feature_df.shape)\n",
    "    pass\n",
    "\n",
    "all_feature_df.head"
   ]
  },
  {
   "cell_type": "code",
   "execution_count": 45,
   "metadata": {},
   "outputs": [
    {
     "name": "stdout",
     "output_type": "stream",
     "text": [
      "Done!\n"
     ]
    }
   ],
   "source": [
    "'''\n",
    "写入文件，增加覆盖检查功能\n",
    "运行前更改：\n",
    "    1. 肌肉名称\n",
    "'''\n",
    "filename = folder_path+'\\\\'+subject_name+\"_tricps_br.csv\"\n",
    "\n",
    "df_save_csv(all_feature_df, filename)"
   ]
  },
  {
   "cell_type": "code",
   "execution_count": 17,
   "metadata": {},
   "outputs": [
    {
     "name": "stdout",
     "output_type": "stream",
     "text": [
      "(32, 45)\n",
      "(31, 45)\n",
      "(31, 45)\n",
      "(32, 45)\n",
      "(31, 45)\n"
     ]
    }
   ],
   "source": [
    "\"\"\"读取数据csv合并成一个\"\"\"\n",
    "df_lpy1 = pd.read_csv(r\"E:\\Data\\20230424-单人双次iFEMG肌力等级测试\\lpy-1\\lpy1_tricps_br.csv\", index_col=0)\n",
    "print(df_lpy1.shape)\n",
    "df_lpy2 = pd.read_csv(r\"E:\\Data\\20230424-单人双次iFEMG肌力等级测试\\lpy-2\\lpy2_tricps_br.csv\", index_col=0)\n",
    "print(df_lpy2.shape)\n",
    "\n",
    "df_pym1 = pd.read_csv(r\"E:\\Data\\20230424-单人双次iFEMG肌力等级测试\\pym-1\\pym1_tricps_br.csv\", index_col=0)\n",
    "print(df_pym1.shape)\n",
    "df_pym2 = pd.read_csv(r\"E:\\Data\\20230424-单人双次iFEMG肌力等级测试\\pym-2\\pym2_tricps_br.csv\", index_col=0)\n",
    "print(df_pym2.shape)\n",
    "\n",
    "df_zk2 = pd.read_csv(r\"E:\\Data\\20230424-单人双次iFEMG肌力等级测试\\zk-2\\zk2_tricps_br.csv\", index_col=0)\n",
    "print(df_zk2.shape)\n"
   ]
  },
  {
   "cell_type": "code",
   "execution_count": 18,
   "metadata": {},
   "outputs": [
    {
     "data": {
      "text/plain": [
       "(157, 45)"
      ]
     },
     "execution_count": 18,
     "metadata": {},
     "output_type": "execute_result"
    }
   ],
   "source": [
    "dd = pd.concat([df_lpy1, df_lpy2, df_pym1, df_pym2, df_zk2], ignore_index=True)\n",
    "dd.shape"
   ]
  },
  {
   "cell_type": "code",
   "execution_count": 19,
   "metadata": {},
   "outputs": [
    {
     "name": "stdout",
     "output_type": "stream",
     "text": [
      "WARNING: This file already exists!\n"
     ]
    }
   ],
   "source": [
    "df_save_csv(dd, r\"E:\\Data\\20230424-单人双次iFEMG肌力等级测试\\tricps_br(pure relaxed).csv\")"
   ]
  },
  {
   "cell_type": "code",
   "execution_count": 20,
   "metadata": {},
   "outputs": [
    {
     "data": {
      "text/html": [
       "<div>\n",
       "<style scoped>\n",
       "    .dataframe tbody tr th:only-of-type {\n",
       "        vertical-align: middle;\n",
       "    }\n",
       "\n",
       "    .dataframe tbody tr th {\n",
       "        vertical-align: top;\n",
       "    }\n",
       "\n",
       "    .dataframe thead tr th {\n",
       "        text-align: left;\n",
       "    }\n",
       "</style>\n",
       "<table border=\"1\" class=\"dataframe\">\n",
       "  <thead>\n",
       "    <tr>\n",
       "      <th></th>\n",
       "      <th colspan=\"2\" halign=\"left\">A</th>\n",
       "      <th>B</th>\n",
       "    </tr>\n",
       "    <tr>\n",
       "      <th></th>\n",
       "      <th>a</th>\n",
       "      <th>b</th>\n",
       "      <th>c</th>\n",
       "    </tr>\n",
       "  </thead>\n",
       "  <tbody>\n",
       "    <tr>\n",
       "      <th>0</th>\n",
       "      <td>1</td>\n",
       "      <td>4</td>\n",
       "      <td>7</td>\n",
       "    </tr>\n",
       "    <tr>\n",
       "      <th>1</th>\n",
       "      <td>2</td>\n",
       "      <td>5</td>\n",
       "      <td>8</td>\n",
       "    </tr>\n",
       "    <tr>\n",
       "      <th>2</th>\n",
       "      <td>3</td>\n",
       "      <td>6</td>\n",
       "      <td>9</td>\n",
       "    </tr>\n",
       "  </tbody>\n",
       "</table>\n",
       "</div>"
      ],
      "text/plain": [
       "   A     B\n",
       "   a  b  c\n",
       "0  1  4  7\n",
       "1  2  5  8\n",
       "2  3  6  9"
      ]
     },
     "execution_count": 20,
     "metadata": {},
     "output_type": "execute_result"
    }
   ],
   "source": [
    "# 定义df1\n",
    "df1 = pd.DataFrame({'a': [1, 2, 3], 'b': [4, 5, 6], 'c': [7, 8, 9]})\n",
    "df1.columns = pd.MultiIndex.from_tuples([('A', 'a'), ('A', 'b'), ('B', 'c')])\n",
    "df1"
   ]
  },
  {
   "cell_type": "code",
   "execution_count": 21,
   "metadata": {},
   "outputs": [],
   "source": [
    "# 定义df2\n",
    "df2 = pd.DataFrame({'d': [10, 11, 12], 'e': [13, 14, 15], 'f': [16, 17, 18]})\n",
    "df2.columns = pd.MultiIndex.from_tuples([('C', 'd'), ('C', 'e'), ('D', 'f')])"
   ]
  },
  {
   "cell_type": "code",
   "execution_count": 22,
   "metadata": {},
   "outputs": [],
   "source": [
    "\"\"\"\n",
    "3 channel model training\n",
    "\"\"\"\n",
    "import numpy as np\n",
    "import time\n",
    "from sklearn import preprocessing\n",
    "from sklearn.svm import SVR\n",
    "from sklearn.model_selection import GridSearchCV\n",
    "from sklearn.model_selection import train_test_split\n",
    "from sklearn.metrics import mean_squared_error"
   ]
  },
  {
   "cell_type": "code",
   "execution_count": 23,
   "metadata": {},
   "outputs": [
    {
     "name": "stdout",
     "output_type": "stream",
     "text": [
      "(156, 45)\n"
     ]
    },
    {
     "data": {
      "text/html": [
       "<div>\n",
       "<style scoped>\n",
       "    .dataframe tbody tr th:only-of-type {\n",
       "        vertical-align: middle;\n",
       "    }\n",
       "\n",
       "    .dataframe tbody tr th {\n",
       "        vertical-align: top;\n",
       "    }\n",
       "\n",
       "    .dataframe thead tr th {\n",
       "        text-align: left;\n",
       "    }\n",
       "</style>\n",
       "<table border=\"1\" class=\"dataframe\">\n",
       "  <thead>\n",
       "    <tr>\n",
       "      <th></th>\n",
       "      <th>agonist_ch1</th>\n",
       "      <th>agonist_ch1.1</th>\n",
       "      <th>agonist_ch1.2</th>\n",
       "      <th>agonist_ch1.3</th>\n",
       "      <th>agonist_ch1.4</th>\n",
       "      <th>agonist_ch1.5</th>\n",
       "      <th>agonist_ch1.6</th>\n",
       "      <th>agonist_ch1.7</th>\n",
       "      <th>agonist_ch1.8</th>\n",
       "      <th>agonist_ch1.9</th>\n",
       "      <th>...</th>\n",
       "      <th>antagonist_ch1.5</th>\n",
       "      <th>antagonist_ch1.6</th>\n",
       "      <th>antagonist_ch1.7</th>\n",
       "      <th>antagonist_ch1.8</th>\n",
       "      <th>antagonist_ch1.9</th>\n",
       "      <th>antagonist_ch1.10</th>\n",
       "      <th>antagonist_ch1.11</th>\n",
       "      <th>antagonist_ch1.12</th>\n",
       "      <th>antagonist_ch1.13</th>\n",
       "      <th>antagonist_ch1.14</th>\n",
       "    </tr>\n",
       "    <tr>\n",
       "      <th>0</th>\n",
       "      <th>subject_name</th>\n",
       "      <th>height(cm)</th>\n",
       "      <th>weight(kg)</th>\n",
       "      <th>gender</th>\n",
       "      <th>age</th>\n",
       "      <th>sensor_channel</th>\n",
       "      <th>label(kg)</th>\n",
       "      <th>FMG_increase</th>\n",
       "      <th>mav</th>\n",
       "      <th>rms</th>\n",
       "      <th>...</th>\n",
       "      <th>sensor_channel</th>\n",
       "      <th>label(kg)</th>\n",
       "      <th>FMG_increase</th>\n",
       "      <th>mav</th>\n",
       "      <th>rms</th>\n",
       "      <th>wave_length</th>\n",
       "      <th>zero_crossing</th>\n",
       "      <th>slope_sign_change</th>\n",
       "      <th>mean_freq</th>\n",
       "      <th>mean_power_freq</th>\n",
       "    </tr>\n",
       "  </thead>\n",
       "  <tbody>\n",
       "    <tr>\n",
       "      <th>1</th>\n",
       "      <td>Li Peiyang</td>\n",
       "      <td>182</td>\n",
       "      <td>82</td>\n",
       "      <td>1</td>\n",
       "      <td>21</td>\n",
       "      <td>tricps_br_medial</td>\n",
       "      <td>0</td>\n",
       "      <td>-0.1591058255666322</td>\n",
       "      <td>-0.4189192336573084</td>\n",
       "      <td>-0.49395191996018273</td>\n",
       "      <td>...</td>\n",
       "      <td>bicps_br</td>\n",
       "      <td>0</td>\n",
       "      <td>-0.0061580781957695915</td>\n",
       "      <td>-0.41048329032373704</td>\n",
       "      <td>-0.48521495155729044</td>\n",
       "      <td>-0.21343477457061122</td>\n",
       "      <td>0.054837334292989856</td>\n",
       "      <td>0.13465125260812846</td>\n",
       "      <td>24.293232518332196</td>\n",
       "      <td>52.21386157784752</td>\n",
       "    </tr>\n",
       "    <tr>\n",
       "      <th>2</th>\n",
       "      <td>Li Peiyang</td>\n",
       "      <td>182</td>\n",
       "      <td>82</td>\n",
       "      <td>1</td>\n",
       "      <td>21</td>\n",
       "      <td>tricps_br_medial</td>\n",
       "      <td>0</td>\n",
       "      <td>-0.20504313384304704</td>\n",
       "      <td>1.5391137562878285</td>\n",
       "      <td>3.3223070323802615</td>\n",
       "      <td>...</td>\n",
       "      <td>bicps_br</td>\n",
       "      <td>0</td>\n",
       "      <td>-0.03354450075864014</td>\n",
       "      <td>6.506753937183124</td>\n",
       "      <td>9.050086457349764</td>\n",
       "      <td>2.963948779279438</td>\n",
       "      <td>-0.3553287715947758</td>\n",
       "      <td>0.09665832036855884</td>\n",
       "      <td>21.23411418684809</td>\n",
       "      <td>31.257801449863848</td>\n",
       "    </tr>\n",
       "    <tr>\n",
       "      <th>3</th>\n",
       "      <td>Li Peiyang</td>\n",
       "      <td>182</td>\n",
       "      <td>82</td>\n",
       "      <td>1</td>\n",
       "      <td>21</td>\n",
       "      <td>tricps_br_medial</td>\n",
       "      <td>0</td>\n",
       "      <td>-0.2761631201275767</td>\n",
       "      <td>-0.2269370566206912</td>\n",
       "      <td>-0.1920596865593652</td>\n",
       "      <td>...</td>\n",
       "      <td>bicps_br</td>\n",
       "      <td>0</td>\n",
       "      <td>-0.017856586481450266</td>\n",
       "      <td>0.023037332265149</td>\n",
       "      <td>0.025014160959113643</td>\n",
       "      <td>0.007926303716033185</td>\n",
       "      <td>0.009602969939330613</td>\n",
       "      <td>-0.13542847162927893</td>\n",
       "      <td>52.22380980497939</td>\n",
       "      <td>55.863455090104274</td>\n",
       "    </tr>\n",
       "    <tr>\n",
       "      <th>4</th>\n",
       "      <td>Li Peiyang</td>\n",
       "      <td>182</td>\n",
       "      <td>82</td>\n",
       "      <td>1</td>\n",
       "      <td>21</td>\n",
       "      <td>tricps_br_medial</td>\n",
       "      <td>0</td>\n",
       "      <td>-0.16088538446599104</td>\n",
       "      <td>-0.14571575569869197</td>\n",
       "      <td>-0.1418560372569347</td>\n",
       "      <td>...</td>\n",
       "      <td>bicps_br</td>\n",
       "      <td>0</td>\n",
       "      <td>0.0009813845681335637</td>\n",
       "      <td>0.06527413840350052</td>\n",
       "      <td>0.08497442106220665</td>\n",
       "      <td>0.028375040175432964</td>\n",
       "      <td>-0.007829753061634196</td>\n",
       "      <td>-0.11063293527452515</td>\n",
       "      <td>52.151105137501126</td>\n",
       "      <td>55.24757121155364</td>\n",
       "    </tr>\n",
       "    <tr>\n",
       "      <th>5</th>\n",
       "      <td>Li Peiyang</td>\n",
       "      <td>182</td>\n",
       "      <td>82</td>\n",
       "      <td>1</td>\n",
       "      <td>21</td>\n",
       "      <td>tricps_br_medial</td>\n",
       "      <td>0</td>\n",
       "      <td>-0.15678558651494467</td>\n",
       "      <td>-0.18624132591716006</td>\n",
       "      <td>-0.1995958912117606</td>\n",
       "      <td>...</td>\n",
       "      <td>bicps_br</td>\n",
       "      <td>0</td>\n",
       "      <td>0.000992349593948645</td>\n",
       "      <td>0.01608693404370395</td>\n",
       "      <td>0.02381965092892157</td>\n",
       "      <td>0.002549418085264593</td>\n",
       "      <td>-0.000683128206614019</td>\n",
       "      <td>-0.025583940415892282</td>\n",
       "      <td>52.030108707460016</td>\n",
       "      <td>55.371699801152715</td>\n",
       "    </tr>\n",
       "  </tbody>\n",
       "</table>\n",
       "<p>5 rows × 45 columns</p>\n",
       "</div>"
      ],
      "text/plain": [
       "   agonist_ch1 agonist_ch1.1 agonist_ch1.2 agonist_ch1.3 agonist_ch1.4  \\\n",
       "0 subject_name    height(cm)    weight(kg)        gender           age   \n",
       "1   Li Peiyang           182            82             1            21   \n",
       "2   Li Peiyang           182            82             1            21   \n",
       "3   Li Peiyang           182            82             1            21   \n",
       "4   Li Peiyang           182            82             1            21   \n",
       "5   Li Peiyang           182            82             1            21   \n",
       "\n",
       "      agonist_ch1.5 agonist_ch1.6         agonist_ch1.7         agonist_ch1.8  \\\n",
       "0    sensor_channel     label(kg)          FMG_increase                   mav   \n",
       "1  tricps_br_medial             0   -0.1591058255666322   -0.4189192336573084   \n",
       "2  tricps_br_medial             0  -0.20504313384304704    1.5391137562878285   \n",
       "3  tricps_br_medial             0   -0.2761631201275767   -0.2269370566206912   \n",
       "4  tricps_br_medial             0  -0.16088538446599104  -0.14571575569869197   \n",
       "5  tricps_br_medial             0  -0.15678558651494467  -0.18624132591716006   \n",
       "\n",
       "          agonist_ch1.9  ... antagonist_ch1.5 antagonist_ch1.6  \\\n",
       "0                   rms  ...   sensor_channel        label(kg)   \n",
       "1  -0.49395191996018273  ...         bicps_br                0   \n",
       "2    3.3223070323802615  ...         bicps_br                0   \n",
       "3   -0.1920596865593652  ...         bicps_br                0   \n",
       "4   -0.1418560372569347  ...         bicps_br                0   \n",
       "5   -0.1995958912117606  ...         bicps_br                0   \n",
       "\n",
       "         antagonist_ch1.7      antagonist_ch1.8      antagonist_ch1.9  \\\n",
       "0            FMG_increase                   mav                   rms   \n",
       "1  -0.0061580781957695915  -0.41048329032373704  -0.48521495155729044   \n",
       "2    -0.03354450075864014     6.506753937183124     9.050086457349764   \n",
       "3   -0.017856586481450266     0.023037332265149  0.025014160959113643   \n",
       "4   0.0009813845681335637   0.06527413840350052   0.08497442106220665   \n",
       "5    0.000992349593948645   0.01608693404370395   0.02381965092892157   \n",
       "\n",
       "      antagonist_ch1.10      antagonist_ch1.11      antagonist_ch1.12  \\\n",
       "0           wave_length          zero_crossing      slope_sign_change   \n",
       "1  -0.21343477457061122   0.054837334292989856    0.13465125260812846   \n",
       "2     2.963948779279438    -0.3553287715947758    0.09665832036855884   \n",
       "3  0.007926303716033185   0.009602969939330613   -0.13542847162927893   \n",
       "4  0.028375040175432964  -0.007829753061634196   -0.11063293527452515   \n",
       "5  0.002549418085264593  -0.000683128206614019  -0.025583940415892282   \n",
       "\n",
       "    antagonist_ch1.13   antagonist_ch1.14  \n",
       "0           mean_freq     mean_power_freq  \n",
       "1  24.293232518332196   52.21386157784752  \n",
       "2   21.23411418684809  31.257801449863848  \n",
       "3   52.22380980497939  55.863455090104274  \n",
       "4  52.151105137501126   55.24757121155364  \n",
       "5  52.030108707460016  55.371699801152715  \n",
       "\n",
       "[5 rows x 45 columns]"
      ]
     },
     "execution_count": 23,
     "metadata": {},
     "output_type": "execute_result"
    }
   ],
   "source": [
    "data_df = pd.read_csv(r\"E:\\Data\\20230424-单人双次iFEMG肌力等级测试\\tricps_br(pure relaxed).csv\", header=[0, 1], index_col=0)\n",
    "print(data_df.shape)\n",
    "data_df.head()"
   ]
  },
  {
   "cell_type": "code",
   "execution_count": 24,
   "metadata": {},
   "outputs": [
    {
     "ename": "KeyError",
     "evalue": "\"None of [Index(['height(cm)', 'weight(kg)', 'gender', 'age', 'FMG_increase', 'mav',\\n       'rms', 'wave_length', 'zero_crossing', 'slope_sign_change', 'mean_freq',\\n       'mean_power_freq'],\\n      dtype='object', name='0')] are in the [columns]\"",
     "output_type": "error",
     "traceback": [
      "\u001b[1;31m---------------------------------------------------------------------------\u001b[0m",
      "\u001b[1;31mKeyError\u001b[0m                                  Traceback (most recent call last)",
      "Cell \u001b[1;32mIn[24], line 1\u001b[0m\n\u001b[1;32m----> 1\u001b[0m x1_data \u001b[39m=\u001b[39m data_df[\u001b[39m\"\u001b[39;49m\u001b[39magonist_ch1\u001b[39;49m\u001b[39m\"\u001b[39;49m][[\u001b[39m'\u001b[39;49m\u001b[39mheight(cm)\u001b[39;49m\u001b[39m'\u001b[39;49m, \u001b[39m'\u001b[39;49m\u001b[39mweight(kg)\u001b[39;49m\u001b[39m'\u001b[39;49m, \u001b[39m'\u001b[39;49m\u001b[39mgender\u001b[39;49m\u001b[39m'\u001b[39;49m, \u001b[39m'\u001b[39;49m\u001b[39mage\u001b[39;49m\u001b[39m'\u001b[39;49m, \u001b[39m'\u001b[39;49m\u001b[39mFMG_increase\u001b[39;49m\u001b[39m'\u001b[39;49m, \u001b[39m'\u001b[39;49m\u001b[39mmav\u001b[39;49m\u001b[39m'\u001b[39;49m, \u001b[39m'\u001b[39;49m\u001b[39mrms\u001b[39;49m\u001b[39m'\u001b[39;49m, \u001b[39m'\u001b[39;49m\u001b[39mwave_length\u001b[39;49m\u001b[39m'\u001b[39;49m, \u001b[39m'\u001b[39;49m\u001b[39mzero_crossing\u001b[39;49m\u001b[39m'\u001b[39;49m, \u001b[39m'\u001b[39;49m\u001b[39mslope_sign_change\u001b[39;49m\u001b[39m'\u001b[39;49m, \u001b[39m'\u001b[39;49m\u001b[39mmean_freq\u001b[39;49m\u001b[39m'\u001b[39;49m, \u001b[39m'\u001b[39;49m\u001b[39mmean_power_freq\u001b[39;49m\u001b[39m'\u001b[39;49m]]\u001b[39m.\u001b[39mvalues\n\u001b[0;32m      2\u001b[0m x2_data \u001b[39m=\u001b[39m data_df[\u001b[39m\"\u001b[39m\u001b[39magonist_ch2\u001b[39m\u001b[39m\"\u001b[39m][[\u001b[39m'\u001b[39m\u001b[39mheight(cm)\u001b[39m\u001b[39m'\u001b[39m, \u001b[39m'\u001b[39m\u001b[39mweight(kg)\u001b[39m\u001b[39m'\u001b[39m, \u001b[39m'\u001b[39m\u001b[39mgender\u001b[39m\u001b[39m'\u001b[39m, \u001b[39m'\u001b[39m\u001b[39mage\u001b[39m\u001b[39m'\u001b[39m, \u001b[39m'\u001b[39m\u001b[39mFMG_increase\u001b[39m\u001b[39m'\u001b[39m, \u001b[39m'\u001b[39m\u001b[39mmav\u001b[39m\u001b[39m'\u001b[39m, \u001b[39m'\u001b[39m\u001b[39mrms\u001b[39m\u001b[39m'\u001b[39m, \u001b[39m'\u001b[39m\u001b[39mwave_length\u001b[39m\u001b[39m'\u001b[39m, \u001b[39m'\u001b[39m\u001b[39mzero_crossing\u001b[39m\u001b[39m'\u001b[39m, \u001b[39m'\u001b[39m\u001b[39mslope_sign_change\u001b[39m\u001b[39m'\u001b[39m, \u001b[39m'\u001b[39m\u001b[39mmean_freq\u001b[39m\u001b[39m'\u001b[39m, \u001b[39m'\u001b[39m\u001b[39mmean_power_freq\u001b[39m\u001b[39m'\u001b[39m]]\u001b[39m.\u001b[39mvalues\n\u001b[0;32m      3\u001b[0m x3_data \u001b[39m=\u001b[39m data_df[\u001b[39m\"\u001b[39m\u001b[39mantagonist_ch2\u001b[39m\u001b[39m\"\u001b[39m][[\u001b[39m'\u001b[39m\u001b[39mheight(cm)\u001b[39m\u001b[39m'\u001b[39m, \u001b[39m'\u001b[39m\u001b[39mweight(kg)\u001b[39m\u001b[39m'\u001b[39m, \u001b[39m'\u001b[39m\u001b[39mgender\u001b[39m\u001b[39m'\u001b[39m, \u001b[39m'\u001b[39m\u001b[39mage\u001b[39m\u001b[39m'\u001b[39m, \u001b[39m'\u001b[39m\u001b[39mFMG_increase\u001b[39m\u001b[39m'\u001b[39m, \u001b[39m'\u001b[39m\u001b[39mmav\u001b[39m\u001b[39m'\u001b[39m, \u001b[39m'\u001b[39m\u001b[39mrms\u001b[39m\u001b[39m'\u001b[39m, \u001b[39m'\u001b[39m\u001b[39mwave_length\u001b[39m\u001b[39m'\u001b[39m, \u001b[39m'\u001b[39m\u001b[39mzero_crossing\u001b[39m\u001b[39m'\u001b[39m, \u001b[39m'\u001b[39m\u001b[39mslope_sign_change\u001b[39m\u001b[39m'\u001b[39m, \u001b[39m'\u001b[39m\u001b[39mmean_freq\u001b[39m\u001b[39m'\u001b[39m, \u001b[39m'\u001b[39m\u001b[39mmean_power_freq\u001b[39m\u001b[39m'\u001b[39m]]\u001b[39m.\u001b[39mvalues\n",
      "File \u001b[1;32me:\\anaconda\\install\\lib\\site-packages\\pandas\\core\\frame.py:3813\u001b[0m, in \u001b[0;36mDataFrame.__getitem__\u001b[1;34m(self, key)\u001b[0m\n\u001b[0;32m   3811\u001b[0m     \u001b[39mif\u001b[39;00m is_iterator(key):\n\u001b[0;32m   3812\u001b[0m         key \u001b[39m=\u001b[39m \u001b[39mlist\u001b[39m(key)\n\u001b[1;32m-> 3813\u001b[0m     indexer \u001b[39m=\u001b[39m \u001b[39mself\u001b[39;49m\u001b[39m.\u001b[39;49mcolumns\u001b[39m.\u001b[39;49m_get_indexer_strict(key, \u001b[39m\"\u001b[39;49m\u001b[39mcolumns\u001b[39;49m\u001b[39m\"\u001b[39;49m)[\u001b[39m1\u001b[39m]\n\u001b[0;32m   3815\u001b[0m \u001b[39m# take() does not accept boolean indexers\u001b[39;00m\n\u001b[0;32m   3816\u001b[0m \u001b[39mif\u001b[39;00m \u001b[39mgetattr\u001b[39m(indexer, \u001b[39m\"\u001b[39m\u001b[39mdtype\u001b[39m\u001b[39m\"\u001b[39m, \u001b[39mNone\u001b[39;00m) \u001b[39m==\u001b[39m \u001b[39mbool\u001b[39m:\n",
      "File \u001b[1;32me:\\anaconda\\install\\lib\\site-packages\\pandas\\core\\indexes\\base.py:6070\u001b[0m, in \u001b[0;36mIndex._get_indexer_strict\u001b[1;34m(self, key, axis_name)\u001b[0m\n\u001b[0;32m   6067\u001b[0m \u001b[39melse\u001b[39;00m:\n\u001b[0;32m   6068\u001b[0m     keyarr, indexer, new_indexer \u001b[39m=\u001b[39m \u001b[39mself\u001b[39m\u001b[39m.\u001b[39m_reindex_non_unique(keyarr)\n\u001b[1;32m-> 6070\u001b[0m \u001b[39mself\u001b[39;49m\u001b[39m.\u001b[39;49m_raise_if_missing(keyarr, indexer, axis_name)\n\u001b[0;32m   6072\u001b[0m keyarr \u001b[39m=\u001b[39m \u001b[39mself\u001b[39m\u001b[39m.\u001b[39mtake(indexer)\n\u001b[0;32m   6073\u001b[0m \u001b[39mif\u001b[39;00m \u001b[39misinstance\u001b[39m(key, Index):\n\u001b[0;32m   6074\u001b[0m     \u001b[39m# GH 42790 - Preserve name from an Index\u001b[39;00m\n",
      "File \u001b[1;32me:\\anaconda\\install\\lib\\site-packages\\pandas\\core\\indexes\\base.py:6130\u001b[0m, in \u001b[0;36mIndex._raise_if_missing\u001b[1;34m(self, key, indexer, axis_name)\u001b[0m\n\u001b[0;32m   6128\u001b[0m     \u001b[39mif\u001b[39;00m use_interval_msg:\n\u001b[0;32m   6129\u001b[0m         key \u001b[39m=\u001b[39m \u001b[39mlist\u001b[39m(key)\n\u001b[1;32m-> 6130\u001b[0m     \u001b[39mraise\u001b[39;00m \u001b[39mKeyError\u001b[39;00m(\u001b[39mf\u001b[39m\u001b[39m\"\u001b[39m\u001b[39mNone of [\u001b[39m\u001b[39m{\u001b[39;00mkey\u001b[39m}\u001b[39;00m\u001b[39m] are in the [\u001b[39m\u001b[39m{\u001b[39;00maxis_name\u001b[39m}\u001b[39;00m\u001b[39m]\u001b[39m\u001b[39m\"\u001b[39m)\n\u001b[0;32m   6132\u001b[0m not_found \u001b[39m=\u001b[39m \u001b[39mlist\u001b[39m(ensure_index(key)[missing_mask\u001b[39m.\u001b[39mnonzero()[\u001b[39m0\u001b[39m]]\u001b[39m.\u001b[39munique())\n\u001b[0;32m   6133\u001b[0m \u001b[39mraise\u001b[39;00m \u001b[39mKeyError\u001b[39;00m(\u001b[39mf\u001b[39m\u001b[39m\"\u001b[39m\u001b[39m{\u001b[39;00mnot_found\u001b[39m}\u001b[39;00m\u001b[39m not in index\u001b[39m\u001b[39m\"\u001b[39m)\n",
      "\u001b[1;31mKeyError\u001b[0m: \"None of [Index(['height(cm)', 'weight(kg)', 'gender', 'age', 'FMG_increase', 'mav',\\n       'rms', 'wave_length', 'zero_crossing', 'slope_sign_change', 'mean_freq',\\n       'mean_power_freq'],\\n      dtype='object', name='0')] are in the [columns]\""
     ]
    }
   ],
   "source": [
    "x1_data = data_df[\"agonist_ch1\"][['height(cm)', 'weight(kg)', 'gender', 'age', 'FMG_increase', 'mav', 'rms', 'wave_length', 'zero_crossing', 'slope_sign_change', 'mean_freq', 'mean_power_freq']].values\n",
    "x2_data = data_df[\"agonist_ch2\"][['height(cm)', 'weight(kg)', 'gender', 'age', 'FMG_increase', 'mav', 'rms', 'wave_length', 'zero_crossing', 'slope_sign_change', 'mean_freq', 'mean_power_freq']].values\n",
    "x3_data = data_df[\"antagonist_ch2\"][['height(cm)', 'weight(kg)', 'gender', 'age', 'FMG_increase', 'mav', 'rms', 'wave_length', 'zero_crossing', 'slope_sign_change', 'mean_freq', 'mean_power_freq']].values\n",
    "\n",
    "y_data = data_df[\"agonist_ch1\"]['label(kg)'].values\n",
    "x_data = np.concatenate((x1_data, x2_data, x3_data), axis=1)\n",
    "print(\"data shape: \", x_data.shape)\n",
    "\n",
    "train_data_r, test_data_r, train_label, test_label = train_test_split(x_data, y_data, test_size = 0.2, random_state = 0)\n",
    "# train_data = preprocessing.normalize(train_data_r, norm = 'max')\n",
    "# test_data = preprocessing.normalize(test_data_r, norm = 'max')\n",
    "scaler = preprocessing.StandardScaler().fit(train_data_r)\n",
    "train_data = scaler.transform(train_data_r)\n",
    "test_data = scaler.transform(test_data_r)\n",
    "\n",
    "print(\"train data shape: \", train_data.shape)\n",
    "print(\"train label length: \", train_label.shape)\n",
    "print(\"test data shape: \", test_data.shape)\n",
    "print(\"test label length: \", test_label.shape)"
   ]
  },
  {
   "cell_type": "code",
   "execution_count": null,
   "metadata": {},
   "outputs": [
    {
     "name": "stdout",
     "output_type": "stream",
     "text": [
      "start training, time:  2022--11--21 21:22:39\n",
      "{'C': 1.0, 'gamma': 0.1, 'kernel': 'rbf'}\n",
      "finish, time:  2022--11--21 21:22:40\n"
     ]
    }
   ],
   "source": [
    "\"\"\"\n",
    "Grid searching best parameters of SVR model\n",
    "\"\"\"\n",
    "# 记录开始训练时间\n",
    "start_time = time.perf_counter()\n",
    "\n",
    "# 自动选择合适的参数\n",
    "svr = GridSearchCV(SVR(), param_grid={\"kernel\": (\"rbf\", \"linear\"), \"C\": np.logspace(-3, 3, 7), \"gamma\": np.logspace(-3, 3, 7)}, n_jobs=-1)\n",
    "svr.fit(train_data, train_label)\n",
    "\n",
    "print(svr.best_params_)\n",
    "\n",
    "end_time = time.perf_counter()\n",
    "print(\"training time(min): \", (end_time - start_time)/60)"
   ]
  },
  {
   "cell_type": "code",
   "execution_count": null,
   "metadata": {},
   "outputs": [
    {
     "name": "stdout",
     "output_type": "stream",
     "text": [
      "GridSearchCV(estimator=SVR(), n_jobs=-1,\n",
      "             param_grid={'C': array([1.e-03, 1.e-02, 1.e-01, 1.e+00, 1.e+01, 1.e+02, 1.e+03]),\n",
      "                         'gamma': array([1.e-03, 1.e-02, 1.e-01, 1.e+00, 1.e+01, 1.e+02, 1.e+03]),\n",
      "                         'kernel': ('rbf', 'linear')})train score： 0.9492612112237954\n",
      "GridSearchCV(estimator=SVR(), n_jobs=-1,\n",
      "             param_grid={'C': array([1.e-03, 1.e-02, 1.e-01, 1.e+00, 1.e+01, 1.e+02, 1.e+03]),\n",
      "                         'gamma': array([1.e-03, 1.e-02, 1.e-01, 1.e+00, 1.e+01, 1.e+02, 1.e+03]),\n",
      "                         'kernel': ('rbf', 'linear')})test score： 0.9475451019066321\n",
      "train mean squared error:  0.008495207450243339\n",
      "test mean squared error:  0.006362872253929249\n"
     ]
    }
   ],
   "source": [
    "score_test = svr.score(test_data, test_label)\n",
    "score_train = svr.score(train_data, train_label)\n",
    "print(str(svr) + \"train score： \" + str(score_train))\n",
    "print(str(svr) + \"test score： \" + str(score_test))\n",
    "test_pre = svr.predict(test_data)\n",
    "train_pre = svr.predict(train_data)\n",
    "print(\"train mean squared error: \", mean_squared_error(train_label, train_pre))\n",
    "print(\"test mean squared error: \", mean_squared_error(test_label, test_pre))\n"
   ]
  }
 ],
 "metadata": {
  "kernelspec": {
   "display_name": "Python 3.7.11 ('base')",
   "language": "python",
   "name": "python3"
  },
  "language_info": {
   "codemirror_mode": {
    "name": "ipython",
    "version": 3
   },
   "file_extension": ".py",
   "mimetype": "text/x-python",
   "name": "python",
   "nbconvert_exporter": "python",
   "pygments_lexer": "ipython3",
   "version": "3.10.9"
  },
  "orig_nbformat": 4,
  "vscode": {
   "interpreter": {
    "hash": "380d79c596abafaaa9fb4cb8ba4db6c26c52bcf6afda3a9f10104068bc659f2d"
   }
  }
 },
 "nbformat": 4,
 "nbformat_minor": 2
}
