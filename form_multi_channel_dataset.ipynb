{
 "cells": [
  {
   "cell_type": "code",
   "execution_count": 4,
   "metadata": {},
   "outputs": [],
   "source": [
    "import pandas as pd\n",
    "\n",
    "from gui_model_utils import form_feature_df"
   ]
  },
  {
   "cell_type": "code",
   "execution_count": 5,
   "metadata": {},
   "outputs": [
    {
     "data": {
      "text/html": [
       "<div>\n",
       "<style scoped>\n",
       "    .dataframe tbody tr th:only-of-type {\n",
       "        vertical-align: middle;\n",
       "    }\n",
       "\n",
       "    .dataframe tbody tr th {\n",
       "        vertical-align: top;\n",
       "    }\n",
       "\n",
       "    .dataframe thead tr th {\n",
       "        text-align: left;\n",
       "    }\n",
       "</style>\n",
       "<table border=\"1\" class=\"dataframe\">\n",
       "  <thead>\n",
       "    <tr>\n",
       "      <th></th>\n",
       "      <th colspan=\"10\" halign=\"left\">agonist_ch1</th>\n",
       "      <th>...</th>\n",
       "      <th colspan=\"10\" halign=\"left\">antagonist_ch2</th>\n",
       "    </tr>\n",
       "    <tr>\n",
       "      <th></th>\n",
       "      <th>subject_name</th>\n",
       "      <th>height(cm)</th>\n",
       "      <th>weight(kg)</th>\n",
       "      <th>gender</th>\n",
       "      <th>age</th>\n",
       "      <th>sensor_channel</th>\n",
       "      <th>label(kg)</th>\n",
       "      <th>FMG_increase</th>\n",
       "      <th>mav</th>\n",
       "      <th>rms</th>\n",
       "      <th>...</th>\n",
       "      <th>sensor_channel</th>\n",
       "      <th>label(kg)</th>\n",
       "      <th>FMG_increase</th>\n",
       "      <th>mav</th>\n",
       "      <th>rms</th>\n",
       "      <th>wave_length</th>\n",
       "      <th>zero_crossing</th>\n",
       "      <th>slope_sign_change</th>\n",
       "      <th>mean_freq</th>\n",
       "      <th>mean_power_freq</th>\n",
       "    </tr>\n",
       "  </thead>\n",
       "  <tbody>\n",
       "  </tbody>\n",
       "</table>\n",
       "<p>0 rows × 45 columns</p>\n",
       "</div>"
      ],
      "text/plain": [
       "Empty DataFrame\n",
       "Columns: [(agonist_ch1, subject_name), (agonist_ch1, height(cm)), (agonist_ch1, weight(kg)), (agonist_ch1, gender), (agonist_ch1, age), (agonist_ch1, sensor_channel), (agonist_ch1, label(kg)), (agonist_ch1, FMG_increase), (agonist_ch1, mav), (agonist_ch1, rms), (agonist_ch1, wave_length), (agonist_ch1, zero_crossing), (agonist_ch1, slope_sign_change), (agonist_ch1, mean_freq), (agonist_ch1, mean_power_freq), (antagonist_ch1, subject_name), (antagonist_ch1, height(cm)), (antagonist_ch1, weight(kg)), (antagonist_ch1, gender), (antagonist_ch1, age), (antagonist_ch1, sensor_channel), (antagonist_ch1, label(kg)), (antagonist_ch1, FMG_increase), (antagonist_ch1, mav), (antagonist_ch1, rms), (antagonist_ch1, wave_length), (antagonist_ch1, zero_crossing), (antagonist_ch1, slope_sign_change), (antagonist_ch1, mean_freq), (antagonist_ch1, mean_power_freq), (antagonist_ch2, subject_name), (antagonist_ch2, height(cm)), (antagonist_ch2, weight(kg)), (antagonist_ch2, gender), (antagonist_ch2, age), (antagonist_ch2, sensor_channel), (antagonist_ch2, label(kg)), (antagonist_ch2, FMG_increase), (antagonist_ch2, mav), (antagonist_ch2, rms), (antagonist_ch2, wave_length), (antagonist_ch2, zero_crossing), (antagonist_ch2, slope_sign_change), (antagonist_ch2, mean_freq), (antagonist_ch2, mean_power_freq)]\n",
       "Index: []\n",
       "\n",
       "[0 rows x 45 columns]"
      ]
     },
     "execution_count": 5,
     "metadata": {},
     "output_type": "execute_result"
    }
   ],
   "source": [
    "\"\"\"\n",
    "REVISE BEFORE RUNNING:  \n",
    "    1. ch_name_list\n",
    "\"\"\"\n",
    "\n",
    "\n",
    "block_name_list = ['subject_name', \n",
    "                    'height(cm)', \n",
    "                    'weight(kg)', \n",
    "                    'gender', \n",
    "                    'age', \n",
    "                    'sensor_channel', \n",
    "                    'label(kg)', \n",
    "                    'FMG_increase', \n",
    "                    'mav', \n",
    "                    'rms', \n",
    "                    'wave_length', \n",
    "                    'zero_crossing', \n",
    "                    'slope_sign_change', \n",
    "                    'mean_freq', \n",
    "                    'mean_power_freq']\n",
    "ch1_name_list = []\n",
    "ch2_name_list = []\n",
    "ch3_name_list = []\n",
    "for i in block_name_list:\n",
    "    ch1_name_list.append(\"agonist_ch1\")\n",
    "    ch2_name_list.append(\"antagonist_ch1\")\n",
    "    ch3_name_list.append(\"antagonist_ch2\")\n",
    "\n",
    "all_feature_df = pd.DataFrame(columns=[ch1_name_list + ch2_name_list + ch3_name_list, block_name_list + block_name_list + block_name_list])\n",
    "all_feature_df"
   ]
  },
  {
   "cell_type": "code",
   "execution_count": 9,
   "metadata": {},
   "outputs": [
    {
     "data": {
      "text/html": [
       "<div>\n",
       "<style scoped>\n",
       "    .dataframe tbody tr th:only-of-type {\n",
       "        vertical-align: middle;\n",
       "    }\n",
       "\n",
       "    .dataframe tbody tr th {\n",
       "        vertical-align: top;\n",
       "    }\n",
       "\n",
       "    .dataframe thead tr th {\n",
       "        text-align: left;\n",
       "    }\n",
       "</style>\n",
       "<table border=\"1\" class=\"dataframe\">\n",
       "  <thead>\n",
       "    <tr>\n",
       "      <th></th>\n",
       "      <th>G</th>\n",
       "      <th>Group 1</th>\n",
       "      <th>Group 3</th>\n",
       "    </tr>\n",
       "    <tr>\n",
       "      <th></th>\n",
       "      <th>r</th>\n",
       "      <th>Group 2</th>\n",
       "      <th>Group 3</th>\n",
       "    </tr>\n",
       "    <tr>\n",
       "      <th></th>\n",
       "      <th>o</th>\n",
       "      <th>NaN</th>\n",
       "      <th>NaN</th>\n",
       "    </tr>\n",
       "    <tr>\n",
       "      <th></th>\n",
       "      <th>u</th>\n",
       "      <th>NaN</th>\n",
       "      <th>NaN</th>\n",
       "    </tr>\n",
       "    <tr>\n",
       "      <th></th>\n",
       "      <th>p</th>\n",
       "      <th>NaN</th>\n",
       "      <th>NaN</th>\n",
       "    </tr>\n",
       "    <tr>\n",
       "      <th></th>\n",
       "      <th></th>\n",
       "      <th>NaN</th>\n",
       "      <th>NaN</th>\n",
       "    </tr>\n",
       "    <tr>\n",
       "      <th></th>\n",
       "      <th>1</th>\n",
       "      <th>NaN</th>\n",
       "      <th>NaN</th>\n",
       "    </tr>\n",
       "  </thead>\n",
       "  <tbody>\n",
       "  </tbody>\n",
       "</table>\n",
       "</div>"
      ],
      "text/plain": [
       "Empty DataFrame\n",
       "Columns: [(G, r, o, u, p,  , 1), (Group 1, Group 2, nan, nan, nan, nan, nan), (Group 3, Group 3, nan, nan, nan, nan, nan)]\n",
       "Index: []"
      ]
     },
     "execution_count": 9,
     "metadata": {},
     "output_type": "execute_result"
    }
   ],
   "source": [
    "columns_name = pd.MultiIndex.from_tuples([(\"Group 1\"), \n",
    "                                   (\"Group 1\", \"Group 2\"),\n",
    "                                   (\"Group 3\",\"Group 3\")])\n",
    "  \n",
    "# Creating a pandas dataframe with \n",
    "# multilevel-column indexing\n",
    "df = pd.DataFrame(columns=columns_name)\n",
    "df"
   ]
  }
 ],
 "metadata": {
  "kernelspec": {
   "display_name": "Python 3.7.11 ('base')",
   "language": "python",
   "name": "python3"
  },
  "language_info": {
   "codemirror_mode": {
    "name": "ipython",
    "version": 3
   },
   "file_extension": ".py",
   "mimetype": "text/x-python",
   "name": "python",
   "nbconvert_exporter": "python",
   "pygments_lexer": "ipython3",
   "version": "3.7.11"
  },
  "orig_nbformat": 4,
  "vscode": {
   "interpreter": {
    "hash": "380d79c596abafaaa9fb4cb8ba4db6c26c52bcf6afda3a9f10104068bc659f2d"
   }
  }
 },
 "nbformat": 4,
 "nbformat_minor": 2
}
