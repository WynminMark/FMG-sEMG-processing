{
 "cells": [
  {
   "cell_type": "code",
   "execution_count": 2,
   "metadata": {},
   "outputs": [],
   "source": [
    "'''\n",
    "用于对一次实验中的多路iFEMG信号进行特征提取\n",
    "\n",
    "没有计算主动与拮抗肌肉之间的差值'''\n",
    "\n",
    "import pandas as pd\n",
    "import os\n",
    "\n",
    "from gui_model_utils import form_feature_df\n",
    "from iFEMG_feature import df_save_csv"
   ]
  },
  {
   "cell_type": "code",
   "execution_count": 32,
   "metadata": {},
   "outputs": [
    {
     "name": "stdout",
     "output_type": "stream",
     "text": [
      "Empty DataFrame\n",
      "Columns: [(bicps_br, subject_name), (bicps_br, height(cm)), (bicps_br, weight(kg)), (bicps_br, gender), (bicps_br, age), (bicps_br, label(kg)), (bicps_br, FMG), (bicps_br, mav), (bicps_br, rms), (bicps_br, wave_length), (bicps_br, zero_crossing), (bicps_br, slope_sign_change), (bicps_br, mean_freq), (bicps_br, mean_power_freq), (tricps_br_medial, subject_name), (tricps_br_medial, height(cm)), (tricps_br_medial, weight(kg)), (tricps_br_medial, gender), (tricps_br_medial, age), (tricps_br_medial, label(kg)), (tricps_br_medial, FMG), (tricps_br_medial, mav), (tricps_br_medial, rms), (tricps_br_medial, wave_length), (tricps_br_medial, zero_crossing), (tricps_br_medial, slope_sign_change), (tricps_br_medial, mean_freq), (tricps_br_medial, mean_power_freq), (tricps_br_lateral, subject_name), (tricps_br_lateral, height(cm)), (tricps_br_lateral, weight(kg)), (tricps_br_lateral, gender), (tricps_br_lateral, age), (tricps_br_lateral, label(kg)), (tricps_br_lateral, FMG), (tricps_br_lateral, mav), (tricps_br_lateral, rms), (tricps_br_lateral, wave_length), (tricps_br_lateral, zero_crossing), (tricps_br_lateral, slope_sign_change), (tricps_br_lateral, mean_freq), (tricps_br_lateral, mean_power_freq)]\n",
      "Index: []\n",
      "\n",
      "[0 rows x 42 columns]\n",
      "Init dataframe shape:  (0, 42)\n"
     ]
    }
   ],
   "source": [
    "\"\"\"\n",
    "init dataframe\n",
    "REVISE BEFORE RUNNING:  弯举/伸展动作切换时需要改\n",
    "    1. ch_name_list\n",
    "    2. ch_str\n",
    "\"\"\"\n",
    "feature_name_list = ['subject_name', 'height(cm)', 'weight(kg)', 'gender', 'age', 'label(kg)', \n",
    "                    'FMG', 'mav', 'rms', 'wave_length', 'zero_crossing', 'slope_sign_change', 'mean_freq', 'mean_power_freq']\n",
    "\n",
    "ch1_str = \"bicps_br\"\n",
    "ch2_str = \"tricps_br_medial\"\n",
    "ch3_str = \"tricps_br_lateral\"\n",
    "\n",
    "ch1_name_list = [ch1_str for i in feature_name_list]\n",
    "ch2_name_list = [ch2_str for i in feature_name_list]\n",
    "ch3_name_list = [ch3_str for i in feature_name_list]\n",
    "\n",
    "all_feature_df = pd.DataFrame(columns=pd.MultiIndex.from_product([[ch1_str, ch2_str, ch3_str], feature_name_list]))\n",
    "print(all_feature_df)\n",
    "print(\"Init dataframe shape: \", all_feature_df.shape)"
   ]
  },
  {
   "cell_type": "code",
   "execution_count": 33,
   "metadata": {},
   "outputs": [
    {
     "name": "stdout",
     "output_type": "stream",
     "text": [
      "(5, 42)\n",
      "(5, 42)\n",
      "No such file: ('E:\\\\Data\\\\20230310-iFEMG肌力测试\\\\zpk-2\\\\tri-05.db', 'E:\\\\Data\\\\20230310-iFEMG肌力测试\\\\zpk-2\\\\tri-05.txt')\n",
      "(5, 42)\n",
      "(5, 42)\n",
      "(10, 42)\n"
     ]
    },
    {
     "data": {
      "text/plain": [
       "<bound method NDFrame.head of       bicps_br                                                          \\\n",
       "  subject_name height(cm) weight(kg) gender age label(kg)          FMG   \n",
       "0          zpk        190         80      1  26         0   617.078346   \n",
       "1          zpk        190         80      1  26         0   947.145390   \n",
       "2          zpk        190         80      1  26         0  1094.941240   \n",
       "3          zpk        190         80      1  26         0  1013.833107   \n",
       "4          zpk        190         80      1  26         0  1049.699918   \n",
       "5          zpk        190         80      1  26         1   854.170712   \n",
       "6          zpk        190         80      1  26         1   492.321311   \n",
       "7          zpk        190         80      1  26         1   805.931880   \n",
       "8          zpk        190         80      1  26         1   886.927362   \n",
       "9          zpk        190         80      1  26         1   838.612620   \n",
       "\n",
       "                                   ... tricps_br_lateral            \\\n",
       "        mav       rms wave_length  ...               age label(kg)   \n",
       "0  5.087794  6.439324    6.092422  ...                26         0   \n",
       "1  5.293592  6.593825    6.138050  ...                26         0   \n",
       "2  5.374516  6.686522    6.164258  ...                26         0   \n",
       "3  5.258518  6.599336    6.147337  ...                26         0   \n",
       "4  5.343049  6.674393    6.168027  ...                26         0   \n",
       "5  5.374040  6.716472    6.166486  ...                26         1   \n",
       "6  5.233701  6.563506    6.137945  ...                26         1   \n",
       "7  5.129741  6.484634    6.072796  ...                26         1   \n",
       "8  5.324973  6.733860    6.193408  ...                26         1   \n",
       "9  5.380733  6.773800    6.063289  ...                26         1   \n",
       "\n",
       "                                                                    \\\n",
       "           FMG          mav          rms wave_length zero_crossing   \n",
       "0  5060.214635  2731.764710  5240.252220  630.134651      0.098749   \n",
       "1  4875.090016  3171.878893  4253.000172  492.048417      0.048827   \n",
       "2  4323.091948  2829.722153  4237.429969  422.708241      0.051687   \n",
       "3  4851.748029  2060.876284  2591.242750  366.784514      0.053275   \n",
       "4  5132.500410  1673.566168  2117.585151  494.493818      0.089915   \n",
       "5  5569.505590  6256.545480  8906.289561  940.483590      0.058631   \n",
       "6  5768.288798  3814.712207  5385.734781  880.861950      0.082514   \n",
       "7  5675.811989  2674.553841  3958.982162  569.083869      0.070845   \n",
       "8  5671.403332  2503.585115  4495.405406  545.720861      0.084926   \n",
       "9  5894.502881  2495.455801  3448.814014  725.137925      0.090261   \n",
       "\n",
       "                                                \n",
       "  slope_sign_change  mean_freq mean_power_freq  \n",
       "0          0.293798  21.468357       30.685146  \n",
       "1          0.251500  17.365890       25.272555  \n",
       "2          0.226333  21.551408       27.465129  \n",
       "3          0.260397  17.734126       29.164678  \n",
       "4          0.289697  28.582231       46.149188  \n",
       "5          0.220344  19.566482       29.753595  \n",
       "6          0.265847  20.359784       31.335528  \n",
       "7          0.265940  20.142965       33.746980  \n",
       "8          0.273348  20.937614       30.485589  \n",
       "9          0.282305  21.294167       41.030376  \n",
       "\n",
       "[10 rows x 42 columns]>"
      ]
     },
     "execution_count": 33,
     "metadata": {},
     "output_type": "execute_result"
    }
   ],
   "source": [
    "# signal_channel, 信号对应的传感器通道\n",
    "signal_channel_dic = {\"bicps_br\": 1,\n",
    "                      \"tricps_br_lateral\": 2,\n",
    "                      \"tricps_br_medial\": 8}\n",
    "\n",
    "# 存储文件名对应重量标签的dic\n",
    "bicps_dic = {'bi-0': 0, 'bi-05': 0.5, 'bi-1': 1, 'bi-2': 2}\n",
    "tricps_dic = {'tri-0': 0, 'tri-05': 0.5, 'tri-1': 1}\n",
    "\n",
    "# 需要更改\n",
    "folder_path = r\"E:\\Data\\20230310-iFEMG肌力测试\\zpk-2\"\n",
    "file_name_dic = tricps_dic\n",
    "subject_name = \"zpk\"\n",
    "subject_arg_input = {\"subject_height\": 190,\n",
    "                    \"subject_weight\": 80,\n",
    "                    \"subject_age\": 26,\n",
    "                    \"subject_gender\": 1,\n",
    "                    \"subject_name\": subject_name}\n",
    "\n",
    "for key, value in file_name_dic.items():\n",
    "    #raw_data = pd.read_table(folder_path+'\\\\'+file_name_list1[i]+'.db', sep = ';', header = None)\n",
    "    #label = read_label(folder_path+'\\\\'+file_name_list1[i]+'.txt')\n",
    "    temp_df = form_feature_df(db_file_path = folder_path + '\\\\' + key + '.db',\n",
    "                              time_file_path = folder_path + '\\\\' + key + '.txt',\n",
    "                              channel_name_dic = signal_channel_dic,\n",
    "                              abandon_ms = 1000,\n",
    "                              strength_level = value,\n",
    "                              **subject_arg_input)\n",
    "    try:\n",
    "        print(temp_df.shape)\n",
    "    except AttributeError:\n",
    "        pass\n",
    "    # 数据加入all_feature_df\n",
    "    all_feature_df = pd.concat([all_feature_df, temp_df], axis=0, ignore_index=True)\n",
    "    print(all_feature_df.shape)\n",
    "    pass\n",
    "\n",
    "all_feature_df.head\n"
   ]
  },
  {
   "cell_type": "code",
   "execution_count": 34,
   "metadata": {},
   "outputs": [
    {
     "name": "stdout",
     "output_type": "stream",
     "text": [
      "File E:\\Data\\20230310-iFEMG肌力测试\\zpk-2\\zpk_tricps_br_absnew.csv saved!\n"
     ]
    }
   ],
   "source": [
    "\"\"\"\n",
    "写入文件，增加覆盖检查功能\n",
    "运行前更改：\n",
    "    1. 肌肉名称\n",
    "\"\"\"\n",
    "filename = folder_path + '\\\\' + subject_name + \"_tricps_br_absnew.csv\"\n",
    "\n",
    "df_save_csv(all_feature_df, filename)"
   ]
  }
 ],
 "metadata": {
  "kernelspec": {
   "display_name": "Python 3.7.11 ('base')",
   "language": "python",
   "name": "python3"
  },
  "language_info": {
   "codemirror_mode": {
    "name": "ipython",
    "version": 3
   },
   "file_extension": ".py",
   "mimetype": "text/x-python",
   "name": "python",
   "nbconvert_exporter": "python",
   "pygments_lexer": "ipython3",
   "version": "3.10.9"
  },
  "orig_nbformat": 4,
  "vscode": {
   "interpreter": {
    "hash": "380d79c596abafaaa9fb4cb8ba4db6c26c52bcf6afda3a9f10104068bc659f2d"
   }
  }
 },
 "nbformat": 4,
 "nbformat_minor": 2
}
