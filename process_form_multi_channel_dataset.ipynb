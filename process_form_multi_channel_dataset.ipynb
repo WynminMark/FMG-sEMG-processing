{
 "cells": [
  {
   "cell_type": "code",
   "execution_count": 1,
   "metadata": {},
   "outputs": [],
   "source": [
    "'''\n",
    "STEP 1 每个人特征值的提取\n",
    "\n",
    "用于对一次实验中的多路iFEMG信号进行特征提取\n",
    "\n",
    "没有计算主动与拮抗肌肉之间的差值'''\n",
    "\n",
    "import pandas as pd\n",
    "import os\n",
    "\n",
    "from utils_gui_model import form_feature_df\n",
    "from utils_iFEMG_feature import df_save_csv"
   ]
  },
  {
   "cell_type": "code",
   "execution_count": 7,
   "metadata": {},
   "outputs": [
    {
     "name": "stdout",
     "output_type": "stream",
     "text": [
      "Empty DataFrame\n",
      "Columns: [(bicps_br, subject_name), (bicps_br, height(cm)), (bicps_br, weight(kg)), (bicps_br, gender), (bicps_br, age), (bicps_br, label(kg)), (bicps_br, FMG), (bicps_br, mav), (bicps_br, rms), (bicps_br, wave_length), (bicps_br, zero_crossing), (bicps_br, slope_sign_change), (bicps_br, mean_freq), (bicps_br, mean_power_freq), (tricps_br_medial, subject_name), (tricps_br_medial, height(cm)), (tricps_br_medial, weight(kg)), (tricps_br_medial, gender), (tricps_br_medial, age), (tricps_br_medial, label(kg)), (tricps_br_medial, FMG), (tricps_br_medial, mav), (tricps_br_medial, rms), (tricps_br_medial, wave_length), (tricps_br_medial, zero_crossing), (tricps_br_medial, slope_sign_change), (tricps_br_medial, mean_freq), (tricps_br_medial, mean_power_freq), (tricps_br_lateral, subject_name), (tricps_br_lateral, height(cm)), (tricps_br_lateral, weight(kg)), (tricps_br_lateral, gender), (tricps_br_lateral, age), (tricps_br_lateral, label(kg)), (tricps_br_lateral, FMG), (tricps_br_lateral, mav), (tricps_br_lateral, rms), (tricps_br_lateral, wave_length), (tricps_br_lateral, zero_crossing), (tricps_br_lateral, slope_sign_change), (tricps_br_lateral, mean_freq), (tricps_br_lateral, mean_power_freq)]\n",
      "Index: []\n",
      "\n",
      "[0 rows x 42 columns]\n",
      "Init dataframe shape:  (0, 42)\n"
     ]
    }
   ],
   "source": [
    "\"\"\"\n",
    "init dataframe\n",
    "REVISE BEFORE RUNNING:  弯举/伸展动作切换时需要改\n",
    "    1. ch_name_list\n",
    "    2. ch_str\n",
    "\"\"\"\n",
    "feature_name_list = ['subject_name', 'height(cm)', 'weight(kg)', 'gender', 'age', 'label(kg)', \n",
    "                    'FMG', 'mav', 'rms', 'wave_length', 'zero_crossing', 'slope_sign_change', 'mean_freq', 'mean_power_freq']\n",
    "\n",
    "ch1_str = \"bicps_br\"\n",
    "ch2_str = \"tricps_br_medial\"\n",
    "ch3_str = \"tricps_br_lateral\"\n",
    "\n",
    "ch1_name_list = [ch1_str for i in feature_name_list]\n",
    "ch2_name_list = [ch2_str for i in feature_name_list]\n",
    "ch3_name_list = [ch3_str for i in feature_name_list]\n",
    "\n",
    "all_feature_df = pd.DataFrame(columns=pd.MultiIndex.from_product([[ch1_str, ch2_str, ch3_str], feature_name_list]))\n",
    "print(all_feature_df)\n",
    "print(\"Init dataframe shape: \", all_feature_df.shape)"
   ]
  },
  {
   "cell_type": "code",
   "execution_count": 8,
   "metadata": {},
   "outputs": [
    {
     "name": "stdout",
     "output_type": "stream",
     "text": [
      "(5, 42)\n",
      "(5, 42)\n",
      "No such file: ('E:\\\\Data\\\\20230310-iFEMG肌力测试\\\\zpk-2\\\\tri-05.db', 'E:\\\\Data\\\\20230310-iFEMG肌力测试\\\\zpk-2\\\\tri-05.txt')\n",
      "(5, 42)\n"
     ]
    },
    {
     "name": "stderr",
     "output_type": "stream",
     "text": [
      "C:\\Users\\WeimyMark\\AppData\\Local\\Temp\\ipykernel_14688\\2772667768.py:39: FutureWarning: The behavior of DataFrame concatenation with empty or all-NA entries is deprecated. In a future version, this will no longer exclude empty or all-NA columns when determining the result dtypes. To retain the old behavior, exclude the relevant entries before the concat operation.\n",
      "  all_feature_df = pd.concat([all_feature_df, temp_df], axis=0, ignore_index=True)\n"
     ]
    },
    {
     "name": "stdout",
     "output_type": "stream",
     "text": [
      "(5, 42)\n",
      "(10, 42)\n"
     ]
    },
    {
     "data": {
      "text/plain": [
       "<bound method NDFrame.head of       bicps_br                                                                 \\\n",
       "  subject_name height(cm) weight(kg) gender age label(kg)       FMG       mav   \n",
       "0          zpk        190         80      1  26         0  0.195751 -0.049475   \n",
       "1          zpk        190         80      1  26         0  0.446952  0.025388   \n",
       "2          zpk        190         80      1  26         0 -0.021600 -0.000481   \n",
       "3          zpk        190         80      1  26         0 -0.003158 -0.030776   \n",
       "4          zpk        190         80      1  26         0 -0.104312  0.013074   \n",
       "5          zpk        190         80      1  26         1 -0.387595  0.027100   \n",
       "6          zpk        190         80      1  26         1 -0.418349  0.002898   \n",
       "7          zpk        190         80      1  26         1  0.191789 -0.019608   \n",
       "8          zpk        190         80      1  26         1  0.032019  0.049314   \n",
       "9          zpk        190         80      1  26         1 -0.161358  0.076599   \n",
       "\n",
       "                         ... tricps_br_lateral                                \\\n",
       "        rms wave_length  ...               age label(kg)       FMG       mav   \n",
       "0 -0.051407   -0.024454  ...                26         0  0.920932 -0.645513   \n",
       "1  0.029285    0.020548  ...                26         0  0.885280  0.567817   \n",
       "2 -0.005186    0.011508  ...                26         0  0.540290  0.154155   \n",
       "3 -0.030480    0.000862  ...                26         0  0.792142  0.132490   \n",
       "4  0.000923   -0.031341  ...                26         0  0.757417  0.177643   \n",
       "5  0.023280   -0.011380  ...                26         1  1.094013  0.243930   \n",
       "6 -0.003320   -0.000847  ...                26         1  0.804909 -0.219468   \n",
       "7 -0.008255    0.013841  ...                26         1  0.770281  0.007926   \n",
       "8  0.055873    0.043096  ...                26         1  0.759634  0.512048   \n",
       "9  0.075491    0.025578  ...                26         1  0.905209  0.205301   \n",
       "\n",
       "                                                                    \\\n",
       "        rms wave_length zero_crossing slope_sign_change  mean_freq   \n",
       "0 -0.502696   -0.491754      1.239334          0.471213  20.504282   \n",
       "1  0.472999    0.567668     -0.065935          0.425574  14.766234   \n",
       "2  0.252308    0.168479      0.044208          0.228453  18.243472   \n",
       "3 -0.126030    0.150482     -0.147517          0.188045  15.443754   \n",
       "4 -0.035675    0.826946      0.615289          0.474206  20.619137   \n",
       "5  0.133998    0.230299      0.134105          0.480362  18.300787   \n",
       "6 -0.289988    0.258012      0.885884          0.650851  19.067101   \n",
       "7 -0.180891    0.584587      0.280921          0.391196  16.663605   \n",
       "8  0.510690    1.251032      0.534302          0.461704  20.648063   \n",
       "9 -0.073224    1.288021      0.579582          0.699385  19.618974   \n",
       "\n",
       "                   \n",
       "  mean_power_freq  \n",
       "0       29.066375  \n",
       "1       21.385882  \n",
       "2       22.609253  \n",
       "3       22.059776  \n",
       "4       34.240887  \n",
       "5       26.170069  \n",
       "6       27.408449  \n",
       "7       26.509680  \n",
       "8       28.239407  \n",
       "9       36.620275  \n",
       "\n",
       "[10 rows x 42 columns]>"
      ]
     },
     "execution_count": 8,
     "metadata": {},
     "output_type": "execute_result"
    }
   ],
   "source": [
    "# signal_channel, 信号对应的传感器通道\n",
    "signal_channel_dic = {\"bicps_br\": 1,\n",
    "                      \"tricps_br_lateral\": 2,\n",
    "                      \"tricps_br_medial\": 8}\n",
    "\n",
    "# 存储文件名对应重量标签的dic\n",
    "# bicps_dic = {'bi-0': 0, 'bi-05': 0.5, 'bi-1': 1, 'bi-2': 2}\n",
    "tricps_dic = {'tri-0': 0, 'tri-05': 0.5, 'tri-1': 1}\n",
    "bicps_dic = {'bi-0': 0, 'bi-05': 0.5, 'bi-1': 1, 'bi-2': 2}\n",
    "# tricps_dic = {'tri-0': 0, 'tri-05': 0.5, 'tri-1': 1, 'tri-2': 2}\n",
    "\n",
    "# 需要更改\n",
    "folder_path = r\"E:\\Data\\20230310-iFEMG肌力测试\\zpk-2\"\n",
    "file_name_dic = tricps_dic\n",
    "subject_name = \"zpk\"\n",
    "subject_arg_input = {\"subject_height\": 190,\n",
    "                    \"subject_weight\": 80,\n",
    "                    \"subject_age\": 26,\n",
    "                    \"subject_gender\": 1,\n",
    "                    \"subject_name\": subject_name}\n",
    "###########################################################################\n",
    "# 以上都需要改\n",
    "############################################################################\n",
    "\n",
    "for key, value in file_name_dic.items():\n",
    "    #raw_data = pd.read_table(folder_path+'\\\\'+file_name_list1[i]+'.db', sep = ';', header = None)\n",
    "    #label = read_label(folder_path+'\\\\'+file_name_list1[i]+'.txt')\n",
    "    temp_df = form_feature_df(db_file_path = folder_path + '\\\\' + key + '.db',\n",
    "                              time_file_path = folder_path + '\\\\' + key + '.txt',\n",
    "                              channel_name_dic = signal_channel_dic,\n",
    "                              abandon_ms = 1000,\n",
    "                              strength_level = value,\n",
    "                              **subject_arg_input)\n",
    "    try:\n",
    "        print(temp_df.shape)\n",
    "    except AttributeError:\n",
    "        pass\n",
    "    # 数据加入all_feature_df\n",
    "    all_feature_df = pd.concat([all_feature_df, temp_df], axis=0, ignore_index=True)\n",
    "    print(all_feature_df.shape)\n",
    "    pass\n",
    "\n",
    "all_feature_df.head\n"
   ]
  },
  {
   "cell_type": "code",
   "execution_count": 9,
   "metadata": {},
   "outputs": [
    {
     "name": "stdout",
     "output_type": "stream",
     "text": [
      "File E:\\Data\\20230310-iFEMG肌力测试\\zpk-2\\zpk_tricps_br_202312.csv saved!\n"
     ]
    }
   ],
   "source": [
    "\"\"\"\n",
    "写入文件，增加覆盖检查功能\n",
    "运行前更改：\n",
    "    1. 肌肉名称\n",
    "\"\"\"\n",
    "filename = folder_path + '\\\\' + subject_name + \"_tricps_br_202312.csv\"\n",
    "\n",
    "df_save_csv(all_feature_df, filename)"
   ]
  }
 ],
 "metadata": {
  "kernelspec": {
   "display_name": "Python 3.7.11 ('base')",
   "language": "python",
   "name": "python3"
  },
  "language_info": {
   "codemirror_mode": {
    "name": "ipython",
    "version": 3
   },
   "file_extension": ".py",
   "mimetype": "text/x-python",
   "name": "python",
   "nbconvert_exporter": "python",
   "pygments_lexer": "ipython3",
   "version": "3.10.13"
  },
  "orig_nbformat": 4,
  "vscode": {
   "interpreter": {
    "hash": "380d79c596abafaaa9fb4cb8ba4db6c26c52bcf6afda3a9f10104068bc659f2d"
   }
  }
 },
 "nbformat": 4,
 "nbformat_minor": 2
}
