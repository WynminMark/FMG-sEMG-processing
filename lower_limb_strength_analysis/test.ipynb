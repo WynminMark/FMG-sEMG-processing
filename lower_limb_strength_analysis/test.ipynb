{
 "cells": [
  {
   "cell_type": "code",
   "execution_count": 3,
   "metadata": {},
   "outputs": [],
   "source": [
    "import sys\n",
    "import pandas as pd\n",
    "import datetime\n",
    "\n",
    "sys.path.append(\"..\")\n",
    "from utils.utils_signal_preprocess import getSampleRate, getMeanSampleRate"
   ]
  },
  {
   "cell_type": "markdown",
   "metadata": {},
   "source": [
    "# subject\n",
    "- 241114s1\n",
    "- 241128s2\n",
    "- 241204s3\n",
    "- 241204s4\n",
    "- 241206s5\n",
    "- 241206s6\n",
    "- 241225s7\n",
    "- 241225s8\n"
   ]
  },
  {
   "cell_type": "code",
   "execution_count": null,
   "metadata": {},
   "outputs": [],
   "source": [
    "# b1_df = pd.read_table(r\"D:\\data\\301\\241128s2\\b1\\aqian0.db\", sep=';', header=None)\n",
    "# b2_df = pd.read_table(r\"D:\\data\\301\\241128s2\\b2\\aqian0.db\", sep=';', header=None)\n",
    "\n",
    "b1_df = pd.read_table(r\"E:\\fuckinggggg\\paper_iFEMG_4th\\data\\241114s1\\b1\\aqian0.db\", sep=';', header=None)\n",
    "b2_df = pd.read_table(r\"E:\\fuckinggggg\\paper_iFEMG_4th\\data\\241114s1\\b2\\aqian0.db\", sep=';', header=None)"
   ]
  },
  {
   "cell_type": "code",
   "execution_count": 14,
   "metadata": {},
   "outputs": [
    {
     "data": {
      "text/plain": [
       "1614.7375886524824"
      ]
     },
     "execution_count": 14,
     "metadata": {},
     "output_type": "execute_result"
    }
   ],
   "source": [
    "getMeanSampleRate(r\"E:\\fuckinggggg\\paper_iFEMG_4th\\data\\241114s1\\b1\\ahou0.db\")"
   ]
  },
  {
   "cell_type": "code",
   "execution_count": 15,
   "metadata": {},
   "outputs": [
    {
     "data": {
      "text/plain": [
       "1607.13986013986"
      ]
     },
     "execution_count": 15,
     "metadata": {},
     "output_type": "execute_result"
    }
   ],
   "source": [
    "getMeanSampleRate(r\"E:\\fuckinggggg\\paper_iFEMG_4th\\data\\241114s1\\b2\\ahou0.db\")"
   ]
  },
  {
   "cell_type": "code",
   "execution_count": 8,
   "metadata": {},
   "outputs": [
    {
     "name": "stdout",
     "output_type": "stream",
     "text": [
      "              time_column                     suffix\n",
      "0 2023-01-01 12:00:00.000  2023-01-01 12:00:00.000_1\n",
      "1 2023-01-01 12:00:00.000  2023-01-01 12:00:00.000_2\n",
      "2 2023-01-02 13:30:00.500  2023-01-02 13:30:00.500_1\n",
      "3 2023-01-02 13:30:00.500  2023-01-02 13:30:00.500_2\n",
      "4 2023-01-03 14:45:00.250  2023-01-03 14:45:00.250_1\n"
     ]
    }
   ],
   "source": [
    "# 示例数据\n",
    "data = {'time_column': ['2023-01-01 12:00:00,000', '2023-01-01 12:00:00,000', \n",
    "                        '2023-01-02 13:30:00,500', '2023-01-02 13:30:00,500', \n",
    "                        '2023-01-03 14:45:00,250']}\n",
    "df = pd.DataFrame(data)\n",
    "\n",
    "# 将时间列转换为指定格式的 datetime 类型\n",
    "df['time_column'] = pd.to_datetime(df['time_column'], format=\"%Y-%m-%d %H:%M:%S,%f\")\n",
    "\n",
    "# 添加后缀处理重复值\n",
    "df['unique_time'] = df.groupby('time_column').cumcount() + 1\n",
    "df['suffix'] = df['time_column'].astype(str) + '_' + df['unique_time'].astype(str)\n",
    "\n",
    "# 删除辅助列\n",
    "df.drop(columns=['unique_time'], inplace=True)\n",
    "\n",
    "print(df)"
   ]
  },
  {
   "cell_type": "code",
   "execution_count": null,
   "metadata": {},
   "outputs": [],
   "source": [
    "datetime.datetime.now().timestamp()"
   ]
  }
 ],
 "metadata": {
  "kernelspec": {
   "display_name": "base",
   "language": "python",
   "name": "python3"
  },
  "language_info": {
   "codemirror_mode": {
    "name": "ipython",
    "version": 3
   },
   "file_extension": ".py",
   "mimetype": "text/x-python",
   "name": "python",
   "nbconvert_exporter": "python",
   "pygments_lexer": "ipython3",
   "version": "3.10.13"
  }
 },
 "nbformat": 4,
 "nbformat_minor": 2
}
