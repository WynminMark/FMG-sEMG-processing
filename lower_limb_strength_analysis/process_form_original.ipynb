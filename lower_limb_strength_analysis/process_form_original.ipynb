{
 "cells": [
  {
   "cell_type": "code",
   "execution_count": null,
   "metadata": {},
   "outputs": [],
   "source": [
    "import pandas as pd\n",
    "\n",
    "from ..utils.utils_iFEMG_feature import read_label"
   ]
  },
  {
   "cell_type": "markdown",
   "metadata": {},
   "source": [
    "# muscle name VS ch nums\n",
    "- ch1: RF, Rectus femoris, 股直肌\n",
    "- ch2: LF, Lateral femoris, 股外侧肌\n",
    "- ch3: sartorius, 缝匠肌\n",
    "- ch4: BF, Biceps femoris, 股二头肌\n",
    "- ch5: semitendinosus, 半腱肌\n",
    "- ch6: VM, Vastus medialis, 股内侧肌"
   ]
  },
  {
   "cell_type": "code",
   "execution_count": null,
   "metadata": {},
   "outputs": [],
   "source": [
    "label_data = read_label"
   ]
  }
 ],
 "metadata": {
  "kernelspec": {
   "display_name": "base",
   "language": "python",
   "name": "python3"
  },
  "language_info": {
   "name": "python",
   "version": "3.10.13"
  }
 },
 "nbformat": 4,
 "nbformat_minor": 2
}
